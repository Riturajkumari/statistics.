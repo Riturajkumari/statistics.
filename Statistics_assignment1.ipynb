{
  "cells": [
    {
      "cell_type": "markdown",
      "metadata": {
        "id": "view-in-github",
        "colab_type": "text"
      },
      "source": [
        "<a href=\"https://colab.research.google.com/github/Riturajkumari/statistics./blob/main/Statistics_assignment1.ipynb\" target=\"_parent\"><img src=\"https://colab.research.google.com/assets/colab-badge.svg\" alt=\"Open In Colab\"/></a>"
      ]
    },
    {
      "cell_type": "markdown",
      "id": "9168ca95",
      "metadata": {
        "id": "9168ca95"
      },
      "source": [
        "**Q1. What is Statistics?**"
      ]
    },
    {
      "cell_type": "markdown",
      "id": "5ad766c0",
      "metadata": {
        "id": "5ad766c0"
      },
      "source": [
        "- Statistics is a branch of mathematics that deals with collecting, analyzing, interpreting, and visualizing empirical data.\n",
        "\n",
        "- statistics is the science of collecting, organizing and analysing data.'\n",
        "  - example.\n",
        "   Height of students in classroom"
      ]
    },
    {
      "cell_type": "code",
      "execution_count": null,
      "id": "037ed8f4",
      "metadata": {
        "id": "037ed8f4"
      },
      "outputs": [],
      "source": []
    },
    {
      "cell_type": "markdown",
      "id": "4cfc7906",
      "metadata": {
        "id": "4cfc7906"
      },
      "source": [
        "**Q2. Define the different types of statistics and give an example of when each type might be used.**"
      ]
    },
    {
      "cell_type": "markdown",
      "id": "7e12feda",
      "metadata": {
        "id": "7e12feda"
      },
      "source": [
        "- Descriptive statistics and inferential statistics are the two major areas of statistics.\n",
        " -  Descriptive statistics are for describing the properties of sample and population data (what has happened).\n",
        "  a. measure of central tendency(mean, median, mode)\n",
        "  \n",
        "  b. measure of Dispersion[variance, standard deviation]\n",
        "  \n",
        "  c. different type of Distribution of data.\n",
        "  \n",
        "  example. Histrogram, pdf, pmf\n",
        "  \n",
        "  Example- \" What is thr avearage height of the entire classroom\"."
      ]
    },
    {
      "cell_type": "markdown",
      "id": "fc92da7e",
      "metadata": {
        "id": "fc92da7e"
      },
      "source": [
        "- Inferential statistics use those properties to test hypotheses, reach conclusions, and make predictions.\n",
        "- hypothesis testing,\n",
        "Some popular hypothesis tests are:\n",
        "\n",
        "Chi-square test\n",
        "T-test\n",
        "Z-test\n",
        "Analysis of Variance (ANOVA)\n",
        "\n",
        " example- Are the height of the Students in classroom similar to what you expect in the entire college .\n"
      ]
    },
    {
      "cell_type": "markdown",
      "id": "5ccf4bca",
      "metadata": {
        "id": "5ccf4bca"
      },
      "source": [
        "**Q3. What are the different types of data and how do they differ from each other? Provide an example of\n",
        "each type of data.**"
      ]
    },
    {
      "cell_type": "markdown",
      "id": "2ea1708d",
      "metadata": {
        "id": "2ea1708d"
      },
      "source": [
        "different types of data\n",
        "1. Quantitative\n",
        "   - Discrete\n",
        "   - Countinuous\n",
        "2. Qualitative\n",
        "   - nominal\n",
        "   - ordinal"
      ]
    },
    {
      "cell_type": "markdown",
      "id": "5bd8f789",
      "metadata": {
        "id": "5bd8f789"
      },
      "source": [
        "- Discrete (whole number)\n",
        "\n",
        "example- number of bank Account , number of children in a family."
      ]
    },
    {
      "cell_type": "markdown",
      "id": "06927cec",
      "metadata": {
        "id": "06927cec"
      },
      "source": [
        "- Countinuous\n",
        "\n",
        "example- weight, height, temprature, speed"
      ]
    },
    {
      "cell_type": "markdown",
      "id": "e8269a92",
      "metadata": {
        "id": "e8269a92"
      },
      "source": [
        "- nominal\n",
        "\n",
        "example- gender(male, female) , Blood group, pin code\n"
      ]
    },
    {
      "cell_type": "markdown",
      "id": "bee395a1",
      "metadata": {
        "id": "bee395a1"
      },
      "source": [
        "- Ordinal\n",
        "\n",
        " example- Rank Category, Customer feedback, good, bad , better"
      ]
    },
    {
      "cell_type": "code",
      "execution_count": null,
      "id": "fb6e2715",
      "metadata": {
        "id": "fb6e2715"
      },
      "outputs": [],
      "source": []
    },
    {
      "cell_type": "markdown",
      "id": "07da8b4c",
      "metadata": {
        "id": "07da8b4c"
      },
      "source": [
        "**Q4. Categorise the following datasets with respect to quantitative and qualitative data types:**\n",
        "\n",
        "(i) Grading in exam: A+, A, B+, B, C+, C, D, E\n",
        "\n",
        "(ii) Colour of mangoes: yellow, green, orange, red\n",
        "\n",
        "(iii) Height data of a class: [178.9, 179, 179.5, 176, 177.2, 178.3, 175.8,...]\n",
        "\n",
        "(iv) Number of mangoes exported by a farm: [500, 600, 478, 672, ...]"
      ]
    },
    {
      "cell_type": "markdown",
      "id": "a5363f3d",
      "metadata": {
        "id": "a5363f3d"
      },
      "source": [
        "**(i) Grading in exam: A+, A, B+, B, C+, C, D, E**\n",
        "\n",
        "- ordinal"
      ]
    },
    {
      "cell_type": "markdown",
      "id": "443e6253",
      "metadata": {
        "id": "443e6253"
      },
      "source": [
        "**(ii) Colour of mangoes: yellow, green, orange, red**\n",
        "- Nominal"
      ]
    },
    {
      "cell_type": "markdown",
      "id": "b008e1a1",
      "metadata": {
        "id": "b008e1a1"
      },
      "source": [
        "**(iii) Height data of a class: [178.9, 179, 179.5, 176, 177.2, 178.3, 175.8,...]**\n",
        "- Countinous"
      ]
    },
    {
      "cell_type": "markdown",
      "id": "7d7b19af",
      "metadata": {
        "id": "7d7b19af"
      },
      "source": [
        "**(iv) Number of mangoes exported by a farm: [500, 600, 478, 672, ...]**\n",
        "- Discrete"
      ]
    },
    {
      "cell_type": "code",
      "execution_count": null,
      "id": "a661baba",
      "metadata": {
        "id": "a661baba"
      },
      "outputs": [],
      "source": []
    },
    {
      "cell_type": "markdown",
      "id": "6c7eab36",
      "metadata": {
        "id": "6c7eab36"
      },
      "source": [
        "**Q5. Explain the concept of levels of measurement and give an example of a variable for each level.**"
      ]
    },
    {
      "cell_type": "markdown",
      "id": "9521739d",
      "metadata": {
        "id": "9521739d"
      },
      "source": [
        "**Scale of Measurement**\n",
        "- Nominal Scale Data\n",
        "- Ordinal Scale data\n",
        "- Interval Scale Data\n",
        "- Ratio Scale Data"
      ]
    },
    {
      "cell_type": "markdown",
      "id": "d88ed886",
      "metadata": {
        "id": "d88ed886"
      },
      "source": [
        "- Nominal: the data can only be categorized\n",
        "- Ordinal: the data can be categorized and ranked\n",
        "- Interval: the data can be categorized, ranked, and evenly spaced\n",
        "- Ratio: the data can be categorized, ranked, evenly spaced, and has a natural zero."
      ]
    },
    {
      "cell_type": "markdown",
      "id": "0084a217",
      "metadata": {
        "id": "0084a217"
      },
      "source": [
        "1. Nominal : You can categorize your data by labelling them in mutually exclusive groups, but there is no order between the categories.\n"
      ]
    },
    {
      "cell_type": "markdown",
      "id": "76ea16cf",
      "metadata": {
        "id": "76ea16cf"
      },
      "source": [
        "1. Nominal Scale Data\n",
        " - Qualitative / Categorical\n",
        "2. EXample:\n",
        "  -  City of birth\n",
        "  - Gender\n",
        "  - Ethnicity\n",
        "   - Car brands\n",
        "   - Marital status\n",
        " - Order does not matter\n",
        " example, favorite color\n",
        " red -  5 - 50%\n",
        " blue - 3- 30%\n",
        " Orange -  2- 20%"
      ]
    },
    {
      "cell_type": "markdown",
      "id": "cde07999",
      "metadata": {
        "id": "cde07999"
      },
      "source": [
        "2. Ordinal Scale data- categorize and rank your data in an order, but you cannot say anything about the intervals between the rankings.\n",
        " - Ranking is important\n",
        " - order matter\n",
        "a. example\n",
        " Top 5 Olympic medallists\n",
        "Language ability (e.g., beginner, intermediate, fluent"
      ]
    },
    {
      "cell_type": "markdown",
      "id": "0993140d",
      "metadata": {
        "id": "0993140d"
      },
      "source": [
        "3. Interval Scale Data\n",
        "- the order matter\n",
        "- difference can be measured\n",
        "- Ratio cannot be measured\n",
        "- No true starting points\n",
        "- The difference between any two adjacent temperatures is the same: one degree. But  zero degrees is defined differently depending on the scale – it doesn’t mean an absolute absence of temperature.\n",
        "\n",
        "example\n",
        "Test scores (e.g., IQ or exams)\n",
        "Personality inventories\n",
        "Temperature in Fahrenheit or Celsius"
      ]
    },
    {
      "cell_type": "markdown",
      "id": "be761726",
      "metadata": {
        "id": "be761726"
      },
      "source": [
        "4. Ratio Scale Data\n",
        "- The order matter\n",
        "- Difference are measurable(including ratio )\n",
        "- it contain a  \"0\"  starting point\n",
        "\n",
        "Height\n",
        "Age\n",
        "Weight\n",
        "Temperature in Kelvin\n",
        "\n",
        "example-  student marks in a class\n",
        "90, 60, 30, 75, 40, 50\n",
        " Asscending order- 30,40,50,60,75,90\n",
        " 40-30= 10\n",
        " 50-30= 20\n",
        " ratio= 90: 30= 3:1"
      ]
    },
    {
      "cell_type": "code",
      "execution_count": null,
      "id": "cd17b470",
      "metadata": {
        "id": "cd17b470"
      },
      "outputs": [],
      "source": []
    },
    {
      "cell_type": "markdown",
      "id": "313f18c7",
      "metadata": {
        "id": "313f18c7"
      },
      "source": [
        "**Q6. Why is it important to understand the level of measurement when analyzing data? Provide an\n",
        "example to illustrate your answer.**"
      ]
    },
    {
      "cell_type": "markdown",
      "id": "1131ccd5",
      "metadata": {
        "id": "1131ccd5"
      },
      "source": [
        "- Levels of measurement are important because they indicate the extent to which statisticians, marketing analysts and financial analysts can use existing data. For instance, if you classify your data at the ordinal level of measurement, you know that you can evaluate how items compare to each other based on a specific hierarchy.\n",
        "\n",
        "- The level at which you measure a variable determines how you can analyze your data.\n",
        "\n",
        "The different levels limit which descriptive statistics you can use to get an overall summary of your data, and which type of inferential statistics you can perform on your data to support or refute your hypothesis."
      ]
    },
    {
      "cell_type": "markdown",
      "id": "ac27551c",
      "metadata": {
        "id": "ac27551c"
      },
      "source": [
        "Participant\t   Income (ordinal level)\t    Income (ratio level)\n",
        "\n",
        "A\t             Bracket 1\t                              $12,550\n",
        "\n",
        "B\t            Bracket 2\t                              $39,700\n",
        "\n",
        "C\t            Bracket 3\t                              $40,300"
      ]
    },
    {
      "cell_type": "markdown",
      "id": "a4e49713",
      "metadata": {
        "id": "a4e49713"
      },
      "source": [
        "At a ratio level, you can see that the difference between A and B’s incomes is far greater than the difference between B and C’s incomes."
      ]
    },
    {
      "cell_type": "markdown",
      "id": "d57c162c",
      "metadata": {
        "id": "d57c162c"
      },
      "source": [
        "**Q7. How nominal data type is different from ordinal data type.**"
      ]
    },
    {
      "cell_type": "markdown",
      "id": "7e50339f",
      "metadata": {
        "id": "7e50339f"
      },
      "source": [
        "- Ordinal data is data that can be ranked or ordered. Examples include data taken from a poll or survey.\n",
        "- Nominal data is data that can be made to fit various categories. Examples include whether an animal is a mammal, fish, reptile, amphibian, or bird."
      ]
    },
    {
      "cell_type": "code",
      "execution_count": null,
      "id": "20d8e817",
      "metadata": {
        "id": "20d8e817"
      },
      "outputs": [],
      "source": []
    },
    {
      "cell_type": "code",
      "execution_count": null,
      "id": "f4cc68ef",
      "metadata": {
        "id": "f4cc68ef"
      },
      "outputs": [],
      "source": []
    },
    {
      "cell_type": "markdown",
      "id": "72804aaf",
      "metadata": {
        "id": "72804aaf"
      },
      "source": [
        "**Q8. Which type of plot can be used to display data in terms of range?**"
      ]
    },
    {
      "cell_type": "markdown",
      "id": "fcfc00ca",
      "metadata": {
        "id": "fcfc00ca"
      },
      "source": [
        "-  all valuable and are mainstream in terms of classical analysis. There are also many statistical tools generally referred to as graphical techniques. These include:[1]\n",
        "\n",
        "  -  scatter plots\n",
        "   - spectrum plots\n",
        "   - histograms\n",
        "   - probability plots\n",
        "   - residual plots\n",
        "   -  box plots\n"
      ]
    },
    {
      "cell_type": "code",
      "execution_count": null,
      "id": "9d14a334",
      "metadata": {
        "colab": {
          "base_uri": "https://localhost:8080/",
          "height": 206
        },
        "id": "9d14a334",
        "outputId": "c657fd66-697e-4d8e-dda0-7addf24d560b"
      },
      "outputs": [
        {
          "output_type": "execute_result",
          "data": {
            "text/plain": [
              "   sepal_length  sepal_width  petal_length  petal_width species\n",
              "0           5.1          3.5           1.4          0.2  setosa\n",
              "1           4.9          3.0           1.4          0.2  setosa\n",
              "2           4.7          3.2           1.3          0.2  setosa\n",
              "3           4.6          3.1           1.5          0.2  setosa\n",
              "4           5.0          3.6           1.4          0.2  setosa"
            ],
            "text/html": [
              "\n",
              "  <div id=\"df-ecd3b3a8-4faa-4576-a9b8-4075dbace31c\">\n",
              "    <div class=\"colab-df-container\">\n",
              "      <div>\n",
              "<style scoped>\n",
              "    .dataframe tbody tr th:only-of-type {\n",
              "        vertical-align: middle;\n",
              "    }\n",
              "\n",
              "    .dataframe tbody tr th {\n",
              "        vertical-align: top;\n",
              "    }\n",
              "\n",
              "    .dataframe thead th {\n",
              "        text-align: right;\n",
              "    }\n",
              "</style>\n",
              "<table border=\"1\" class=\"dataframe\">\n",
              "  <thead>\n",
              "    <tr style=\"text-align: right;\">\n",
              "      <th></th>\n",
              "      <th>sepal_length</th>\n",
              "      <th>sepal_width</th>\n",
              "      <th>petal_length</th>\n",
              "      <th>petal_width</th>\n",
              "      <th>species</th>\n",
              "    </tr>\n",
              "  </thead>\n",
              "  <tbody>\n",
              "    <tr>\n",
              "      <th>0</th>\n",
              "      <td>5.1</td>\n",
              "      <td>3.5</td>\n",
              "      <td>1.4</td>\n",
              "      <td>0.2</td>\n",
              "      <td>setosa</td>\n",
              "    </tr>\n",
              "    <tr>\n",
              "      <th>1</th>\n",
              "      <td>4.9</td>\n",
              "      <td>3.0</td>\n",
              "      <td>1.4</td>\n",
              "      <td>0.2</td>\n",
              "      <td>setosa</td>\n",
              "    </tr>\n",
              "    <tr>\n",
              "      <th>2</th>\n",
              "      <td>4.7</td>\n",
              "      <td>3.2</td>\n",
              "      <td>1.3</td>\n",
              "      <td>0.2</td>\n",
              "      <td>setosa</td>\n",
              "    </tr>\n",
              "    <tr>\n",
              "      <th>3</th>\n",
              "      <td>4.6</td>\n",
              "      <td>3.1</td>\n",
              "      <td>1.5</td>\n",
              "      <td>0.2</td>\n",
              "      <td>setosa</td>\n",
              "    </tr>\n",
              "    <tr>\n",
              "      <th>4</th>\n",
              "      <td>5.0</td>\n",
              "      <td>3.6</td>\n",
              "      <td>1.4</td>\n",
              "      <td>0.2</td>\n",
              "      <td>setosa</td>\n",
              "    </tr>\n",
              "  </tbody>\n",
              "</table>\n",
              "</div>\n",
              "      <button class=\"colab-df-convert\" onclick=\"convertToInteractive('df-ecd3b3a8-4faa-4576-a9b8-4075dbace31c')\"\n",
              "              title=\"Convert this dataframe to an interactive table.\"\n",
              "              style=\"display:none;\">\n",
              "        \n",
              "  <svg xmlns=\"http://www.w3.org/2000/svg\" height=\"24px\"viewBox=\"0 0 24 24\"\n",
              "       width=\"24px\">\n",
              "    <path d=\"M0 0h24v24H0V0z\" fill=\"none\"/>\n",
              "    <path d=\"M18.56 5.44l.94 2.06.94-2.06 2.06-.94-2.06-.94-.94-2.06-.94 2.06-2.06.94zm-11 1L8.5 8.5l.94-2.06 2.06-.94-2.06-.94L8.5 2.5l-.94 2.06-2.06.94zm10 10l.94 2.06.94-2.06 2.06-.94-2.06-.94-.94-2.06-.94 2.06-2.06.94z\"/><path d=\"M17.41 7.96l-1.37-1.37c-.4-.4-.92-.59-1.43-.59-.52 0-1.04.2-1.43.59L10.3 9.45l-7.72 7.72c-.78.78-.78 2.05 0 2.83L4 21.41c.39.39.9.59 1.41.59.51 0 1.02-.2 1.41-.59l7.78-7.78 2.81-2.81c.8-.78.8-2.07 0-2.86zM5.41 20L4 18.59l7.72-7.72 1.47 1.35L5.41 20z\"/>\n",
              "  </svg>\n",
              "      </button>\n",
              "      \n",
              "  <style>\n",
              "    .colab-df-container {\n",
              "      display:flex;\n",
              "      flex-wrap:wrap;\n",
              "      gap: 12px;\n",
              "    }\n",
              "\n",
              "    .colab-df-convert {\n",
              "      background-color: #E8F0FE;\n",
              "      border: none;\n",
              "      border-radius: 50%;\n",
              "      cursor: pointer;\n",
              "      display: none;\n",
              "      fill: #1967D2;\n",
              "      height: 32px;\n",
              "      padding: 0 0 0 0;\n",
              "      width: 32px;\n",
              "    }\n",
              "\n",
              "    .colab-df-convert:hover {\n",
              "      background-color: #E2EBFA;\n",
              "      box-shadow: 0px 1px 2px rgba(60, 64, 67, 0.3), 0px 1px 3px 1px rgba(60, 64, 67, 0.15);\n",
              "      fill: #174EA6;\n",
              "    }\n",
              "\n",
              "    [theme=dark] .colab-df-convert {\n",
              "      background-color: #3B4455;\n",
              "      fill: #D2E3FC;\n",
              "    }\n",
              "\n",
              "    [theme=dark] .colab-df-convert:hover {\n",
              "      background-color: #434B5C;\n",
              "      box-shadow: 0px 1px 3px 1px rgba(0, 0, 0, 0.15);\n",
              "      filter: drop-shadow(0px 1px 2px rgba(0, 0, 0, 0.3));\n",
              "      fill: #FFFFFF;\n",
              "    }\n",
              "  </style>\n",
              "\n",
              "      <script>\n",
              "        const buttonEl =\n",
              "          document.querySelector('#df-ecd3b3a8-4faa-4576-a9b8-4075dbace31c button.colab-df-convert');\n",
              "        buttonEl.style.display =\n",
              "          google.colab.kernel.accessAllowed ? 'block' : 'none';\n",
              "\n",
              "        async function convertToInteractive(key) {\n",
              "          const element = document.querySelector('#df-ecd3b3a8-4faa-4576-a9b8-4075dbace31c');\n",
              "          const dataTable =\n",
              "            await google.colab.kernel.invokeFunction('convertToInteractive',\n",
              "                                                     [key], {});\n",
              "          if (!dataTable) return;\n",
              "\n",
              "          const docLinkHtml = 'Like what you see? Visit the ' +\n",
              "            '<a target=\"_blank\" href=https://colab.research.google.com/notebooks/data_table.ipynb>data table notebook</a>'\n",
              "            + ' to learn more about interactive tables.';\n",
              "          element.innerHTML = '';\n",
              "          dataTable['output_type'] = 'display_data';\n",
              "          await google.colab.output.renderOutput(dataTable, element);\n",
              "          const docLink = document.createElement('div');\n",
              "          docLink.innerHTML = docLinkHtml;\n",
              "          element.appendChild(docLink);\n",
              "        }\n",
              "      </script>\n",
              "    </div>\n",
              "  </div>\n",
              "  "
            ]
          },
          "metadata": {},
          "execution_count": 7
        }
      ],
      "source": [
        "# load the dataset\n",
        "iris= sns.load_dataset('iris')\n",
        "iris.head()"
      ]
    },
    {
      "cell_type": "code",
      "source": [
        "# using scatter plot\n",
        "import matplotlib.pyplot as plt\n",
        "iris.plot(kind =\"scatter\", x ='sepal_length', y ='petal_length')\n",
        "plt.grid()"
      ],
      "metadata": {
        "colab": {
          "base_uri": "https://localhost:8080/",
          "height": 315
        },
        "id": "rlowj4f5wYvX",
        "outputId": "88c3eb64-9903-43be-a3c5-ce77bf90fd60"
      },
      "id": "rlowj4f5wYvX",
      "execution_count": null,
      "outputs": [
        {
          "output_type": "stream",
          "name": "stderr",
          "text": [
            "/usr/local/lib/python3.9/dist-packages/pandas/plotting/_matplotlib/core.py:1114: UserWarning: No data for colormapping provided via 'c'. Parameters 'cmap' will be ignored\n",
            "  scatter = ax.scatter(\n"
          ]
        },
        {
          "output_type": "display_data",
          "data": {
            "text/plain": [
              "<Figure size 432x288 with 1 Axes>"
            ],
            "image/png": "[encoded data removed]"
          },
          "metadata": {
            "needs_background": "light"
          }
        }
      ]
    },
    {
      "cell_type": "code",
      "source": [
        "# using hitogram\n",
        "plt.figure(figsize = (10, 7))\n",
        "x = iris.sepal_length\n",
        "plt.hist(x, bins = 20, color = \"green\")\n",
        "plt.title(\"Sepal Width in cm\")\n",
        "plt.xlabel(\"Sepal_Width_cm\")\n",
        "plt.ylabel(\"Count\")\n",
        "\n",
        "plt.show()\n"
      ],
      "metadata": {
        "colab": {
          "base_uri": "https://localhost:8080/",
          "height": 459
        },
        "id": "yJ6jzflrwYxu",
        "outputId": "c8785df3-4258-4f03-abf2-02ece6eab20b"
      },
      "id": "yJ6jzflrwYxu",
      "execution_count": null,
      "outputs": [
        {
          "output_type": "display_data",
          "data": {
            "text/plain": [
              "<Figure size 720x504 with 1 Axes>"
            ],
            "image/png": "[encoded data removed]"
          },
          "metadata": {
            "needs_background": "light"
          }
        }
      ]
    },
    {
      "cell_type": "code",
      "source": [],
      "metadata": {
        "id": "QwS19MF1wY0F"
      },
      "id": "QwS19MF1wY0F",
      "execution_count": null,
      "outputs": []
    },
    {
      "cell_type": "code",
      "source": [],
      "metadata": {
        "id": "CTHzuAhjwY3r"
      },
      "id": "CTHzuAhjwY3r",
      "execution_count": null,
      "outputs": []
    },
    {
      "cell_type": "markdown",
      "id": "d761631f",
      "metadata": {
        "id": "d761631f"
      },
      "source": [
        "**Q9. Describe the difference between descriptive and inferential statistics. Give an example of each\n",
        "type of statistics and explain how they are used.**"
      ]
    },
    {
      "cell_type": "markdown",
      "id": "d9262032",
      "metadata": {
        "id": "d9262032"
      },
      "source": [
        "- Descriptive statistics are useful because they allow you to understand a group of data much more quickly and easily compared to just staring at rows and rows of raw data values.\n",
        "- Using descriptive statistics, we could find the average score and create a graph that helps us visualize the distribution of scores.\n",
        "- For example, suppose we have a set of raw data that shows the test scores of 1,000 students at a particular school. We might be interested in the average test score along with the distribution of test scores.\n"
      ]
    },
    {
      "cell_type": "markdown",
      "id": "cc26f08a",
      "metadata": {
        "id": "cc26f08a"
      },
      "source": [
        "- inferential statistics uses a small sample of data to draw inferences about the larger population that the sample came from.\n",
        "- For example, we might be interested in understanding the political preferences of millions of people in a country.\n"
      ]
    },
    {
      "cell_type": "markdown",
      "id": "93d808db",
      "metadata": {
        "id": "93d808db"
      },
      "source": [
        "**use a random sampling method.**\n",
        "- A simple random sample\n",
        "- A systematic random sample\n",
        "- A cluster random sample\n",
        "- A stratified random sample"
      ]
    },
    {
      "cell_type": "code",
      "execution_count": null,
      "id": "7ec8d6a5",
      "metadata": {
        "id": "7ec8d6a5"
      },
      "outputs": [],
      "source": []
    },
    {
      "cell_type": "code",
      "execution_count": null,
      "id": "2a9e11e3",
      "metadata": {
        "id": "2a9e11e3"
      },
      "outputs": [],
      "source": []
    },
    {
      "cell_type": "code",
      "execution_count": null,
      "id": "4823dfc3",
      "metadata": {
        "id": "4823dfc3"
      },
      "outputs": [],
      "source": []
    },
    {
      "cell_type": "markdown",
      "id": "d6b909b6",
      "metadata": {
        "id": "d6b909b6"
      },
      "source": [
        "**Q10. What are some common measures of central tendency and variability used in statistics? Explain\n",
        "how each measure can be used to describe a dataset.**"
      ]
    },
    {
      "cell_type": "markdown",
      "id": "9fcd6129",
      "metadata": {
        "id": "9fcd6129"
      },
      "source": [
        " - if we sample from a\n",
        "population using a sufficiently large sample size, the mean of the samples (also known as the sample\n",
        "population) will be normally distributed (assuming true random sampling), the mean tending to the mean\n",
        "of the population and variance equal to the variance of the population divided by the size of the sampling.\n",
        "What’s especially important is that this will be true regardless of the distribution of the original population."
      ]
    },
    {
      "cell_type": "markdown",
      "id": "9cce84ad",
      "metadata": {
        "id": "9cce84ad"
      },
      "source": [
        "- A measure of central tendency is a single value that represents the center point of a dataset. This value can also be referred to as “the central location” of a dataset.\n",
        "-  there are three common measures of central tendency:\n",
        "\n",
        "a. The mean\n",
        "\n",
        "b. The median\n",
        "\n",
        "c. The mode"
      ]
    },
    {
      "cell_type": "code",
      "source": [],
      "metadata": {
        "id": "VluUwtjGujSM"
      },
      "id": "VluUwtjGujSM",
      "execution_count": null,
      "outputs": []
    },
    {
      "cell_type": "markdown",
      "source": [
        "**Man**\n",
        "- The average taken of given observations is called Mean.\n",
        "- Mean= x̄ = ∑x/ N\n",
        "- Add up all the numbers and divide by the total number of terms\n",
        "**Median**\n",
        "- The middle number in a given set of observations is called Median.\n",
        "- Place all the numbers in ascending or descending order\n",
        "- If the total number of observations (n) are odd then median is:\n",
        "\n",
        "Median = (n + 1/2)th observation  \n",
        "- If the total number of observations (n) are even number, then the formula is given below:\n",
        "\n",
        "Median = (n/2)th observation + (n/2+1)th observation /2\n",
        "**Mode**\n",
        "- The mode is the most frequently occurring observation or value.\n",
        "- The most frequently occurred number in a given set of observations is called mode."
      ],
      "metadata": {
        "id": "BYKnYqUOuj0R"
      },
      "id": "BYKnYqUOuj0R"
    },
    {
      "cell_type": "code",
      "execution_count": null,
      "id": "edb896f8",
      "metadata": {
        "id": "edb896f8"
      },
      "outputs": [],
      "source": [
        "ages_lst=[23,43,23,56,74,32,68,98,45,32]"
      ]
    },
    {
      "cell_type": "code",
      "execution_count": null,
      "id": "10178761",
      "metadata": {
        "id": "10178761",
        "outputId": "aa863187-f0f6-4494-9727-b51860820f46"
      },
      "outputs": [
        {
          "data": {
            "text/plain": [
              "49.4"
            ]
          },
          "execution_count": 3,
          "metadata": {},
          "output_type": "execute_result"
        }
      ],
      "source": [
        "import numpy as np\n",
        "np.mean(ages_lst)"
      ]
    },
    {
      "cell_type": "code",
      "execution_count": null,
      "id": "b4404d01",
      "metadata": {
        "id": "b4404d01",
        "outputId": "91722678-4ebe-4e29-e484-964de4823d9e"
      },
      "outputs": [
        {
          "data": {
            "text/plain": [
              "44.0"
            ]
          },
          "execution_count": 5,
          "metadata": {},
          "output_type": "execute_result"
        }
      ],
      "source": [
        "np.median(ages_lst)"
      ]
    },
    {
      "cell_type": "code",
      "execution_count": null,
      "id": "e1877509",
      "metadata": {
        "id": "e1877509"
      },
      "outputs": [],
      "source": [
        "import seaborn as sns\n"
      ]
    },
    {
      "cell_type": "code",
      "source": [
        "tips= sns.load_dataset(\"tips\")\n",
        "tips.head()"
      ],
      "metadata": {
        "colab": {
          "base_uri": "https://localhost:8080/",
          "height": 206
        },
        "id": "RyrUHrVtvjnn",
        "outputId": "2d47fe0d-4e33-4750-e766-7e9db1238843"
      },
      "id": "RyrUHrVtvjnn",
      "execution_count": null,
      "outputs": [
        {
          "output_type": "execute_result",
          "data": {
            "text/plain": [
              "   total_bill   tip     sex smoker  day    time  size\n",
              "0       16.99  1.01  Female     No  Sun  Dinner     2\n",
              "1       10.34  1.66    Male     No  Sun  Dinner     3\n",
              "2       21.01  3.50    Male     No  Sun  Dinner     3\n",
              "3       23.68  3.31    Male     No  Sun  Dinner     2\n",
              "4       24.59  3.61  Female     No  Sun  Dinner     4"
            ],
            "text/html": [
              "\n",
              "  <div id=\"df-f7ec6f80-b3d5-48f7-b0c0-48cf977fbcad\">\n",
              "    <div class=\"colab-df-container\">\n",
              "      <div>\n",
              "<style scoped>\n",
              "    .dataframe tbody tr th:only-of-type {\n",
              "        vertical-align: middle;\n",
              "    }\n",
              "\n",
              "    .dataframe tbody tr th {\n",
              "        vertical-align: top;\n",
              "    }\n",
              "\n",
              "    .dataframe thead th {\n",
              "        text-align: right;\n",
              "    }\n",
              "</style>\n",
              "<table border=\"1\" class=\"dataframe\">\n",
              "  <thead>\n",
              "    <tr style=\"text-align: right;\">\n",
              "      <th></th>\n",
              "      <th>total_bill</th>\n",
              "      <th>tip</th>\n",
              "      <th>sex</th>\n",
              "      <th>smoker</th>\n",
              "      <th>day</th>\n",
              "      <th>time</th>\n",
              "      <th>size</th>\n",
              "    </tr>\n",
              "  </thead>\n",
              "  <tbody>\n",
              "    <tr>\n",
              "      <th>0</th>\n",
              "      <td>16.99</td>\n",
              "      <td>1.01</td>\n",
              "      <td>Female</td>\n",
              "      <td>No</td>\n",
              "      <td>Sun</td>\n",
              "      <td>Dinner</td>\n",
              "      <td>2</td>\n",
              "    </tr>\n",
              "    <tr>\n",
              "      <th>1</th>\n",
              "      <td>10.34</td>\n",
              "      <td>1.66</td>\n",
              "      <td>Male</td>\n",
              "      <td>No</td>\n",
              "      <td>Sun</td>\n",
              "      <td>Dinner</td>\n",
              "      <td>3</td>\n",
              "    </tr>\n",
              "    <tr>\n",
              "      <th>2</th>\n",
              "      <td>21.01</td>\n",
              "      <td>3.50</td>\n",
              "      <td>Male</td>\n",
              "      <td>No</td>\n",
              "      <td>Sun</td>\n",
              "      <td>Dinner</td>\n",
              "      <td>3</td>\n",
              "    </tr>\n",
              "    <tr>\n",
              "      <th>3</th>\n",
              "      <td>23.68</td>\n",
              "      <td>3.31</td>\n",
              "      <td>Male</td>\n",
              "      <td>No</td>\n",
              "      <td>Sun</td>\n",
              "      <td>Dinner</td>\n",
              "      <td>2</td>\n",
              "    </tr>\n",
              "    <tr>\n",
              "      <th>4</th>\n",
              "      <td>24.59</td>\n",
              "      <td>3.61</td>\n",
              "      <td>Female</td>\n",
              "      <td>No</td>\n",
              "      <td>Sun</td>\n",
              "      <td>Dinner</td>\n",
              "      <td>4</td>\n",
              "    </tr>\n",
              "  </tbody>\n",
              "</table>\n",
              "</div>\n",
              "      <button class=\"colab-df-convert\" onclick=\"convertToInteractive('df-f7ec6f80-b3d5-48f7-b0c0-48cf977fbcad')\"\n",
              "              title=\"Convert this dataframe to an interactive table.\"\n",
              "              style=\"display:none;\">\n",
              "        \n",
              "  <svg xmlns=\"http://www.w3.org/2000/svg\" height=\"24px\"viewBox=\"0 0 24 24\"\n",
              "       width=\"24px\">\n",
              "    <path d=\"M0 0h24v24H0V0z\" fill=\"none\"/>\n",
              "    <path d=\"M18.56 5.44l.94 2.06.94-2.06 2.06-.94-2.06-.94-.94-2.06-.94 2.06-2.06.94zm-11 1L8.5 8.5l.94-2.06 2.06-.94-2.06-.94L8.5 2.5l-.94 2.06-2.06.94zm10 10l.94 2.06.94-2.06 2.06-.94-2.06-.94-.94-2.06-.94 2.06-2.06.94z\"/><path d=\"M17.41 7.96l-1.37-1.37c-.4-.4-.92-.59-1.43-.59-.52 0-1.04.2-1.43.59L10.3 9.45l-7.72 7.72c-.78.78-.78 2.05 0 2.83L4 21.41c.39.39.9.59 1.41.59.51 0 1.02-.2 1.41-.59l7.78-7.78 2.81-2.81c.8-.78.8-2.07 0-2.86zM5.41 20L4 18.59l7.72-7.72 1.47 1.35L5.41 20z\"/>\n",
              "  </svg>\n",
              "      </button>\n",
              "      \n",
              "  <style>\n",
              "    .colab-df-container {\n",
              "      display:flex;\n",
              "      flex-wrap:wrap;\n",
              "      gap: 12px;\n",
              "    }\n",
              "\n",
              "    .colab-df-convert {\n",
              "      background-color: #E8F0FE;\n",
              "      border: none;\n",
              "      border-radius: 50%;\n",
              "      cursor: pointer;\n",
              "      display: none;\n",
              "      fill: #1967D2;\n",
              "      height: 32px;\n",
              "      padding: 0 0 0 0;\n",
              "      width: 32px;\n",
              "    }\n",
              "\n",
              "    .colab-df-convert:hover {\n",
              "      background-color: #E2EBFA;\n",
              "      box-shadow: 0px 1px 2px rgba(60, 64, 67, 0.3), 0px 1px 3px 1px rgba(60, 64, 67, 0.15);\n",
              "      fill: #174EA6;\n",
              "    }\n",
              "\n",
              "    [theme=dark] .colab-df-convert {\n",
              "      background-color: #3B4455;\n",
              "      fill: #D2E3FC;\n",
              "    }\n",
              "\n",
              "    [theme=dark] .colab-df-convert:hover {\n",
              "      background-color: #434B5C;\n",
              "      box-shadow: 0px 1px 3px 1px rgba(0, 0, 0, 0.15);\n",
              "      filter: drop-shadow(0px 1px 2px rgba(0, 0, 0, 0.3));\n",
              "      fill: #FFFFFF;\n",
              "    }\n",
              "  </style>\n",
              "\n",
              "      <script>\n",
              "        const buttonEl =\n",
              "          document.querySelector('#df-f7ec6f80-b3d5-48f7-b0c0-48cf977fbcad button.colab-df-convert');\n",
              "        buttonEl.style.display =\n",
              "          google.colab.kernel.accessAllowed ? 'block' : 'none';\n",
              "\n",
              "        async function convertToInteractive(key) {\n",
              "          const element = document.querySelector('#df-f7ec6f80-b3d5-48f7-b0c0-48cf977fbcad');\n",
              "          const dataTable =\n",
              "            await google.colab.kernel.invokeFunction('convertToInteractive',\n",
              "                                                     [key], {});\n",
              "          if (!dataTable) return;\n",
              "\n",
              "          const docLinkHtml = 'Like what you see? Visit the ' +\n",
              "            '<a target=\"_blank\" href=https://colab.research.google.com/notebooks/data_table.ipynb>data table notebook</a>'\n",
              "            + ' to learn more about interactive tables.';\n",
              "          element.innerHTML = '';\n",
              "          dataTable['output_type'] = 'display_data';\n",
              "          await google.colab.output.renderOutput(dataTable, element);\n",
              "          const docLink = document.createElement('div');\n",
              "          docLink.innerHTML = docLinkHtml;\n",
              "          element.appendChild(docLink);\n",
              "        }\n",
              "      </script>\n",
              "    </div>\n",
              "  </div>\n",
              "  "
            ]
          },
          "metadata": {},
          "execution_count": 4
        }
      ]
    },
    {
      "cell_type": "code",
      "source": [
        "# checked the central tendency\n",
        "tips.describe()"
      ],
      "metadata": {
        "colab": {
          "base_uri": "https://localhost:8080/",
          "height": 300
        },
        "id": "h4AHkle-vjrJ",
        "outputId": "89bb7a68-f794-4b7c-aff6-f0130c4a29ea"
      },
      "id": "h4AHkle-vjrJ",
      "execution_count": null,
      "outputs": [
        {
          "output_type": "execute_result",
          "data": {
            "text/plain": [
              "       total_bill         tip        size\n",
              "count  244.000000  244.000000  244.000000\n",
              "mean    19.785943    2.998279    2.569672\n",
              "std      8.902412    1.383638    0.951100\n",
              "min      3.070000    1.000000    1.000000\n",
              "25%     13.347500    2.000000    2.000000\n",
              "50%     17.795000    2.900000    2.000000\n",
              "75%     24.127500    3.562500    3.000000\n",
              "max     50.810000   10.000000    6.000000"
            ],
            "text/html": [
              "\n",
              "  <div id=\"df-3e6ec58e-bfe5-4e5a-9a6b-3af4491c8b85\">\n",
              "    <div class=\"colab-df-container\">\n",
              "      <div>\n",
              "<style scoped>\n",
              "    .dataframe tbody tr th:only-of-type {\n",
              "        vertical-align: middle;\n",
              "    }\n",
              "\n",
              "    .dataframe tbody tr th {\n",
              "        vertical-align: top;\n",
              "    }\n",
              "\n",
              "    .dataframe thead th {\n",
              "        text-align: right;\n",
              "    }\n",
              "</style>\n",
              "<table border=\"1\" class=\"dataframe\">\n",
              "  <thead>\n",
              "    <tr style=\"text-align: right;\">\n",
              "      <th></th>\n",
              "      <th>total_bill</th>\n",
              "      <th>tip</th>\n",
              "      <th>size</th>\n",
              "    </tr>\n",
              "  </thead>\n",
              "  <tbody>\n",
              "    <tr>\n",
              "      <th>count</th>\n",
              "      <td>244.000000</td>\n",
              "      <td>244.000000</td>\n",
              "      <td>244.000000</td>\n",
              "    </tr>\n",
              "    <tr>\n",
              "      <th>mean</th>\n",
              "      <td>19.785943</td>\n",
              "      <td>2.998279</td>\n",
              "      <td>2.569672</td>\n",
              "    </tr>\n",
              "    <tr>\n",
              "      <th>std</th>\n",
              "      <td>8.902412</td>\n",
              "      <td>1.383638</td>\n",
              "      <td>0.951100</td>\n",
              "    </tr>\n",
              "    <tr>\n",
              "      <th>min</th>\n",
              "      <td>3.070000</td>\n",
              "      <td>1.000000</td>\n",
              "      <td>1.000000</td>\n",
              "    </tr>\n",
              "    <tr>\n",
              "      <th>25%</th>\n",
              "      <td>13.347500</td>\n",
              "      <td>2.000000</td>\n",
              "      <td>2.000000</td>\n",
              "    </tr>\n",
              "    <tr>\n",
              "      <th>50%</th>\n",
              "      <td>17.795000</td>\n",
              "      <td>2.900000</td>\n",
              "      <td>2.000000</td>\n",
              "    </tr>\n",
              "    <tr>\n",
              "      <th>75%</th>\n",
              "      <td>24.127500</td>\n",
              "      <td>3.562500</td>\n",
              "      <td>3.000000</td>\n",
              "    </tr>\n",
              "    <tr>\n",
              "      <th>max</th>\n",
              "      <td>50.810000</td>\n",
              "      <td>10.000000</td>\n",
              "      <td>6.000000</td>\n",
              "    </tr>\n",
              "  </tbody>\n",
              "</table>\n",
              "</div>\n",
              "      <button class=\"colab-df-convert\" onclick=\"convertToInteractive('df-3e6ec58e-bfe5-4e5a-9a6b-3af4491c8b85')\"\n",
              "              title=\"Convert this dataframe to an interactive table.\"\n",
              "              style=\"display:none;\">\n",
              "        \n",
              "  <svg xmlns=\"http://www.w3.org/2000/svg\" height=\"24px\"viewBox=\"0 0 24 24\"\n",
              "       width=\"24px\">\n",
              "    <path d=\"M0 0h24v24H0V0z\" fill=\"none\"/>\n",
              "    <path d=\"M18.56 5.44l.94 2.06.94-2.06 2.06-.94-2.06-.94-.94-2.06-.94 2.06-2.06.94zm-11 1L8.5 8.5l.94-2.06 2.06-.94-2.06-.94L8.5 2.5l-.94 2.06-2.06.94zm10 10l.94 2.06.94-2.06 2.06-.94-2.06-.94-.94-2.06-.94 2.06-2.06.94z\"/><path d=\"M17.41 7.96l-1.37-1.37c-.4-.4-.92-.59-1.43-.59-.52 0-1.04.2-1.43.59L10.3 9.45l-7.72 7.72c-.78.78-.78 2.05 0 2.83L4 21.41c.39.39.9.59 1.41.59.51 0 1.02-.2 1.41-.59l7.78-7.78 2.81-2.81c.8-.78.8-2.07 0-2.86zM5.41 20L4 18.59l7.72-7.72 1.47 1.35L5.41 20z\"/>\n",
              "  </svg>\n",
              "      </button>\n",
              "      \n",
              "  <style>\n",
              "    .colab-df-container {\n",
              "      display:flex;\n",
              "      flex-wrap:wrap;\n",
              "      gap: 12px;\n",
              "    }\n",
              "\n",
              "    .colab-df-convert {\n",
              "      background-color: #E8F0FE;\n",
              "      border: none;\n",
              "      border-radius: 50%;\n",
              "      cursor: pointer;\n",
              "      display: none;\n",
              "      fill: #1967D2;\n",
              "      height: 32px;\n",
              "      padding: 0 0 0 0;\n",
              "      width: 32px;\n",
              "    }\n",
              "\n",
              "    .colab-df-convert:hover {\n",
              "      background-color: #E2EBFA;\n",
              "      box-shadow: 0px 1px 2px rgba(60, 64, 67, 0.3), 0px 1px 3px 1px rgba(60, 64, 67, 0.15);\n",
              "      fill: #174EA6;\n",
              "    }\n",
              "\n",
              "    [theme=dark] .colab-df-convert {\n",
              "      background-color: #3B4455;\n",
              "      fill: #D2E3FC;\n",
              "    }\n",
              "\n",
              "    [theme=dark] .colab-df-convert:hover {\n",
              "      background-color: #434B5C;\n",
              "      box-shadow: 0px 1px 3px 1px rgba(0, 0, 0, 0.15);\n",
              "      filter: drop-shadow(0px 1px 2px rgba(0, 0, 0, 0.3));\n",
              "      fill: #FFFFFF;\n",
              "    }\n",
              "  </style>\n",
              "\n",
              "      <script>\n",
              "        const buttonEl =\n",
              "          document.querySelector('#df-3e6ec58e-bfe5-4e5a-9a6b-3af4491c8b85 button.colab-df-convert');\n",
              "        buttonEl.style.display =\n",
              "          google.colab.kernel.accessAllowed ? 'block' : 'none';\n",
              "\n",
              "        async function convertToInteractive(key) {\n",
              "          const element = document.querySelector('#df-3e6ec58e-bfe5-4e5a-9a6b-3af4491c8b85');\n",
              "          const dataTable =\n",
              "            await google.colab.kernel.invokeFunction('convertToInteractive',\n",
              "                                                     [key], {});\n",
              "          if (!dataTable) return;\n",
              "\n",
              "          const docLinkHtml = 'Like what you see? Visit the ' +\n",
              "            '<a target=\"_blank\" href=https://colab.research.google.com/notebooks/data_table.ipynb>data table notebook</a>'\n",
              "            + ' to learn more about interactive tables.';\n",
              "          element.innerHTML = '';\n",
              "          dataTable['output_type'] = 'display_data';\n",
              "          await google.colab.output.renderOutput(dataTable, element);\n",
              "          const docLink = document.createElement('div');\n",
              "          docLink.innerHTML = docLinkHtml;\n",
              "          element.appendChild(docLink);\n",
              "        }\n",
              "      </script>\n",
              "    </div>\n",
              "  </div>\n",
              "  "
            ]
          },
          "metadata": {},
          "execution_count": 5
        }
      ]
    },
    {
      "cell_type": "code",
      "source": [],
      "metadata": {
        "id": "Z0QB6f1pv7gU"
      },
      "id": "Z0QB6f1pv7gU",
      "execution_count": null,
      "outputs": []
    }
  ],
  "metadata": {
    "kernelspec": {
      "display_name": "Python 3 (ipykernel)",
      "language": "python",
      "name": "python3"
    },
    "language_info": {
      "codemirror_mode": {
        "name": "ipython",
        "version": 3
      },
      "file_extension": ".py",
      "mimetype": "text/x-python",
      "name": "python",
      "nbconvert_exporter": "python",
      "pygments_lexer": "ipython3",
      "version": "3.9.7"
    },
    "colab": {
      "provenance": [],
      "include_colab_link": true
    }
  },
  "nbformat": 4,
  "nbformat_minor": 5
}