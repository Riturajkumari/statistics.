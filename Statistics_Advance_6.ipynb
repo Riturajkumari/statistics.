{
  "nbformat": 4,
  "nbformat_minor": 0,
  "metadata": {
    "colab": {
      "provenance": [],
      "authorship_tag": "ABX9TyPPMd6CuFB3ObYOQK21Huwc",
      "include_colab_link": true
    },
    "kernelspec": {
      "name": "python3",
      "display_name": "Python 3"
    },
    "language_info": {
      "name": "python"
    }
  },
  "cells": [
    {
      "cell_type": "markdown",
      "metadata": {
        "id": "view-in-github",
        "colab_type": "text"
      },
      "source": [
        "<a href=\"https://colab.research.google.com/github/Riturajkumari/statistics./blob/main/Statistics_Advance_6.ipynb\" target=\"_parent\"><img src=\"https://colab.research.google.com/assets/colab-badge.svg\" alt=\"Open In Colab\"/></a>"
      ]
    },
    {
      "cell_type": "markdown",
      "source": [
        "**Q1. Explain the assumptions required to use ANOVA and provide examples of violations that could impact\n",
        "the validity of the results.**"
      ],
      "metadata": {
        "id": "dqQRyXHASx9u"
      }
    },
    {
      "cell_type": "markdown",
      "source": [
        "- ANOVA (Analysis of Variance) is a statistical method used to determine whether there are significant differences between the means of two or more groups. The assumptions required to use ANOVA are:\n",
        "    - Linear relationships adequately explain the outcomes.\n",
        "    - Independent variables are not correlated with the error term.\n",
        "    - Observations of the error term are uncorrelated with each other.\n",
        "    - Error term has a constant variance.\n",
        "    - No perfect correlation between independent variables.\n",
        "    - Error term follows a normal distribution."
      ],
      "metadata": {
        "id": "7RfoiqNMUhiK"
      }
    },
    {
      "cell_type": "markdown",
      "source": [
        "- Violations of normality and homoscedasticity (homogeneity of variance) are the main assumptions to check. Having unequal groups can also lead to violations in normality or homogeneity of variance.\n",
        "\n",
        "- For example, if the data is not normally distributed, it can lead to incorrect conclusions about the significance of differences between groups. Violations of homogeneity of variance can lead to incorrect conclusions about which group has the largest variance."
      ],
      "metadata": {
        "id": "74Bj6IPAU_0t"
      }
    },
    {
      "cell_type": "code",
      "source": [],
      "metadata": {
        "id": "1m71MQrTS0p-"
      },
      "execution_count": null,
      "outputs": []
    },
    {
      "cell_type": "markdown",
      "source": [
        "**Q2. What are the three types of ANOVA, and in what situations would each be used?**"
      ],
      "metadata": {
        "id": "cuDdUxdGS01-"
      }
    },
    {
      "cell_type": "markdown",
      "source": [
        "There are three types of ANOVA tests1:\n",
        "\n",
        "- One-Way Analysis of Variance\n",
        "- Two-Way Analysis of Variance\n",
        "- N-Way Analysis of Variance (MANOVA)"
      ],
      "metadata": {
        "id": "u-5S0FrTVaNk"
      }
    },
    {
      "cell_type": "markdown",
      "source": [
        "  - One-Way ANOVA is used when you want to test two groups to see if there’s a difference between them.\n",
        "  - Two-Way ANOVA is used when you have one group and you’re double-testing that same group.\n",
        "  - N-Way ANOVA (MANOVA) is used when you have multiple dependent variables"
      ],
      "metadata": {
        "id": "YqDiJNzRVk-x"
      }
    },
    {
      "cell_type": "code",
      "source": [],
      "metadata": {
        "id": "DdoUnqFNSzPM"
      },
      "execution_count": null,
      "outputs": []
    },
    {
      "cell_type": "markdown",
      "source": [
        "**Q3. What is the partitioning of variance in ANOVA, and why is it important to understand this concept?**"
      ],
      "metadata": {
        "id": "MvgsieRZS5rV"
      }
    },
    {
      "cell_type": "markdown",
      "source": [
        "- In ANOVA, the observed variance in a particular variable is partitioned into components attributable to different sources of variation. ANOVA provides a statistical test of whether two or more population means are equal, and therefore generalizes the t-test beyond two means.\n",
        "-  ANOVA is based on the law of total variance, where the observed variance in a particular variable is partitioned into components attributable to different sources of variation.\n",
        "- The total variance can be partitioned into variance between subjects and variance within subjects.\n",
        "    -  Variance within subjects consists of two components:\n",
        "    differences between treatments and error or residual variation.\n",
        "    The 1-way repeated measures ANOVA partitions the total variance into three parts:\n",
        "    -  a between subjects part\n",
        "    -  a within subjects part and a between treatments part. The within groups variance is further partitioned, reducing its size ."
      ],
      "metadata": {
        "id": "zrzk5lPhWBDC"
      }
    },
    {
      "cell_type": "code",
      "source": [],
      "metadata": {
        "id": "gpYU4tzLS-Ei"
      },
      "execution_count": null,
      "outputs": []
    },
    {
      "cell_type": "markdown",
      "source": [
        "**Q4. How would you calculate the total sum of squares (SST), explained sum of squares (SSE), and residual\n",
        "sum of squares (SSR) in a one-way ANOVA using Python?**"
      ],
      "metadata": {
        "id": "c1308PPjTnPY"
      }
    },
    {
      "cell_type": "markdown",
      "source": [
        "To calculate the total sum of squares (SST), explained sum of squares (SSE), and residual sum of squares (SSR) in a one-way ANOVA using Python, you can use the following steps:\n",
        "\n",
        "- Calculate the mean of the response variable.\n",
        "- Calculate the predicted value for each observation.\n",
        "- Calculate the sum of squares total (SST).\n",
        "- Calculate the sum of squares regression (SSR).\n",
        "- Calculate the sum of squares error (SSE).\n",
        "\n",
        "The following relationship exists between these three measures: SST = SSR + SSE."
      ],
      "metadata": {
        "id": "GhcwEuFiXEjj"
      }
    },
    {
      "cell_type": "code",
      "source": [
        "import pandas as pd\n",
        "\n",
        "# load data into a pandas dataframe\n",
        "df= pd.DataFrame({\"hours_studies\":[1,2,2,3,4,5],\n",
        "                  \"exam_score\":[68,77,81,82,88,90]})\n",
        "df"
      ],
      "metadata": {
        "colab": {
          "base_uri": "https://localhost:8080/",
          "height": 237
        },
        "id": "ULa_r0g3Xdeh",
        "outputId": "8a0e557b-5b23-45f7-df69-3527b6f02b1a"
      },
      "execution_count": 7,
      "outputs": [
        {
          "output_type": "execute_result",
          "data": {
            "text/plain": [
              "   hours_studies  exam_score\n",
              "0              1          68\n",
              "1              2          77\n",
              "2              2          81\n",
              "3              3          82\n",
              "4              4          88\n",
              "5              5          90"
            ],
            "text/html": [
              "\n",
              "\n",
              "  <div id=\"df-85865c29-2803-4f7f-aab6-7f02187407d8\">\n",
              "    <div class=\"colab-df-container\">\n",
              "      <div>\n",
              "<style scoped>\n",
              "    .dataframe tbody tr th:only-of-type {\n",
              "        vertical-align: middle;\n",
              "    }\n",
              "\n",
              "    .dataframe tbody tr th {\n",
              "        vertical-align: top;\n",
              "    }\n",
              "\n",
              "    .dataframe thead th {\n",
              "        text-align: right;\n",
              "    }\n",
              "</style>\n",
              "<table border=\"1\" class=\"dataframe\">\n",
              "  <thead>\n",
              "    <tr style=\"text-align: right;\">\n",
              "      <th></th>\n",
              "      <th>hours_studies</th>\n",
              "      <th>exam_score</th>\n",
              "    </tr>\n",
              "  </thead>\n",
              "  <tbody>\n",
              "    <tr>\n",
              "      <th>0</th>\n",
              "      <td>1</td>\n",
              "      <td>68</td>\n",
              "    </tr>\n",
              "    <tr>\n",
              "      <th>1</th>\n",
              "      <td>2</td>\n",
              "      <td>77</td>\n",
              "    </tr>\n",
              "    <tr>\n",
              "      <th>2</th>\n",
              "      <td>2</td>\n",
              "      <td>81</td>\n",
              "    </tr>\n",
              "    <tr>\n",
              "      <th>3</th>\n",
              "      <td>3</td>\n",
              "      <td>82</td>\n",
              "    </tr>\n",
              "    <tr>\n",
              "      <th>4</th>\n",
              "      <td>4</td>\n",
              "      <td>88</td>\n",
              "    </tr>\n",
              "    <tr>\n",
              "      <th>5</th>\n",
              "      <td>5</td>\n",
              "      <td>90</td>\n",
              "    </tr>\n",
              "  </tbody>\n",
              "</table>\n",
              "</div>\n",
              "      <button class=\"colab-df-convert\" onclick=\"convertToInteractive('df-85865c29-2803-4f7f-aab6-7f02187407d8')\"\n",
              "              title=\"Convert this dataframe to an interactive table.\"\n",
              "              style=\"display:none;\">\n",
              "\n",
              "  <svg xmlns=\"http://www.w3.org/2000/svg\" height=\"24px\"viewBox=\"0 0 24 24\"\n",
              "       width=\"24px\">\n",
              "    <path d=\"M0 0h24v24H0V0z\" fill=\"none\"/>\n",
              "    <path d=\"M18.56 5.44l.94 2.06.94-2.06 2.06-.94-2.06-.94-.94-2.06-.94 2.06-2.06.94zm-11 1L8.5 8.5l.94-2.06 2.06-.94-2.06-.94L8.5 2.5l-.94 2.06-2.06.94zm10 10l.94 2.06.94-2.06 2.06-.94-2.06-.94-.94-2.06-.94 2.06-2.06.94z\"/><path d=\"M17.41 7.96l-1.37-1.37c-.4-.4-.92-.59-1.43-.59-.52 0-1.04.2-1.43.59L10.3 9.45l-7.72 7.72c-.78.78-.78 2.05 0 2.83L4 21.41c.39.39.9.59 1.41.59.51 0 1.02-.2 1.41-.59l7.78-7.78 2.81-2.81c.8-.78.8-2.07 0-2.86zM5.41 20L4 18.59l7.72-7.72 1.47 1.35L5.41 20z\"/>\n",
              "  </svg>\n",
              "      </button>\n",
              "\n",
              "\n",
              "\n",
              "    <div id=\"df-885f75fb-4e4e-424e-9bb3-f511aaf46b0a\">\n",
              "      <button class=\"colab-df-quickchart\" onclick=\"quickchart('df-885f75fb-4e4e-424e-9bb3-f511aaf46b0a')\"\n",
              "              title=\"Suggest charts.\"\n",
              "              style=\"display:none;\">\n",
              "\n",
              "<svg xmlns=\"http://www.w3.org/2000/svg\" height=\"24px\"viewBox=\"0 0 24 24\"\n",
              "     width=\"24px\">\n",
              "    <g>\n",
              "        <path d=\"M19 3H5c-1.1 0-2 .9-2 2v14c0 1.1.9 2 2 2h14c1.1 0 2-.9 2-2V5c0-1.1-.9-2-2-2zM9 17H7v-7h2v7zm4 0h-2V7h2v10zm4 0h-2v-4h2v4z\"/>\n",
              "    </g>\n",
              "</svg>\n",
              "      </button>\n",
              "    </div>\n",
              "\n",
              "<style>\n",
              "  .colab-df-quickchart {\n",
              "    background-color: #E8F0FE;\n",
              "    border: none;\n",
              "    border-radius: 50%;\n",
              "    cursor: pointer;\n",
              "    display: none;\n",
              "    fill: #1967D2;\n",
              "    height: 32px;\n",
              "    padding: 0 0 0 0;\n",
              "    width: 32px;\n",
              "  }\n",
              "\n",
              "  .colab-df-quickchart:hover {\n",
              "    background-color: #E2EBFA;\n",
              "    box-shadow: 0px 1px 2px rgba(60, 64, 67, 0.3), 0px 1px 3px 1px rgba(60, 64, 67, 0.15);\n",
              "    fill: #174EA6;\n",
              "  }\n",
              "\n",
              "  [theme=dark] .colab-df-quickchart {\n",
              "    background-color: #3B4455;\n",
              "    fill: #D2E3FC;\n",
              "  }\n",
              "\n",
              "  [theme=dark] .colab-df-quickchart:hover {\n",
              "    background-color: #434B5C;\n",
              "    box-shadow: 0px 1px 3px 1px rgba(0, 0, 0, 0.15);\n",
              "    filter: drop-shadow(0px 1px 2px rgba(0, 0, 0, 0.3));\n",
              "    fill: #FFFFFF;\n",
              "  }\n",
              "</style>\n",
              "\n",
              "    <script>\n",
              "      async function quickchart(key) {\n",
              "        const containerElement = document.querySelector('#' + key);\n",
              "        const charts = await google.colab.kernel.invokeFunction(\n",
              "            'suggestCharts', [key], {});\n",
              "      }\n",
              "    </script>\n",
              "\n",
              "      <script>\n",
              "\n",
              "function displayQuickchartButton(domScope) {\n",
              "  let quickchartButtonEl =\n",
              "    domScope.querySelector('#df-885f75fb-4e4e-424e-9bb3-f511aaf46b0a button.colab-df-quickchart');\n",
              "  quickchartButtonEl.style.display =\n",
              "    google.colab.kernel.accessAllowed ? 'block' : 'none';\n",
              "}\n",
              "\n",
              "        displayQuickchartButton(document);\n",
              "      </script>\n",
              "      <style>\n",
              "    .colab-df-container {\n",
              "      display:flex;\n",
              "      flex-wrap:wrap;\n",
              "      gap: 12px;\n",
              "    }\n",
              "\n",
              "    .colab-df-convert {\n",
              "      background-color: #E8F0FE;\n",
              "      border: none;\n",
              "      border-radius: 50%;\n",
              "      cursor: pointer;\n",
              "      display: none;\n",
              "      fill: #1967D2;\n",
              "      height: 32px;\n",
              "      padding: 0 0 0 0;\n",
              "      width: 32px;\n",
              "    }\n",
              "\n",
              "    .colab-df-convert:hover {\n",
              "      background-color: #E2EBFA;\n",
              "      box-shadow: 0px 1px 2px rgba(60, 64, 67, 0.3), 0px 1px 3px 1px rgba(60, 64, 67, 0.15);\n",
              "      fill: #174EA6;\n",
              "    }\n",
              "\n",
              "    [theme=dark] .colab-df-convert {\n",
              "      background-color: #3B4455;\n",
              "      fill: #D2E3FC;\n",
              "    }\n",
              "\n",
              "    [theme=dark] .colab-df-convert:hover {\n",
              "      background-color: #434B5C;\n",
              "      box-shadow: 0px 1px 3px 1px rgba(0, 0, 0, 0.15);\n",
              "      filter: drop-shadow(0px 1px 2px rgba(0, 0, 0, 0.3));\n",
              "      fill: #FFFFFF;\n",
              "    }\n",
              "  </style>\n",
              "\n",
              "      <script>\n",
              "        const buttonEl =\n",
              "          document.querySelector('#df-85865c29-2803-4f7f-aab6-7f02187407d8 button.colab-df-convert');\n",
              "        buttonEl.style.display =\n",
              "          google.colab.kernel.accessAllowed ? 'block' : 'none';\n",
              "\n",
              "        async function convertToInteractive(key) {\n",
              "          const element = document.querySelector('#df-85865c29-2803-4f7f-aab6-7f02187407d8');\n",
              "          const dataTable =\n",
              "            await google.colab.kernel.invokeFunction('convertToInteractive',\n",
              "                                                     [key], {});\n",
              "          if (!dataTable) return;\n",
              "\n",
              "          const docLinkHtml = 'Like what you see? Visit the ' +\n",
              "            '<a target=\"_blank\" href=https://colab.research.google.com/notebooks/data_table.ipynb>data table notebook</a>'\n",
              "            + ' to learn more about interactive tables.';\n",
              "          element.innerHTML = '';\n",
              "          dataTable['output_type'] = 'display_data';\n",
              "          await google.colab.output.renderOutput(dataTable, element);\n",
              "          const docLink = document.createElement('div');\n",
              "          docLink.innerHTML = docLinkHtml;\n",
              "          element.appendChild(docLink);\n",
              "        }\n",
              "      </script>\n",
              "    </div>\n",
              "  </div>\n"
            ]
          },
          "metadata": {},
          "execution_count": 7
        }
      ]
    },
    {
      "cell_type": "code",
      "source": [
        "import pandas as pd\n",
        "import statsmodels.api as sm\n",
        "from statsmodels.formula.api import ols\n",
        "\n",
        "\n",
        "\n",
        "# fit one-way ANOVA model\n",
        "model = ols('exam_score ~ C(hours_studies)', data=df).fit()\n",
        "\n",
        "# calculate SST, SSR, and SSE\n",
        "ssr = model.ess\n",
        "sse = model.ssr\n",
        "sst = ssr + sse\n",
        "\n",
        "print('SSR:', ssr)\n",
        "print('SSE:', sse)\n",
        "print('SST:', sst)\n"
      ],
      "metadata": {
        "colab": {
          "base_uri": "https://localhost:8080/"
        },
        "id": "xURrW2PHToZ9",
        "outputId": "956bb8cb-c6f6-4c7d-f2ec-7fb9926b59d2"
      },
      "execution_count": 9,
      "outputs": [
        {
          "output_type": "stream",
          "name": "stdout",
          "text": [
            "SSR: 308.0\n",
            "SSE: 8.0\n",
            "SST: 316.0\n"
          ]
        }
      ]
    },
    {
      "cell_type": "code",
      "source": [],
      "metadata": {
        "id": "8RanVPDVTpBD"
      },
      "execution_count": null,
      "outputs": []
    },
    {
      "cell_type": "markdown",
      "source": [
        "**Q5. In a two-way ANOVA, how would you calculate the main effects and interaction effects using Python?**"
      ],
      "metadata": {
        "id": "tArRNZV9TpP8"
      }
    },
    {
      "cell_type": "markdown",
      "source": [
        "- To calculate the main effects and interaction effects in a two-way ANOVA using Python, you can use the statsmodels library."
      ],
      "metadata": {
        "id": "uVvw4c-LY0Ax"
      }
    },
    {
      "cell_type": "code",
      "source": [
        "import numpy as np\n",
        "import pandas as pd\n",
        "\n",
        "#create data\n",
        "df = pd.DataFrame({'water': np.repeat(['daily', 'weekly'], 15),\n",
        "                   'sun': np.tile(np.repeat(['low', 'med', 'high'], 5), 2),\n",
        "                   'height': [6, 6, 6, 5, 6, 5, 5, 6, 4, 5,\n",
        "                              6, 6, 7, 8, 7, 3, 4, 4, 4, 5,\n",
        "                              4, 4, 4, 4, 4, 5, 6, 6, 7, 8]})\n",
        "\n",
        "#view first ten rows of data\n",
        "df[:10]"
      ],
      "metadata": {
        "colab": {
          "base_uri": "https://localhost:8080/",
          "height": 363
        },
        "id": "a6-73PZmatpB",
        "outputId": "7d630dbc-300a-4f78-eaca-55e4c0d956c2"
      },
      "execution_count": 13,
      "outputs": [
        {
          "output_type": "execute_result",
          "data": {
            "text/plain": [
              "   water  sun  height\n",
              "0  daily  low       6\n",
              "1  daily  low       6\n",
              "2  daily  low       6\n",
              "3  daily  low       5\n",
              "4  daily  low       6\n",
              "5  daily  med       5\n",
              "6  daily  med       5\n",
              "7  daily  med       6\n",
              "8  daily  med       4\n",
              "9  daily  med       5"
            ],
            "text/html": [
              "\n",
              "\n",
              "  <div id=\"df-e71d228f-60ad-432a-9c18-1e0092c27feb\">\n",
              "    <div class=\"colab-df-container\">\n",
              "      <div>\n",
              "<style scoped>\n",
              "    .dataframe tbody tr th:only-of-type {\n",
              "        vertical-align: middle;\n",
              "    }\n",
              "\n",
              "    .dataframe tbody tr th {\n",
              "        vertical-align: top;\n",
              "    }\n",
              "\n",
              "    .dataframe thead th {\n",
              "        text-align: right;\n",
              "    }\n",
              "</style>\n",
              "<table border=\"1\" class=\"dataframe\">\n",
              "  <thead>\n",
              "    <tr style=\"text-align: right;\">\n",
              "      <th></th>\n",
              "      <th>water</th>\n",
              "      <th>sun</th>\n",
              "      <th>height</th>\n",
              "    </tr>\n",
              "  </thead>\n",
              "  <tbody>\n",
              "    <tr>\n",
              "      <th>0</th>\n",
              "      <td>daily</td>\n",
              "      <td>low</td>\n",
              "      <td>6</td>\n",
              "    </tr>\n",
              "    <tr>\n",
              "      <th>1</th>\n",
              "      <td>daily</td>\n",
              "      <td>low</td>\n",
              "      <td>6</td>\n",
              "    </tr>\n",
              "    <tr>\n",
              "      <th>2</th>\n",
              "      <td>daily</td>\n",
              "      <td>low</td>\n",
              "      <td>6</td>\n",
              "    </tr>\n",
              "    <tr>\n",
              "      <th>3</th>\n",
              "      <td>daily</td>\n",
              "      <td>low</td>\n",
              "      <td>5</td>\n",
              "    </tr>\n",
              "    <tr>\n",
              "      <th>4</th>\n",
              "      <td>daily</td>\n",
              "      <td>low</td>\n",
              "      <td>6</td>\n",
              "    </tr>\n",
              "    <tr>\n",
              "      <th>5</th>\n",
              "      <td>daily</td>\n",
              "      <td>med</td>\n",
              "      <td>5</td>\n",
              "    </tr>\n",
              "    <tr>\n",
              "      <th>6</th>\n",
              "      <td>daily</td>\n",
              "      <td>med</td>\n",
              "      <td>5</td>\n",
              "    </tr>\n",
              "    <tr>\n",
              "      <th>7</th>\n",
              "      <td>daily</td>\n",
              "      <td>med</td>\n",
              "      <td>6</td>\n",
              "    </tr>\n",
              "    <tr>\n",
              "      <th>8</th>\n",
              "      <td>daily</td>\n",
              "      <td>med</td>\n",
              "      <td>4</td>\n",
              "    </tr>\n",
              "    <tr>\n",
              "      <th>9</th>\n",
              "      <td>daily</td>\n",
              "      <td>med</td>\n",
              "      <td>5</td>\n",
              "    </tr>\n",
              "  </tbody>\n",
              "</table>\n",
              "</div>\n",
              "      <button class=\"colab-df-convert\" onclick=\"convertToInteractive('df-e71d228f-60ad-432a-9c18-1e0092c27feb')\"\n",
              "              title=\"Convert this dataframe to an interactive table.\"\n",
              "              style=\"display:none;\">\n",
              "\n",
              "  <svg xmlns=\"http://www.w3.org/2000/svg\" height=\"24px\"viewBox=\"0 0 24 24\"\n",
              "       width=\"24px\">\n",
              "    <path d=\"M0 0h24v24H0V0z\" fill=\"none\"/>\n",
              "    <path d=\"M18.56 5.44l.94 2.06.94-2.06 2.06-.94-2.06-.94-.94-2.06-.94 2.06-2.06.94zm-11 1L8.5 8.5l.94-2.06 2.06-.94-2.06-.94L8.5 2.5l-.94 2.06-2.06.94zm10 10l.94 2.06.94-2.06 2.06-.94-2.06-.94-.94-2.06-.94 2.06-2.06.94z\"/><path d=\"M17.41 7.96l-1.37-1.37c-.4-.4-.92-.59-1.43-.59-.52 0-1.04.2-1.43.59L10.3 9.45l-7.72 7.72c-.78.78-.78 2.05 0 2.83L4 21.41c.39.39.9.59 1.41.59.51 0 1.02-.2 1.41-.59l7.78-7.78 2.81-2.81c.8-.78.8-2.07 0-2.86zM5.41 20L4 18.59l7.72-7.72 1.47 1.35L5.41 20z\"/>\n",
              "  </svg>\n",
              "      </button>\n",
              "\n",
              "\n",
              "\n",
              "    <div id=\"df-9ab9c269-27c5-4931-9708-2772b29e7240\">\n",
              "      <button class=\"colab-df-quickchart\" onclick=\"quickchart('df-9ab9c269-27c5-4931-9708-2772b29e7240')\"\n",
              "              title=\"Suggest charts.\"\n",
              "              style=\"display:none;\">\n",
              "\n",
              "<svg xmlns=\"http://www.w3.org/2000/svg\" height=\"24px\"viewBox=\"0 0 24 24\"\n",
              "     width=\"24px\">\n",
              "    <g>\n",
              "        <path d=\"M19 3H5c-1.1 0-2 .9-2 2v14c0 1.1.9 2 2 2h14c1.1 0 2-.9 2-2V5c0-1.1-.9-2-2-2zM9 17H7v-7h2v7zm4 0h-2V7h2v10zm4 0h-2v-4h2v4z\"/>\n",
              "    </g>\n",
              "</svg>\n",
              "      </button>\n",
              "    </div>\n",
              "\n",
              "<style>\n",
              "  .colab-df-quickchart {\n",
              "    background-color: #E8F0FE;\n",
              "    border: none;\n",
              "    border-radius: 50%;\n",
              "    cursor: pointer;\n",
              "    display: none;\n",
              "    fill: #1967D2;\n",
              "    height: 32px;\n",
              "    padding: 0 0 0 0;\n",
              "    width: 32px;\n",
              "  }\n",
              "\n",
              "  .colab-df-quickchart:hover {\n",
              "    background-color: #E2EBFA;\n",
              "    box-shadow: 0px 1px 2px rgba(60, 64, 67, 0.3), 0px 1px 3px 1px rgba(60, 64, 67, 0.15);\n",
              "    fill: #174EA6;\n",
              "  }\n",
              "\n",
              "  [theme=dark] .colab-df-quickchart {\n",
              "    background-color: #3B4455;\n",
              "    fill: #D2E3FC;\n",
              "  }\n",
              "\n",
              "  [theme=dark] .colab-df-quickchart:hover {\n",
              "    background-color: #434B5C;\n",
              "    box-shadow: 0px 1px 3px 1px rgba(0, 0, 0, 0.15);\n",
              "    filter: drop-shadow(0px 1px 2px rgba(0, 0, 0, 0.3));\n",
              "    fill: #FFFFFF;\n",
              "  }\n",
              "</style>\n",
              "\n",
              "    <script>\n",
              "      async function quickchart(key) {\n",
              "        const containerElement = document.querySelector('#' + key);\n",
              "        const charts = await google.colab.kernel.invokeFunction(\n",
              "            'suggestCharts', [key], {});\n",
              "      }\n",
              "    </script>\n",
              "\n",
              "      <script>\n",
              "\n",
              "function displayQuickchartButton(domScope) {\n",
              "  let quickchartButtonEl =\n",
              "    domScope.querySelector('#df-9ab9c269-27c5-4931-9708-2772b29e7240 button.colab-df-quickchart');\n",
              "  quickchartButtonEl.style.display =\n",
              "    google.colab.kernel.accessAllowed ? 'block' : 'none';\n",
              "}\n",
              "\n",
              "        displayQuickchartButton(document);\n",
              "      </script>\n",
              "      <style>\n",
              "    .colab-df-container {\n",
              "      display:flex;\n",
              "      flex-wrap:wrap;\n",
              "      gap: 12px;\n",
              "    }\n",
              "\n",
              "    .colab-df-convert {\n",
              "      background-color: #E8F0FE;\n",
              "      border: none;\n",
              "      border-radius: 50%;\n",
              "      cursor: pointer;\n",
              "      display: none;\n",
              "      fill: #1967D2;\n",
              "      height: 32px;\n",
              "      padding: 0 0 0 0;\n",
              "      width: 32px;\n",
              "    }\n",
              "\n",
              "    .colab-df-convert:hover {\n",
              "      background-color: #E2EBFA;\n",
              "      box-shadow: 0px 1px 2px rgba(60, 64, 67, 0.3), 0px 1px 3px 1px rgba(60, 64, 67, 0.15);\n",
              "      fill: #174EA6;\n",
              "    }\n",
              "\n",
              "    [theme=dark] .colab-df-convert {\n",
              "      background-color: #3B4455;\n",
              "      fill: #D2E3FC;\n",
              "    }\n",
              "\n",
              "    [theme=dark] .colab-df-convert:hover {\n",
              "      background-color: #434B5C;\n",
              "      box-shadow: 0px 1px 3px 1px rgba(0, 0, 0, 0.15);\n",
              "      filter: drop-shadow(0px 1px 2px rgba(0, 0, 0, 0.3));\n",
              "      fill: #FFFFFF;\n",
              "    }\n",
              "  </style>\n",
              "\n",
              "      <script>\n",
              "        const buttonEl =\n",
              "          document.querySelector('#df-e71d228f-60ad-432a-9c18-1e0092c27feb button.colab-df-convert');\n",
              "        buttonEl.style.display =\n",
              "          google.colab.kernel.accessAllowed ? 'block' : 'none';\n",
              "\n",
              "        async function convertToInteractive(key) {\n",
              "          const element = document.querySelector('#df-e71d228f-60ad-432a-9c18-1e0092c27feb');\n",
              "          const dataTable =\n",
              "            await google.colab.kernel.invokeFunction('convertToInteractive',\n",
              "                                                     [key], {});\n",
              "          if (!dataTable) return;\n",
              "\n",
              "          const docLinkHtml = 'Like what you see? Visit the ' +\n",
              "            '<a target=\"_blank\" href=https://colab.research.google.com/notebooks/data_table.ipynb>data table notebook</a>'\n",
              "            + ' to learn more about interactive tables.';\n",
              "          element.innerHTML = '';\n",
              "          dataTable['output_type'] = 'display_data';\n",
              "          await google.colab.output.renderOutput(dataTable, element);\n",
              "          const docLink = document.createElement('div');\n",
              "          docLink.innerHTML = docLinkHtml;\n",
              "          element.appendChild(docLink);\n",
              "        }\n",
              "      </script>\n",
              "    </div>\n",
              "  </div>\n"
            ]
          },
          "metadata": {},
          "execution_count": 13
        }
      ]
    },
    {
      "cell_type": "code",
      "source": [
        "import statsmodels.api as sm\n",
        "from statsmodels.formula.api import ols\n",
        "\n",
        "#perform two-way ANOVA\n",
        "model = ols('height ~ water + sun + water:sun', data=df).fit()\n",
        "sm.stats.anova_lm(model, typ=2)\n"
      ],
      "metadata": {
        "colab": {
          "base_uri": "https://localhost:8080/",
          "height": 175
        },
        "id": "GTnwuBDxTtMa",
        "outputId": "8bcd8a04-7632-47f6-f535-f2fbd7cdde2c"
      },
      "execution_count": 14,
      "outputs": [
        {
          "output_type": "execute_result",
          "data": {
            "text/plain": [
              "              sum_sq    df        F    PR(>F)\n",
              "water       8.533333   1.0  16.0000  0.000527\n",
              "sun        24.866667   2.0  23.3125  0.000002\n",
              "water:sun   2.466667   2.0   2.3125  0.120667\n",
              "Residual   12.800000  24.0      NaN       NaN"
            ],
            "text/html": [
              "\n",
              "\n",
              "  <div id=\"df-1e7658d3-7e62-4794-9ee9-24edd8843403\">\n",
              "    <div class=\"colab-df-container\">\n",
              "      <div>\n",
              "<style scoped>\n",
              "    .dataframe tbody tr th:only-of-type {\n",
              "        vertical-align: middle;\n",
              "    }\n",
              "\n",
              "    .dataframe tbody tr th {\n",
              "        vertical-align: top;\n",
              "    }\n",
              "\n",
              "    .dataframe thead th {\n",
              "        text-align: right;\n",
              "    }\n",
              "</style>\n",
              "<table border=\"1\" class=\"dataframe\">\n",
              "  <thead>\n",
              "    <tr style=\"text-align: right;\">\n",
              "      <th></th>\n",
              "      <th>sum_sq</th>\n",
              "      <th>df</th>\n",
              "      <th>F</th>\n",
              "      <th>PR(&gt;F)</th>\n",
              "    </tr>\n",
              "  </thead>\n",
              "  <tbody>\n",
              "    <tr>\n",
              "      <th>water</th>\n",
              "      <td>8.533333</td>\n",
              "      <td>1.0</td>\n",
              "      <td>16.0000</td>\n",
              "      <td>0.000527</td>\n",
              "    </tr>\n",
              "    <tr>\n",
              "      <th>sun</th>\n",
              "      <td>24.866667</td>\n",
              "      <td>2.0</td>\n",
              "      <td>23.3125</td>\n",
              "      <td>0.000002</td>\n",
              "    </tr>\n",
              "    <tr>\n",
              "      <th>water:sun</th>\n",
              "      <td>2.466667</td>\n",
              "      <td>2.0</td>\n",
              "      <td>2.3125</td>\n",
              "      <td>0.120667</td>\n",
              "    </tr>\n",
              "    <tr>\n",
              "      <th>Residual</th>\n",
              "      <td>12.800000</td>\n",
              "      <td>24.0</td>\n",
              "      <td>NaN</td>\n",
              "      <td>NaN</td>\n",
              "    </tr>\n",
              "  </tbody>\n",
              "</table>\n",
              "</div>\n",
              "      <button class=\"colab-df-convert\" onclick=\"convertToInteractive('df-1e7658d3-7e62-4794-9ee9-24edd8843403')\"\n",
              "              title=\"Convert this dataframe to an interactive table.\"\n",
              "              style=\"display:none;\">\n",
              "\n",
              "  <svg xmlns=\"http://www.w3.org/2000/svg\" height=\"24px\"viewBox=\"0 0 24 24\"\n",
              "       width=\"24px\">\n",
              "    <path d=\"M0 0h24v24H0V0z\" fill=\"none\"/>\n",
              "    <path d=\"M18.56 5.44l.94 2.06.94-2.06 2.06-.94-2.06-.94-.94-2.06-.94 2.06-2.06.94zm-11 1L8.5 8.5l.94-2.06 2.06-.94-2.06-.94L8.5 2.5l-.94 2.06-2.06.94zm10 10l.94 2.06.94-2.06 2.06-.94-2.06-.94-.94-2.06-.94 2.06-2.06.94z\"/><path d=\"M17.41 7.96l-1.37-1.37c-.4-.4-.92-.59-1.43-.59-.52 0-1.04.2-1.43.59L10.3 9.45l-7.72 7.72c-.78.78-.78 2.05 0 2.83L4 21.41c.39.39.9.59 1.41.59.51 0 1.02-.2 1.41-.59l7.78-7.78 2.81-2.81c.8-.78.8-2.07 0-2.86zM5.41 20L4 18.59l7.72-7.72 1.47 1.35L5.41 20z\"/>\n",
              "  </svg>\n",
              "      </button>\n",
              "\n",
              "\n",
              "\n",
              "    <div id=\"df-7e34c706-9e38-4144-a014-fc6b38d6d2f0\">\n",
              "      <button class=\"colab-df-quickchart\" onclick=\"quickchart('df-7e34c706-9e38-4144-a014-fc6b38d6d2f0')\"\n",
              "              title=\"Suggest charts.\"\n",
              "              style=\"display:none;\">\n",
              "\n",
              "<svg xmlns=\"http://www.w3.org/2000/svg\" height=\"24px\"viewBox=\"0 0 24 24\"\n",
              "     width=\"24px\">\n",
              "    <g>\n",
              "        <path d=\"M19 3H5c-1.1 0-2 .9-2 2v14c0 1.1.9 2 2 2h14c1.1 0 2-.9 2-2V5c0-1.1-.9-2-2-2zM9 17H7v-7h2v7zm4 0h-2V7h2v10zm4 0h-2v-4h2v4z\"/>\n",
              "    </g>\n",
              "</svg>\n",
              "      </button>\n",
              "    </div>\n",
              "\n",
              "<style>\n",
              "  .colab-df-quickchart {\n",
              "    background-color: #E8F0FE;\n",
              "    border: none;\n",
              "    border-radius: 50%;\n",
              "    cursor: pointer;\n",
              "    display: none;\n",
              "    fill: #1967D2;\n",
              "    height: 32px;\n",
              "    padding: 0 0 0 0;\n",
              "    width: 32px;\n",
              "  }\n",
              "\n",
              "  .colab-df-quickchart:hover {\n",
              "    background-color: #E2EBFA;\n",
              "    box-shadow: 0px 1px 2px rgba(60, 64, 67, 0.3), 0px 1px 3px 1px rgba(60, 64, 67, 0.15);\n",
              "    fill: #174EA6;\n",
              "  }\n",
              "\n",
              "  [theme=dark] .colab-df-quickchart {\n",
              "    background-color: #3B4455;\n",
              "    fill: #D2E3FC;\n",
              "  }\n",
              "\n",
              "  [theme=dark] .colab-df-quickchart:hover {\n",
              "    background-color: #434B5C;\n",
              "    box-shadow: 0px 1px 3px 1px rgba(0, 0, 0, 0.15);\n",
              "    filter: drop-shadow(0px 1px 2px rgba(0, 0, 0, 0.3));\n",
              "    fill: #FFFFFF;\n",
              "  }\n",
              "</style>\n",
              "\n",
              "    <script>\n",
              "      async function quickchart(key) {\n",
              "        const containerElement = document.querySelector('#' + key);\n",
              "        const charts = await google.colab.kernel.invokeFunction(\n",
              "            'suggestCharts', [key], {});\n",
              "      }\n",
              "    </script>\n",
              "\n",
              "      <script>\n",
              "\n",
              "function displayQuickchartButton(domScope) {\n",
              "  let quickchartButtonEl =\n",
              "    domScope.querySelector('#df-7e34c706-9e38-4144-a014-fc6b38d6d2f0 button.colab-df-quickchart');\n",
              "  quickchartButtonEl.style.display =\n",
              "    google.colab.kernel.accessAllowed ? 'block' : 'none';\n",
              "}\n",
              "\n",
              "        displayQuickchartButton(document);\n",
              "      </script>\n",
              "      <style>\n",
              "    .colab-df-container {\n",
              "      display:flex;\n",
              "      flex-wrap:wrap;\n",
              "      gap: 12px;\n",
              "    }\n",
              "\n",
              "    .colab-df-convert {\n",
              "      background-color: #E8F0FE;\n",
              "      border: none;\n",
              "      border-radius: 50%;\n",
              "      cursor: pointer;\n",
              "      display: none;\n",
              "      fill: #1967D2;\n",
              "      height: 32px;\n",
              "      padding: 0 0 0 0;\n",
              "      width: 32px;\n",
              "    }\n",
              "\n",
              "    .colab-df-convert:hover {\n",
              "      background-color: #E2EBFA;\n",
              "      box-shadow: 0px 1px 2px rgba(60, 64, 67, 0.3), 0px 1px 3px 1px rgba(60, 64, 67, 0.15);\n",
              "      fill: #174EA6;\n",
              "    }\n",
              "\n",
              "    [theme=dark] .colab-df-convert {\n",
              "      background-color: #3B4455;\n",
              "      fill: #D2E3FC;\n",
              "    }\n",
              "\n",
              "    [theme=dark] .colab-df-convert:hover {\n",
              "      background-color: #434B5C;\n",
              "      box-shadow: 0px 1px 3px 1px rgba(0, 0, 0, 0.15);\n",
              "      filter: drop-shadow(0px 1px 2px rgba(0, 0, 0, 0.3));\n",
              "      fill: #FFFFFF;\n",
              "    }\n",
              "  </style>\n",
              "\n",
              "      <script>\n",
              "        const buttonEl =\n",
              "          document.querySelector('#df-1e7658d3-7e62-4794-9ee9-24edd8843403 button.colab-df-convert');\n",
              "        buttonEl.style.display =\n",
              "          google.colab.kernel.accessAllowed ? 'block' : 'none';\n",
              "\n",
              "        async function convertToInteractive(key) {\n",
              "          const element = document.querySelector('#df-1e7658d3-7e62-4794-9ee9-24edd8843403');\n",
              "          const dataTable =\n",
              "            await google.colab.kernel.invokeFunction('convertToInteractive',\n",
              "                                                     [key], {});\n",
              "          if (!dataTable) return;\n",
              "\n",
              "          const docLinkHtml = 'Like what you see? Visit the ' +\n",
              "            '<a target=\"_blank\" href=https://colab.research.google.com/notebooks/data_table.ipynb>data table notebook</a>'\n",
              "            + ' to learn more about interactive tables.';\n",
              "          element.innerHTML = '';\n",
              "          dataTable['output_type'] = 'display_data';\n",
              "          await google.colab.output.renderOutput(dataTable, element);\n",
              "          const docLink = document.createElement('div');\n",
              "          docLink.innerHTML = docLinkHtml;\n",
              "          element.appendChild(docLink);\n",
              "        }\n",
              "      </script>\n",
              "    </div>\n",
              "  </div>\n"
            ]
          },
          "metadata": {},
          "execution_count": 14
        }
      ]
    },
    {
      "cell_type": "code",
      "source": [],
      "metadata": {
        "id": "AXoOaIG5Tt6n"
      },
      "execution_count": null,
      "outputs": []
    },
    {
      "cell_type": "markdown",
      "source": [
        "**Q6. Suppose you conducted a one-way ANOVA and obtained an F-statistic of 5.23 and a p-value of 0.02.\n",
        "What can you conclude about the differences between the groups, and how would you interpret these\n",
        "results?**"
      ],
      "metadata": {
        "id": "dsM68U1BTuKY"
      }
    },
    {
      "cell_type": "markdown",
      "source": [
        "- An F-statistic of 5.23 and a p-value of 0.02 in a one-way ANOVA means that there is a statistically significant difference between the means of the groups being compared.\n",
        "- The F-statistic represents how much the variability among the means exceeds that expected due to chance. The higher the F-value, the higher the variation between sample means relative to the variation within the samples.\n",
        "- An F-statistic greater than the critical value is equivalent to a p-value less than alpha, and both mean that you reject the null hypothesis.\n",
        "-  Each F-value also has a corresponding p-value, and if the p-value is less than a certain threshold (e.g. α =.05), then we conclude that the factor has a statistically significant effect on whatever outcome we’re measuring."
      ],
      "metadata": {
        "id": "UFJkJv6ibhst"
      }
    },
    {
      "cell_type": "code",
      "source": [],
      "metadata": {
        "id": "eEtfJXFjTyA0"
      },
      "execution_count": null,
      "outputs": []
    },
    {
      "cell_type": "markdown",
      "source": [
        "**Q7. In a repeated measures ANOVA, how would you handle missing data, and what are the potential\n",
        "consequences of using different methods to handle missing data?**"
      ],
      "metadata": {
        "id": "2jkHB7rNTyM1"
      }
    },
    {
      "cell_type": "markdown",
      "source": [
        "- In repeated measures ANOVA, missing data can be handled by using marginal and mixed models which treat each occasion as a different observation of the same variable. GraphPad Prism software can replace repeated measures ANOVA with mixed-effects model ‘restricted maximum likelihood’ (REML) which can handle the missing values."
      ],
      "metadata": {
        "id": "ftUOpl-ab_On"
      }
    },
    {
      "cell_type": "markdown",
      "source": [
        "- Ignoring missing data (i.e. analyzing only the observed data) asssumes that the observed available data are completely representative of the missing data, which requires that the missingness has no connection whatsoever with the outcomes you are interested in (this is called “missing completely at random”, MCAR)."
      ],
      "metadata": {
        "id": "AHwgHAh6cIYr"
      }
    },
    {
      "cell_type": "code",
      "source": [],
      "metadata": {
        "id": "QqAq0__xT12E"
      },
      "execution_count": null,
      "outputs": []
    },
    {
      "cell_type": "markdown",
      "source": [
        "**Q8. What are some common post-hoc tests used after ANOVA, and when would you use each one? Provide\n",
        "an example of a situation where a post-hoc test might be necessary.**"
      ],
      "metadata": {
        "id": "xclnZiWfT2MS"
      }
    },
    {
      "cell_type": "markdown",
      "source": [
        "- Post-hoc tests are used after ANOVA to determine which groups are significantly different from each other. There are many post-hoc tests available, but some of the most common ones include Tukey’s HSD test, Bonferroni correction, Scheffe’s test, and Dunnett’s test."
      ],
      "metadata": {
        "id": "rKhhRwVFhvbz"
      }
    },
    {
      "cell_type": "markdown",
      "source": [
        "- Tukey’s HSD test is used when you have a balanced design (equal sample sizes) and you want to compare all possible pairs of means.\n",
        "-  Bonferroni correction is used when you have a small number of pairwise comparisons and you want to control the family-wise error rate.\n",
        "- Scheffe’s test is used when you have an unbalanced design (unequal sample sizes) and you want to compare all possible pairs of means.\n",
        "- Dunnett’s test is used when you have a control group and you want to compare all other groups to the control group"
      ],
      "metadata": {
        "id": "GwFTkBRN2Q_d"
      }
    },
    {
      "cell_type": "markdown",
      "source": [
        "For example, suppose we have three groups: A, B, and C. We conduct an ANOVA and find that there is a statistically significant difference between the means of the three groups. We then conduct a Tukey’s HSD test and find that the mean of group A is significantly different from the mean of group B (p < 0.05), but not significantly different from the mean of group C (p > 0.05)."
      ],
      "metadata": {
        "id": "BbJmV9Bc2_LE"
      }
    },
    {
      "cell_type": "code",
      "source": [],
      "metadata": {
        "id": "_25-lNIMT6Z4"
      },
      "execution_count": null,
      "outputs": []
    },
    {
      "cell_type": "code",
      "source": [],
      "metadata": {
        "id": "InNQaJalT67H"
      },
      "execution_count": null,
      "outputs": []
    },
    {
      "cell_type": "markdown",
      "source": [
        "**Q9. A researcher wants to compare the mean weight loss of three diets: A, B, and C. They collect data from\n",
        "50 participants who were randomly assigned to one of the diets. Conduct a one-way ANOVA using Python\n",
        "to determine if there are any significant differences between the mean weight loss of the three diets.\n",
        "Report the F-statistic and p-value, and interpret the results.**"
      ],
      "metadata": {
        "id": "EQim0lGkT7Gy"
      }
    },
    {
      "cell_type": "code",
      "source": [
        "import pandas as pd\n",
        "import scipy.stats as stats\n",
        "\n",
        "# Create a dataframe with the data\n",
        "data = {'diet': ['A', 'B', 'C'] * 50,\n",
        "        'weight_loss': [1.2, 1.5, 1.8] * 50}\n",
        "df = pd.DataFrame(data)\n",
        "\n",
        "# Conduct the one-way ANOVA\n",
        "f_statistic, p_value = stats.f_oneway(df[df['diet'] == 'A']['weight_loss'],\n",
        "                                       df[df['diet'] == 'B']['weight_loss'],\n",
        "                                       df[df['diet'] == 'C']['weight_loss'])\n",
        "\n",
        "# Report the F-statistic and p-value\n",
        "print(f\"F-statistic: {f_statistic:.2f}\")\n",
        "print(f\"p-value: {p_value:.4f}\")\n"
      ],
      "metadata": {
        "colab": {
          "base_uri": "https://localhost:8080/"
        },
        "id": "-3smtyCZT-6L",
        "outputId": "64ec29c2-ec84-4415-d51a-d4c82565d824"
      },
      "execution_count": 2,
      "outputs": [
        {
          "output_type": "stream",
          "name": "stdout",
          "text": [
            "F-statistic: inf\n",
            "p-value: 0.0000\n"
          ]
        },
        {
          "output_type": "stream",
          "name": "stderr",
          "text": [
            "/usr/local/lib/python3.10/dist-packages/scipy/stats/_stats_py.py:3895: ConstantInputWarning: Each of the input arrays is constant;the F statistic is not defined or infinite\n",
            "  warnings.warn(stats.ConstantInputWarning(msg))\n"
          ]
        }
      ]
    },
    {
      "cell_type": "code",
      "source": [],
      "metadata": {
        "id": "sixuBk7BT_jn"
      },
      "execution_count": null,
      "outputs": []
    },
    {
      "cell_type": "markdown",
      "source": [
        "**Q10. A company wants to know if there are any significant differences in the average time it takes to\n",
        "complete a task using three different software programs: Program A, Program B, and Program C. They\n",
        "randomly assign 30 employees to one of the programs and record the time it takes each employee to\n",
        "complete the task. Conduct a two-way ANOVA using Python to determine if there are any main effects or\n",
        "interaction effects between the software programs and employee experience level (novice vs.\n",
        "experienced). Report the F-statistics and p-values, and interpret the results.**"
      ],
      "metadata": {
        "id": "ur32b3-7T_yO"
      }
    },
    {
      "cell_type": "code",
      "source": [
        "import pandas as pd\n",
        "import statsmodels.api as sm\n",
        "from statsmodels.formula.api import ols\n",
        "\n",
        "# Create a pandas DataFrame with the data\n",
        "data = {'program': ['A', 'B', 'C'] * 30,\n",
        "        'experience': ['novice'] * 45 + ['experienced'] * 45,\n",
        "        'time': [10.2, 9.8, 10.5, 9.7, 10.1, 10.3, 10.4, 9.9, 10.3, 10.2,\n",
        "                 9.6, 9.7, 9.8, 9.5, 9.6, 9.7, 10.1, 10.2, 10.3, 10.4,\n",
        "                 10.5, 10.6, 10.7, 10.8, 11.0, 11.1, 11.2, 11.3, 11.4,\n",
        "                 11.5] * 3}\n",
        "\n",
        "df = pd.DataFrame(data)\n",
        "\n",
        "# Fit the model\n",
        "model = ols('time ~ C(program) + C(experience) + C(program):C(experience)', data=df).fit()\n",
        "\n",
        "# Print the summary of the model\n",
        "print(model.summary())\n"
      ],
      "metadata": {
        "colab": {
          "base_uri": "https://localhost:8080/"
        },
        "id": "D5qaEANCUEq1",
        "outputId": "3a1de9dc-9d59-4bb9-b466-03cd6c54947f"
      },
      "execution_count": 4,
      "outputs": [
        {
          "output_type": "stream",
          "name": "stdout",
          "text": [
            "                            OLS Regression Results                            \n",
            "==============================================================================\n",
            "Dep. Variable:                   time   R-squared:                       0.073\n",
            "Model:                            OLS   Adj. R-squared:                  0.018\n",
            "Method:                 Least Squares   F-statistic:                     1.327\n",
            "Date:                Mon, 31 Jul 2023   Prob (F-statistic):              0.261\n",
            "Time:                        16:57:44   Log-Likelihood:                -72.985\n",
            "No. Observations:                  90   AIC:                             158.0\n",
            "Df Residuals:                      84   BIC:                             173.0\n",
            "Df Model:                           5                                         \n",
            "Covariance Type:            nonrobust                                         \n",
            "===========================================================================================================\n",
            "                                              coef    std err          t      P>|t|      [0.025      0.975]\n",
            "-----------------------------------------------------------------------------------------------------------\n",
            "Intercept                                  10.4067      0.146     71.520      0.000      10.117      10.696\n",
            "C(program)[T.B]                             0.0133      0.206      0.065      0.948      -0.396       0.423\n",
            "C(program)[T.C]                             0.1800      0.206      0.875      0.384      -0.229       0.589\n",
            "C(experience)[T.novice]                    -0.1733      0.206     -0.842      0.402      -0.583       0.236\n",
            "C(program)[T.B]:C(experience)[T.novice]    -0.1467      0.291     -0.504      0.616      -0.725       0.432\n",
            "C(program)[T.C]:C(experience)[T.novice]    -0.0800      0.291     -0.275      0.784      -0.659       0.499\n",
            "==============================================================================\n",
            "Omnibus:                        4.681   Durbin-Watson:                   0.371\n",
            "Prob(Omnibus):                  0.096   Jarque-Bera (JB):                4.103\n",
            "Skew:                           0.436   Prob(JB):                        0.129\n",
            "Kurtosis:                       2.423   Cond. No.                         9.77\n",
            "==============================================================================\n",
            "\n",
            "Notes:\n",
            "[1] Standard Errors assume that the covariance matrix of the errors is correctly specified.\n"
          ]
        }
      ]
    },
    {
      "cell_type": "code",
      "source": [],
      "metadata": {
        "id": "DbA4ayhnUFQP"
      },
      "execution_count": null,
      "outputs": []
    },
    {
      "cell_type": "markdown",
      "source": [
        "**Q11. An educational researcher is interested in whether a new teaching method improves student test\n",
        "scores. They randomly assign 100 students to either the control group (traditional teaching method) or the\n",
        "experimental group (new teaching method) and administer a test at the end of the semester. Conduct a\n",
        "two-sample t-test using Python to determine if there are any significant differences in test scores\n",
        "between the two groups. If the results are significant, follow up with a post-hoc test to determine which\n",
        "group(s) differ significantly from each other.**"
      ],
      "metadata": {
        "id": "SI1fjQWbUFei"
      }
    },
    {
      "cell_type": "code",
      "source": [
        "import numpy as np\n",
        "from scipy.stats import ttest_ind\n",
        "\n",
        "# create two sample data\n",
        "data_group1 = np.array([1, 2, 3, 4, 5])\n",
        "data_group2 = np.array([6, 7, 8, 9, 10])\n",
        "\n",
        "# perform two sample t-test\n",
        "t_statistic, p_value = ttest_ind(data_group1, data_group2)\n",
        "\n",
        "print(\"t-statistic:\", t_statistic)\n",
        "print(\"p-value:\", p_value)\n"
      ],
      "metadata": {
        "colab": {
          "base_uri": "https://localhost:8080/"
        },
        "id": "AVjoVzuQUIPd",
        "outputId": "81b4ffa9-b45b-4ece-9633-4a98d8c376ee"
      },
      "execution_count": 5,
      "outputs": [
        {
          "output_type": "stream",
          "name": "stdout",
          "text": [
            "t-statistic: -5.0\n",
            "p-value: 0.001052825793366539\n"
          ]
        }
      ]
    },
    {
      "cell_type": "code",
      "source": [],
      "metadata": {
        "id": "ZedpNbFTUI7E"
      },
      "execution_count": null,
      "outputs": []
    },
    {
      "cell_type": "markdown",
      "source": [
        "**Q12.A researcher wants to know if there are any significant differences in the average daily sales of three\n",
        "retail stores: Store A, Store B, and Store C. They randomly select 30 days and record the sales for each store\n",
        "on those days. Conduct a repeated measures ANOVA using Python to determine if there are any\n",
        "\n",
        "significant differences in sales between the three stores. If the results are significant, follow up with a post-\n",
        "hoc test to determine which store(s) differ significantly from each other**"
      ],
      "metadata": {
        "id": "KBniO49PUJeQ"
      }
    },
    {
      "cell_type": "markdown",
      "source": [
        "- the AnovaRM() function from the statsmodels library."
      ],
      "metadata": {
        "id": "TH_SWzA17XSc"
      }
    },
    {
      "cell_type": "code",
      "source": [
        "import pandas as pd\n",
        "from statsmodels.stats.anova import AnovaRM\n",
        "\n",
        "# create a pandas dataframe with the sales data\n",
        "df = pd.DataFrame({\n",
        "    'store': ['A'] * 30 + ['B'] * 30 + ['C'] * 30,\n",
        "    'sales': [10, 12, 8, 9, 11, 13, 10, 12, 8, 9, 11, 13, 10, 12, 8,\n",
        "              9, 11, 13, 10, 12, 8, 9, 11, 13, 10, 12, 8, 9, 11,\n",
        "              13] * 3,\n",
        "    'day': list(range(1,31)) *3\n",
        "})\n",
        "\n",
        "# perform the repeated measures ANOVA using AnovaRM()\n",
        "results = AnovaRM(data=df,\n",
        "                  depvar='sales',\n",
        "                  subject='day',\n",
        "                  within=['store']).fit()\n",
        "\n",
        "print(results)\n"
      ],
      "metadata": {
        "colab": {
          "base_uri": "https://localhost:8080/"
        },
        "id": "c8xSwiJyUNkY",
        "outputId": "fdb767da-8f7b-4a22-9b3f-38d3ad419bbf"
      },
      "execution_count": 11,
      "outputs": [
        {
          "output_type": "stream",
          "name": "stdout",
          "text": [
            "               Anova\n",
            "===================================\n",
            "      F Value Num DF  Den DF Pr > F\n",
            "-----------------------------------\n",
            "store -7.3238 2.0000 58.0000 1.0000\n",
            "===================================\n",
            "\n"
          ]
        }
      ]
    },
    {
      "cell_type": "markdown",
      "source": [
        "- post-hoc test to determine which store(s) differ significantly from each other you can use Tukey’s HSD test."
      ],
      "metadata": {
        "id": "MdFGwSvb7jKm"
      }
    },
    {
      "cell_type": "code",
      "source": [
        "from statsmodels.stats.multicomp import pairwise_tukeyhsd\n",
        "\n",
        "# perform Tukey's HSD test\n",
        "tukey_results = pairwise_tukeyhsd(df['sales'], df['store'])\n",
        "\n",
        "print(tukey_results)\n"
      ],
      "metadata": {
        "colab": {
          "base_uri": "https://localhost:8080/"
        },
        "id": "4VEN643f5Tel",
        "outputId": "6ed0c82e-9359-4ec2-9826-ae12b422c744"
      },
      "execution_count": 12,
      "outputs": [
        {
          "output_type": "stream",
          "name": "stdout",
          "text": [
            "Multiple Comparison of Means - Tukey HSD, FWER=0.05\n",
            "==================================================\n",
            "group1 group2 meandiff p-adj  lower  upper  reject\n",
            "--------------------------------------------------\n",
            "     A      B      0.0   1.0 -1.0694 1.0694  False\n",
            "     A      C      0.0   1.0 -1.0694 1.0694  False\n",
            "     B      C      0.0   1.0 -1.0694 1.0694  False\n",
            "--------------------------------------------------\n"
          ]
        }
      ]
    }
  ]
}