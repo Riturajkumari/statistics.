{
  "nbformat": 4,
  "nbformat_minor": 0,
  "metadata": {
    "colab": {
      "provenance": [],
      "authorship_tag": "ABX9TyNIuqcmT55P97fHBEL8uqgu",
      "include_colab_link": true
    },
    "kernelspec": {
      "name": "python3",
      "display_name": "Python 3"
    },
    "language_info": {
      "name": "python"
    }
  },
  "cells": [
    {
      "cell_type": "markdown",
      "metadata": {
        "id": "view-in-github",
        "colab_type": "text"
      },
      "source": [
        "<a href=\"https://colab.research.google.com/github/Riturajkumari/statistics./blob/main/statistics_assignment6.ipynb\" target=\"_parent\"><img src=\"https://colab.research.google.com/assets/colab-badge.svg\" alt=\"Open In Colab\"/></a>"
      ]
    },
    {
      "cell_type": "markdown",
      "source": [
        "**Q1. Calculate the 95% confidence interval for a sample of data with a mean of 50 and a standard deviation\n",
        "of 5 using Python. Interpret the results.**"
      ],
      "metadata": {
        "id": "4Fx2VGu9u6zz"
      }
    },
    {
      "cell_type": "markdown",
      "source": [
        "To calculate the 95% confidence interval for a sample of data with a mean of 50 and a standard deviation of 5 using Python, you can use the following formula:\n",
        "\n",
        "Confidence Interval = x (+/-)t* (s/√n)\n",
        "\n",
        "where:\n",
        "\n",
        "- x is the sample mean\n",
        "- t is the t-value that corresponds to the confidence level\n",
        "- s is the sample standard deviation\n",
        "- n is the sample size"
      ],
      "metadata": {
        "id": "BQ0bFsGR6_TP"
      }
    },
    {
      "cell_type": "code",
      "source": [
        "import scipy.stats as stats\n",
        "import math\n",
        "\n",
        "sample_size = 100\n",
        "sample_mean = 50\n",
        "sample_std = 5\n",
        "z_critical = stats.norm.ppf(q = 0.975) # Get the z-critical value*\n",
        "margin_of_error = z_critical * (sample_std/math.sqrt(sample_size))\n",
        "confidence_interval = (sample_mean - margin_of_error,\n",
        "                       sample_mean + margin_of_error)\n",
        "\n",
        "print(\"Confidence interval:\", confidence_interval)\n"
      ],
      "metadata": {
        "colab": {
          "base_uri": "https://localhost:8080/"
        },
        "id": "uWg5gdK-u8DR",
        "outputId": "4bf029ed-00d9-49ee-d78a-9860ed331269"
      },
      "execution_count": 11,
      "outputs": [
        {
          "output_type": "stream",
          "name": "stdout",
          "text": [
            "Confidence interval: (49.02001800772997, 50.97998199227003)\n"
          ]
        }
      ]
    },
    {
      "cell_type": "code",
      "source": [],
      "metadata": {
        "id": "aegsm2yS7kMN"
      },
      "execution_count": null,
      "outputs": []
    },
    {
      "cell_type": "markdown",
      "source": [
        "**Q2. Conduct a chi-square goodness of fit test to determine if the distribution of colors of M&Ms in a bag\n",
        "matches the expected distribution of 20% blue, 20% orange, 20% green, 10% yellow, 10% red, and 20%\n",
        "brown. Use Python to perform the test with a significance level of 0.05.**"
      ],
      "metadata": {
        "id": "kGOVd3lVu_aV"
      }
    },
    {
      "cell_type": "code",
      "source": [
        "import scipy.stats as stats\n",
        "import numpy as np\n",
        "\n",
        "observed = np.array([24, 22, 18, 9, 11, 16]) # observed values\n",
        "expected = np.array([20, 20, 20, 10, 10, 20]) # expected values\n",
        "\n",
        "# perform chi-square goodness of fit test\n",
        "chi2_statistic, p_value = stats.chisquare(observed, expected)\n",
        "\n",
        "print(\"Chi2 Statistic: \", chi2_statistic)\n",
        "print(\"P-Value: \", p_value)\n",
        "\n",
        "if p_value < 0.05:\n",
        "    print(\"Reject null hypothesis\")\n",
        "else:\n",
        "    print(\"Fail to reject null hypothesis\")\n"
      ],
      "metadata": {
        "colab": {
          "base_uri": "https://localhost:8080/"
        },
        "id": "fy0GK8c-vAiN",
        "outputId": "e61a7784-3b67-42a3-da17-705145719870"
      },
      "execution_count": 13,
      "outputs": [
        {
          "output_type": "stream",
          "name": "stdout",
          "text": [
            "Chi2 Statistic:  2.2\n",
            "P-Value:  0.8208359692144962\n",
            "Fail to reject null hypothesis\n"
          ]
        }
      ]
    },
    {
      "cell_type": "code",
      "source": [],
      "metadata": {
        "id": "soC5V8xovBWg"
      },
      "execution_count": null,
      "outputs": []
    },
    {
      "cell_type": "markdown",
      "source": [
        "**Q3. Use Python to calculate the chi-square statistic and p-value for a contingency table with the following\n",
        "data:**\n",
        "\n",
        "Outcome 1 20 15\n",
        "\n",
        "Outcome 2 10 25\n",
        "\n",
        "Outcome 3 15 20"
      ],
      "metadata": {
        "id": "LeL9CSOsvBkV"
      }
    },
    {
      "cell_type": "code",
      "source": [
        "from scipy.stats import chi2_contingency\n",
        "\n",
        "observed = [[20, 15], [10, 25], [15, 20]]\n",
        "\n",
        "stat, p, dof, expected = chi2_contingency(observed)\n",
        "\n",
        "print(f\"Chi-square statistic: {stat:.2f}\")\n",
        "print(f\"P-value: {p:.4f}\")\n"
      ],
      "metadata": {
        "colab": {
          "base_uri": "https://localhost:8080/"
        },
        "id": "TCR2_XJyvi6I",
        "outputId": "6547b53b-7b96-4072-b396-1b28ab45a93d"
      },
      "execution_count": 14,
      "outputs": [
        {
          "output_type": "stream",
          "name": "stdout",
          "text": [
            "Chi-square statistic: 5.83\n",
            "P-value: 0.0541\n"
          ]
        }
      ]
    },
    {
      "cell_type": "code",
      "source": [],
      "metadata": {
        "id": "58ETIlPD8Ls-"
      },
      "execution_count": null,
      "outputs": []
    },
    {
      "cell_type": "markdown",
      "source": [
        "**Q4. A study of the prevalence of smoking in a population of 500 individuals found that 60 individuals\n",
        "smoked. Use Python to calculate the 95% confidence interval for the true proportion of individuals in the\n",
        "population who smoke.**"
      ],
      "metadata": {
        "id": "6bSMaeHwvmhq"
      }
    },
    {
      "cell_type": "markdown",
      "source": [
        "- To calculate the 95% confidence interval for the true proportion of individuals in the population who smoke, you can use the following Python code:"
      ],
      "metadata": {
        "id": "pDLGXHec806J"
      }
    },
    {
      "cell_type": "code",
      "source": [
        "import math\n",
        "\n",
        "p = 60/500\n",
        "z = 1.96 # for 95% confidence interval\n",
        "\n",
        "lower = p - z * math.sqrt(p*(1-p)/500)\n",
        "upper = p + z * math.sqrt(p*(1-p)/500)\n",
        "\n",
        "print(f\"The 95% confidence interval for the true proportion of individuals in the population who smoke is ({lower:.4f}, {upper:.4f}).\")\n"
      ],
      "metadata": {
        "colab": {
          "base_uri": "https://localhost:8080/"
        },
        "id": "JsBUFUGt8ao2",
        "outputId": "906758a0-47ea-4f3e-9d9d-f9030d44a61e"
      },
      "execution_count": 15,
      "outputs": [
        {
          "output_type": "stream",
          "name": "stdout",
          "text": [
            "The 95% confidence interval for the true proportion of individuals in the population who smoke is (0.0915, 0.1485).\n"
          ]
        }
      ]
    },
    {
      "cell_type": "code",
      "source": [],
      "metadata": {
        "id": "J7owwfAKvnvK"
      },
      "execution_count": null,
      "outputs": []
    },
    {
      "cell_type": "markdown",
      "source": [
        "**Q5. Calculate the 90% confidence interval for a sample of data with a mean of 75 and a standard deviation\n",
        "of 12 using Python. Interpret the results.**"
      ],
      "metadata": {
        "id": "0lN_UNvE21B8"
      }
    },
    {
      "cell_type": "markdown",
      "source": [
        "To calculate the 90% confidence interval for a sample of data with a mean of 75 and a standard deviation of 12 using Python, you can use the t-distribution. The formula for the confidence interval is:\n",
        "\n",
        "Confidence Interval = x (+/-)t* (s/√n)\n",
        "\n",
        "where x is the sample mean, t is the t-value that corresponds to the confidence level, s is the sample standard deviation, and n is the sample size."
      ],
      "metadata": {
        "id": "NSF1vn_s3Oq4"
      }
    },
    {
      "cell_type": "code",
      "source": [
        "import numpy as np\n",
        "import scipy.stats as st\n",
        "\n",
        "x = 75\n",
        "s = 12\n",
        "n = 100\n",
        "alpha = 0.1\n",
        "\n",
        "t = st.t.ppf(1 - alpha / 2, n - 1)\n",
        "ci = x + np.array([-1, 1]) * t * s / np.sqrt(n)\n",
        "\n",
        "print(f\"Confidence Interval: {ci}\")\n"
      ],
      "metadata": {
        "colab": {
          "base_uri": "https://localhost:8080/"
        },
        "id": "8bAyT0iY22_G",
        "outputId": "0e10c960-2b8c-4c8f-9968-d4d4c93f74a1"
      },
      "execution_count": 1,
      "outputs": [
        {
          "output_type": "stream",
          "name": "stdout",
          "text": [
            "Confidence Interval: [73.00753061 76.99246939]\n"
          ]
        }
      ]
    },
    {
      "cell_type": "markdown",
      "source": [
        "**Q6. Use Python to plot the chi-square distribution with 10 degrees of freedom. Label the axes and shade the\n",
        "area corresponding to a chi-square statistic of 15.**"
      ],
      "metadata": {
        "id": "WStJYl623Xnu"
      }
    },
    {
      "cell_type": "markdown",
      "source": [
        "- use the scipy.stats.chi2 module to plot the chi-square distribution with 10 degrees of freedom in Python"
      ],
      "metadata": {
        "id": "Skw3jGo13i7J"
      }
    },
    {
      "cell_type": "code",
      "source": [
        "import numpy as np\n",
        "import matplotlib.pyplot as plt\n",
        "from scipy.stats import chi2\n",
        "\n",
        "df = 10 # degrees of freedom\n",
        "x = np.linspace(chi2.ppf(0.01, df), chi2.ppf(0.99, df), 100)\n",
        "plt.plot(x, chi2.pdf(x, df), 'r-', lw=5, alpha=0.6)\n",
        "\n",
        "# Shade the area corresponding to a chi-square statistic of 15.\n",
        "shade = np.linspace(chi2.ppf(0.01, df), chi2.ppf(15, df), 100)\n",
        "plt.fill_between(shade, chi2.pdf(shade, df), color='blue', alpha=0.5)\n",
        "\n",
        "plt.xlabel('x')\n",
        "plt.ylabel('Probability density')\n",
        "plt.title('Chi-Square Distribution with 10 Degrees of Freedom')\n",
        "plt.show()\n"
      ],
      "metadata": {
        "colab": {
          "base_uri": "https://localhost:8080/",
          "height": 472
        },
        "id": "sykykpBV3RyU",
        "outputId": "07b8c2d4-f019-48e1-955a-d9389aa74e72"
      },
      "execution_count": 2,
      "outputs": [
        {
          "output_type": "display_data",
          "data": {
            "text/plain": [
              "<Figure size 640x480 with 1 Axes>"
            ],
            "image/png": "[encoded data removed]"
          },
          "metadata": {}
        }
      ]
    },
    {
      "cell_type": "code",
      "source": [],
      "metadata": {
        "id": "Mm3iAOce4TvX"
      },
      "execution_count": null,
      "outputs": []
    },
    {
      "cell_type": "markdown",
      "source": [
        "**Q7. A random sample of 1000 people was asked if they preferred Coke or Pepsi. Of the sample, 520\n",
        "preferred Coke. Calculate a 99% confidence interval for the true proportion of people in the population who\n",
        "prefer Coke.**"
      ],
      "metadata": {
        "id": "ugCOfagU4NXp"
      }
    },
    {
      "cell_type": "markdown",
      "source": [
        "- To calculate the confidence interval for the true proportion of people in the population who prefer Coke, you can use the following Python code:"
      ],
      "metadata": {
        "id": "Zjp_jVW14Vtp"
      }
    },
    {
      "cell_type": "code",
      "source": [
        "import math\n",
        "import scipy.stats as st\n",
        "\n",
        "n = 1000\n",
        "x = 520\n",
        "alpha = 0.01\n",
        "\n",
        "p = x/n\n",
        "se = math.sqrt(p*(1-p)/n)\n",
        "z = st.norm.ppf(1-alpha/2)\n",
        "lcb = p - z*se\n",
        "ucb = p + z*se\n",
        "\n",
        "print(f\"({lcb:.4f}, {ucb:.4f})\")\n"
      ],
      "metadata": {
        "colab": {
          "base_uri": "https://localhost:8080/"
        },
        "id": "4gg91-b_4O9x",
        "outputId": "eb560910-b4de-4f6e-8339-51b2bf9181de"
      },
      "execution_count": 4,
      "outputs": [
        {
          "output_type": "stream",
          "name": "stdout",
          "text": [
            "(0.4793, 0.5607)\n"
          ]
        }
      ]
    },
    {
      "cell_type": "code",
      "source": [],
      "metadata": {
        "id": "tp0RwlEw4xTQ"
      },
      "execution_count": null,
      "outputs": []
    },
    {
      "cell_type": "markdown",
      "source": [
        "**Q8. A researcher hypothesizes that a coin is biased towards tails. They flip the coin 100 times and observe\n",
        "45 tails. Conduct a chi-square goodness of fit test to determine if the observed frequencies match the\n",
        "expected frequencies of a fair coin. Use a significance level of 0.05.**"
      ],
      "metadata": {
        "id": "iJZaGE0P41mE"
      }
    },
    {
      "cell_type": "markdown",
      "source": [
        "-  chi-square goodness of fit test to determine if the observed frequencies match the expected frequencies of a fair coin using Python:"
      ],
      "metadata": {
        "id": "OkVb0DeS5ILx"
      }
    },
    {
      "cell_type": "code",
      "source": [
        "import numpy as np\n",
        "from scipy.stats import chisquare\n",
        "\n",
        "observed = np.array([45, 55])\n",
        "expected = np.array([50, 50])\n",
        "\n",
        "test_statistic, p_value = chisquare(observed, expected)\n",
        "\n",
        "print(f\"Test statistic: {test_statistic:.2f}\")\n",
        "print(f\"P-value: {p_value:.2f}\")\n"
      ],
      "metadata": {
        "colab": {
          "base_uri": "https://localhost:8080/"
        },
        "id": "ILfeDkEz43p2",
        "outputId": "0a6e4844-b0fa-4d48-ae74-61f6cff46668"
      },
      "execution_count": 7,
      "outputs": [
        {
          "output_type": "stream",
          "name": "stdout",
          "text": [
            "Test statistic: 1.00\n",
            "P-value: 0.32\n"
          ]
        }
      ]
    },
    {
      "cell_type": "markdown",
      "source": [
        "**Q9. A study was conducted to determine if there is an association between smoking status (smoker or\n",
        "non-smoker) and lung cancer diagnosis (yes or no). The results are shown in the contingency table below.\n",
        "Conduct a chi-square test for independence to determine if there is a significant association between\n",
        "smoking status and lung cancer diagnosis.**"
      ],
      "metadata": {
        "id": "fa3q6VU05hs3"
      }
    },
    {
      "cell_type": "markdown",
      "source": [
        "Smoker     60        140\n",
        "\n",
        "Non-smoker  30     170"
      ],
      "metadata": {
        "id": "v6Pj22k45nMY"
      }
    },
    {
      "cell_type": "code",
      "source": [
        "import numpy as np\n",
        "from scipy.stats import chi2_contingency\n",
        "\n",
        "obs = np.array([[60, 140], [30, 170]])\n",
        "chi2, p, dof, expected = chi2_contingency(obs)\n",
        "\n",
        "print(f\"Chi-square statistic: {chi2:.4f}\")\n",
        "print(f\"P-value: {p:.4f}\")\n",
        "print(f\"Degrees of freedom: {dof}\")\n",
        "print(\"Expected frequencies:\")\n",
        "print(expected)\n"
      ],
      "metadata": {
        "colab": {
          "base_uri": "https://localhost:8080/"
        },
        "id": "K1uH1L0k5L4C",
        "outputId": "dd106763-b9ff-4059-9e60-95123cb9dc8e"
      },
      "execution_count": 8,
      "outputs": [
        {
          "output_type": "stream",
          "name": "stdout",
          "text": [
            "Chi-square statistic: 12.0573\n",
            "P-value: 0.0005\n",
            "Degrees of freedom: 1\n",
            "Expected frequencies:\n",
            "[[ 45. 155.]\n",
            " [ 45. 155.]]\n"
          ]
        }
      ]
    },
    {
      "cell_type": "markdown",
      "source": [
        "**Q10. A study was conducted to determine if the proportion of people who prefer milk chocolate, dark\n",
        "chocolate, or white chocolate is different in the U.S. versus the U.K. A random sample of 500 people from\n",
        "the U.S. and a random sample of 500 people from the U.K. were surveyed. The results are shown in the\n",
        "contingency table below. Conduct a chi-square test for independence to determine if there is a significant\n",
        "association between chocolate preference and country of origin.**Use a significance level of 0.01."
      ],
      "metadata": {
        "id": "drjQZpeI55Kw"
      }
    },
    {
      "cell_type": "code",
      "source": [
        "import numpy as np\n",
        "from scipy.stats import chi2_contingency\n",
        "\n",
        "obs = np.array([[200, 150, 150], [250, 200, 50], [50, 100, 350]])\n",
        "chi2, pval, dof, exp = chi2_contingency(obs)\n",
        "\n",
        "print(f\"Chi-squared statistic: {chi2:.4f}\")\n",
        "print(f\"P-value: {pval:.4f}\")\n",
        "print(f\"Degrees of freedom: {dof}\")\n",
        "print(\"Expected frequencies:\")\n",
        "print(exp)\n"
      ],
      "metadata": {
        "colab": {
          "base_uri": "https://localhost:8080/"
        },
        "id": "-es7rQgH56tJ",
        "outputId": "3cf947b5-259c-4bec-c606-fb6825b9fe48"
      },
      "execution_count": 16,
      "outputs": [
        {
          "output_type": "stream",
          "name": "stdout",
          "text": [
            "Chi-squared statistic: 417.8788\n",
            "P-value: 0.0000\n",
            "Degrees of freedom: 4\n",
            "Expected frequencies:\n",
            "[[166.66666667 150.         183.33333333]\n",
            " [166.66666667 150.         183.33333333]\n",
            " [166.66666667 150.         183.33333333]]\n"
          ]
        }
      ]
    },
    {
      "cell_type": "code",
      "source": [],
      "metadata": {
        "id": "bwLmj_OE57Vh"
      },
      "execution_count": null,
      "outputs": []
    },
    {
      "cell_type": "markdown",
      "source": [
        "Q11. A random sample of 30 people was selected from a population with an unknown mean and standard\n",
        "deviation. The sample mean was found to be 72 and the sample standard deviation was found to be 10.\n",
        "Conduct a hypothesis test to determine if the population mean is significantly different from 70. Use a\n",
        "significance level of 0.05."
      ],
      "metadata": {
        "id": "0UACK-0L57e5"
      }
    },
    {
      "cell_type": "markdown",
      "source": [
        "To conduct a hypothesis test to determine if the population mean is significantly different from 70, we can use the following steps:\n",
        "\n",
        "State the null hypothesis and alternative hypothesis.\n",
        "\n",
        "Null hypothesis: H0: μ = 70\n",
        "Alternative hypothesis: Ha: μ ≠ 70\n",
        "Determine the level of significance (α).\n",
        "\n",
        "α = 0.05"
      ],
      "metadata": {
        "id": "p514Bx1P6Xm9"
      }
    },
    {
      "cell_type": "code",
      "source": [
        "import scipy.stats as stats\n",
        "\n",
        "sample_mean = 72\n",
        "sample_std_dev = 10\n",
        "n = 30\n",
        "pop_mean = 70\n",
        "alpha = 0.05\n",
        "\n",
        "t_statistic = (sample_mean - pop_mean) / (sample_std_dev / (n ** 0.5))\n",
        "p_value = stats.t.sf(abs(t_statistic), n-1) * 2\n",
        "\n",
        "if p_value < alpha:\n",
        "    print(\"Reject null hypothesis\")\n",
        "else:\n",
        "    print(\"Fail to reject null hypothesis\")\n"
      ],
      "metadata": {
        "colab": {
          "base_uri": "https://localhost:8080/"
        },
        "id": "H_5baQii6DLx",
        "outputId": "f9702044-5ff1-4931-cae8-7e800e021bf1"
      },
      "execution_count": 9,
      "outputs": [
        {
          "output_type": "stream",
          "name": "stdout",
          "text": [
            "Fail to reject null hypothesis\n"
          ]
        }
      ]
    },
    {
      "cell_type": "markdown",
      "source": [
        "- Here, t_statistic is the t-statistic value and p_value is the p-value. If the p-value is less than the significance level (alpha), then we reject the null hypothesis that the population mean is equal to 70; otherwise, we fail to reject it."
      ],
      "metadata": {
        "id": "8LkehyUx6qk3"
      }
    }
  ]
}