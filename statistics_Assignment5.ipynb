{
  "nbformat": 4,
  "nbformat_minor": 0,
  "metadata": {
    "colab": {
      "provenance": [],
      "authorship_tag": "ABX9TyNQdgrLoarALJOXnj8wm2cQ",
      "include_colab_link": true
    },
    "kernelspec": {
      "name": "python3",
      "display_name": "Python 3"
    },
    "language_info": {
      "name": "python"
    }
  },
  "cells": [
    {
      "cell_type": "markdown",
      "metadata": {
        "id": "view-in-github",
        "colab_type": "text"
      },
      "source": [
        "<a href=\"https://colab.research.google.com/github/Riturajkumari/statistics./blob/main/statistics_Assignment5.ipynb\" target=\"_parent\"><img src=\"https://colab.research.google.com/assets/colab-badge.svg\" alt=\"Open In Colab\"/></a>"
      ]
    },
    {
      "cell_type": "markdown",
      "source": [
        "**Q1: What is the difference between a t-test and a z-test? Provide an example scenario where you would\n",
        "use each type of test.**"
      ],
      "metadata": {
        "id": "02FuldcY2r9k"
      }
    },
    {
      "cell_type": "markdown",
      "source": [
        "- The difference between a t-test and a z-test is that a z-test is used when the population standard deviation is known, while a t-test is used when the population standard deviation is unknown.\n",
        "-  A z-test uses a normal distribution, while a t-test uses a Student’s t distribution.\n",
        "- A z-test does not require degrees of freedom, while a t-test does.\n",
        "-  A z-test uses the standard error, while a t-test uses the estimated standard error.\n",
        "- A z-test is used for testing proportions when np > 10 and n (1 - p) > 10, while a t-test is not."
      ],
      "metadata": {
        "id": "M99TPt6oWgaO"
      }
    },
    {
      "cell_type": "code",
      "source": [],
      "metadata": {
        "id": "P4AMl8OA2tQJ"
      },
      "execution_count": null,
      "outputs": []
    },
    {
      "cell_type": "markdown",
      "source": [
        "**Q2: Differentiate between one-tailed and two-tailed tests.**"
      ],
      "metadata": {
        "id": "1VwTeQqJ2uOi"
      }
    },
    {
      "cell_type": "markdown",
      "source": [
        "- One-tailed tests allow for the possibility of an effect in one direction. Two-tailed tests test for the possibility of an effect in two directions.\n",
        "\n",
        "- One-tailed tests are used when the research hypothesis entails the direction of the difference, while two-tailed tests are used when the research hypothesis does not specify the direction of the difference.\n",
        "- Two-tailed tests are more conservative than one-tailed tests because they require a more extreme test statistic to reject the null hypothesis."
      ],
      "metadata": {
        "id": "3Ih1V0NAX-Am"
      }
    },
    {
      "cell_type": "code",
      "source": [],
      "metadata": {
        "id": "Yh0w7-9I2xs2"
      },
      "execution_count": null,
      "outputs": []
    },
    {
      "cell_type": "markdown",
      "source": [
        "**Q3: Explain the concept of Type 1 and Type 2 errors in hypothesis testing. Provide an example scenario for\n",
        "each type of error.**"
      ],
      "metadata": {
        "id": "_pNJLVd92zlk"
      }
    },
    {
      "cell_type": "markdown",
      "source": [
        "- In hypothesis testing, Type I error occurs when a null hypothesis is rejected when it is actually true. Examples of Type I error include thinking that a person is guilty when they are actually innocent or thinking that a rock climbing equipment may not be safe when it really is safe.\n",
        "\n",
        "- Type II error occurs when a null hypothesis is not rejected when it is actually false. Examples of Type II error include thinking that a person is innocent when they are actually guilty or thinking that a rock climbing equipment may be safe when it really is not safe.\n",
        "   - For example, suppose we want to test whether a coin is fair or not. The null hypothesis (H0) would be that the coin is fair.\n",
        "   - Suppose we set the significance level at 0.05. If we reject the null hypothesis when it is actually true (i.e., the coin is fair), then we have committed a Type I error. If we fail to reject the null hypothesis when it is actually false (i.e., the coin is not fair), then we have committed a Type II error."
      ],
      "metadata": {
        "id": "GWdSEMkoY4B6"
      }
    },
    {
      "cell_type": "code",
      "source": [],
      "metadata": {
        "id": "p1mPBRrV20zQ"
      },
      "execution_count": null,
      "outputs": []
    },
    {
      "cell_type": "markdown",
      "source": [
        "**Q4: Explain Bayes's theorem with an example.**"
      ],
      "metadata": {
        "id": "avWaoS3s24_F"
      }
    },
    {
      "cell_type": "markdown",
      "source": [
        "Bayes' theorem is a mathematical formula that calculates the probability of an event occurring based on prior knowledge of conditions that might be related to the event. Examples of Bayes' theorem include.\n",
        "- Assessing the risk of developing health problems based on age\n",
        "- Determining the risks and returns of an investment in finance\n",
        "- Determining credit ratings\n",
        "- Determining the accuracy of results of a medical test in medical science\n",
        "- Detecting spam and credit card fraud in machine learning and artificial intelligence."
      ],
      "metadata": {
        "id": "foE8klwRlchy"
      }
    },
    {
      "cell_type": "markdown",
      "source": [
        "Using Bayes’ theorem, we can calculate the probability as follows:\n",
        "\n",
        "P(A|B) = P(B|A) * P(A) / P(B)\n",
        "\n",
        "where:\n",
        "\n",
        "- P(A|B) is the probability of having breast cancer given a positive mammogram result\n",
        "- P(B|A) is the probability of having a positive mammogram result given that you have breast cancer (which is 0.9)\n",
        "- P(A) is the prior probability of having breast cancer (which is 0.01)\n",
        "- P(B) is the probability of having a positive mammogram result (which can be calculated as follows: P(B) = P(B|A) * P(A) + P(B|A) * P(A), where ~A means “not A” or “no breast cancer”)"
      ],
      "metadata": {
        "id": "aV2b1G3Clx6m"
      }
    },
    {
      "cell_type": "code",
      "source": [],
      "metadata": {
        "id": "i1ycVRaA26fW"
      },
      "execution_count": null,
      "outputs": []
    },
    {
      "cell_type": "markdown",
      "source": [
        "**Q5: What is a confidence interval? How to calculate the confidence interval, explain with an example.**"
      ],
      "metadata": {
        "id": "P_J16Htj26ot"
      }
    },
    {
      "cell_type": "markdown",
      "source": [
        "- A confidence interval is a range of values that is likely to contain a population mean with a certain level of confidence. It is used to estimate the population parameter from a sample statistic. The confidence interval is calculated using the sample mean, standard deviation, sample size, and the level of confidence.\n"
      ],
      "metadata": {
        "id": "B6WB37jtmVJJ"
      }
    },
    {
      "cell_type": "code",
      "source": [
        "import numpy as np\n",
        "import scipy.stats as st\n",
        "\n",
        "gfg_data = [1, 1, 1, 2, 2, 2, 3, 3, 3, 3, 3, 4, 4, 5, 5, 5, 6, 7, 8, 10]\n",
        "st.t.interval(alpha=0.90, df=len(gfg_data)-1, loc=np.mean(gfg_data), scale=st.sem(gfg_data))\n"
      ],
      "metadata": {
        "id": "Co0C1-az29IL",
        "colab": {
          "base_uri": "https://localhost:8080/"
        },
        "outputId": "de72e045-d500-439b-dffe-97addf1b6e88"
      },
      "execution_count": 1,
      "outputs": [
        {
          "output_type": "stream",
          "name": "stderr",
          "text": [
            "<ipython-input-1-9e130ac95f1d>:5: DeprecationWarning: Use of keyword argument 'alpha' for method 'interval' is deprecated and wil be removed in SciPy 1.11.0. Use first positional argument or keyword argument 'confidence' instead.\n",
            "  st.t.interval(alpha=0.90, df=len(gfg_data)-1, loc=np.mean(gfg_data), scale=st.sem(gfg_data))\n"
          ]
        },
        {
          "output_type": "execute_result",
          "data": {
            "text/plain": [
              "(2.962098014195961, 4.837901985804038)"
            ]
          },
          "metadata": {},
          "execution_count": 1
        }
      ]
    },
    {
      "cell_type": "code",
      "source": [],
      "metadata": {
        "id": "gN_kKenF29nf"
      },
      "execution_count": null,
      "outputs": []
    },
    {
      "cell_type": "markdown",
      "source": [
        "**Q6. Use Bayes' Theorem to calculate the probability of an event occurring given prior knowledge of the\n",
        "event's probability and new evidence. Provide a sample problem and solution.**"
      ],
      "metadata": {
        "id": "QcTUyY5729yK"
      }
    },
    {
      "cell_type": "markdown",
      "source": [
        "- Bayes’ Theorem is a mathematical formula used to calculate conditional probabilities. It is named after Reverend Thomas Bayes who first formulated the theorem in the 18th century. The theorem is used to calculate the probability of an event occurring given prior knowledge of the event’s probability and new evidence.\n",
        "\n",
        "The formula for Bayes’ Theorem is:\n",
        "\n",
        "P(A|B) = P(B|A) * P(A) / P(B)\n",
        "\n",
        "where:\n",
        "\n",
        "   - P(A|B) is the probability of A given B\n",
        "   - P(B|A) is the probability of B given A\n",
        "   - P(A) is the prior probability of A\n",
        "   - P(B) is the prior probability of B"
      ],
      "metadata": {
        "id": "OuFrEa12m3iu"
      }
    },
    {
      "cell_type": "code",
      "source": [
        "def bayesTheorem(pA, pB, pBA):\n",
        "    return pA * pBA / pB\n",
        "\n"
      ],
      "metadata": {
        "id": "YCRKc7l23A7A"
      },
      "execution_count": 2,
      "outputs": []
    },
    {
      "cell_type": "code",
      "source": [
        "#define probabilities\n",
        "pRain = 0.2\n",
        "pCloudy = 0.4\n",
        "pCloudyRain = 0.85\n",
        "\n",
        "#use function to calculate conditional probability\n",
        "bayesTheorem (pRain, pCloudy, pCloudyRain)\n",
        "\n"
      ],
      "metadata": {
        "id": "zuIl05zC3Ban",
        "colab": {
          "base_uri": "https://localhost:8080/"
        },
        "outputId": "72e7ad08-94ac-4057-cf04-db52eef6723d"
      },
      "execution_count": 3,
      "outputs": [
        {
          "output_type": "execute_result",
          "data": {
            "text/plain": [
              "0.425"
            ]
          },
          "metadata": {},
          "execution_count": 3
        }
      ]
    },
    {
      "cell_type": "code",
      "source": [],
      "metadata": {
        "id": "gcT96oi0nPPl"
      },
      "execution_count": null,
      "outputs": []
    },
    {
      "cell_type": "markdown",
      "source": [
        "**Q7. Calculate the 95% confidence interval for a sample of data with a mean of 50 and a standard deviation\n",
        "of 5. Interpret the results.**"
      ],
      "metadata": {
        "id": "gM63d6AZ3Bli"
      }
    },
    {
      "cell_type": "markdown",
      "source": [
        "- To calculate the 95% confidence interval for a sample of data with a mean of 50 and a standard deviation of 5, we can use the formula:\n",
        ""
      ],
      "metadata": {
        "id": "-3IKtQFqngMa"
      }
    },
    {
      "cell_type": "markdown",
      "source": [
        "CI = x̄ ± z*(σ/√n)"
      ],
      "metadata": {
        "id": "Fuj7-ms1n-Tq"
      }
    },
    {
      "cell_type": "markdown",
      "source": [
        "- where CI is the confidence interval, x̄ is the sample mean, σ is the population standard deviation, n is the sample size, and z is the z-score associated with the desired level of confidence. For a 95% confidence interval, z = 1.96."
      ],
      "metadata": {
        "id": "3OsgE24uoDJS"
      }
    },
    {
      "cell_type": "markdown",
      "source": [
        "- CI = 50 ± 1.96*(5/√n)\n"
      ],
      "metadata": {
        "id": "ROiyeWsNoDSi"
      }
    },
    {
      "cell_type": "code",
      "source": [],
      "metadata": {
        "id": "-QQMl_YgoCTK"
      },
      "execution_count": null,
      "outputs": []
    },
    {
      "cell_type": "markdown",
      "source": [
        "**Q8. What is the margin of error in a confidence interval? How does sample size affect the margin of error?\n",
        "Provide an example of a scenario where a larger sample size would result in a smaller margin of error.**"
      ],
      "metadata": {
        "id": "ic-RKD0o3FVU"
      }
    },
    {
      "cell_type": "markdown",
      "source": [
        "- The margin of error is the amount of error that you can tolerate in your results. It is half the width of the confidence interval. The larger the sample size, the smaller the margin of error. Conversely, the smaller the sample size, the larger the margin of error."
      ],
      "metadata": {
        "id": "Rn2r2VMvohJI"
      }
    },
    {
      "cell_type": "markdown",
      "source": [
        "- For example, suppose we want to estimate the proportion of people who support a particular candidate in an election. We take a random sample of 1000 people and find that 600 of them support the candidate. We want to construct a 95% confidence interval for the true proportion of people who support the candidate. The formula for a confidence interval for a population proportion is:\n",
        "\n",
        "      - Confidence Interval = p ± z*√p (1-p) / n\n",
        "    where:\n",
        "    - p is the sample proportion,\n",
        "    - z is the z-score for the desired confidence level (1.96 for 95% confidence level),\n",
        "    - n is the sample size."
      ],
      "metadata": {
        "id": "YB4IwDJMol2Y"
      }
    },
    {
      "cell_type": "markdown",
      "source": [
        "The margin of error is:\n",
        "\n",
        "Margin of Error = z*√p (1-p) / n\n",
        "\n",
        "If we use a sample size of 1000, then our margin of error is:\n",
        "\n",
        "Margin of Error = 1.96*√(0.6)(0.4) / 1000 = 0.03\n",
        "\n",
        "So our 95% confidence interval is:\n",
        "\n",
        "Confidence Interval = 0.6 ± 0.03\n",
        "  - This means that we are 95% confident that the true proportion of people who support this candidate lies between 0.57 and 0.63."
      ],
      "metadata": {
        "id": "Y6CV1tuVpATI"
      }
    },
    {
      "cell_type": "code",
      "source": [],
      "metadata": {
        "id": "RI5DD5g33IpO"
      },
      "execution_count": null,
      "outputs": []
    },
    {
      "cell_type": "markdown",
      "source": [
        "**Q9. Calculate the z-score for a data point with a value of 75, a population mean of 70, and a population\n",
        "standard deviation of 5. Interpret the results.**"
      ],
      "metadata": {
        "id": "Vp4hZ0l83I0z"
      }
    },
    {
      "cell_type": "markdown",
      "source": [
        "The formula for calculating the z-score is:\n",
        "\n",
        "z = (x - μ) / σ\n",
        "\n",
        "where,  x is the value of your data point, μ is the mean of the sample or data set, and σ is the standard deviation.\n",
        "\n",
        "In this case, x = 75, μ = 70, and σ = 5.\n",
        "\n",
        "So,\n",
        "\n",
        "z = (75 - 70) / 5\n",
        "\n",
        "z = 1\n",
        "\n",
        "The z-score of the data point with a value of 75 is 1."
      ],
      "metadata": {
        "id": "6g30YjyBpUOq"
      }
    },
    {
      "cell_type": "code",
      "source": [],
      "metadata": {
        "id": "8QvWhQ6m3Mug"
      },
      "execution_count": null,
      "outputs": []
    },
    {
      "cell_type": "markdown",
      "source": [
        "**Q10. In a study of the effectiveness of a new weight loss drug, a sample of 50 participants lost an average\n",
        "of 6 pounds with a standard deviation of 2.5 pounds. Conduct a hypothesis test to determine if the drug is\n",
        "significantly effective at a 95% confidence level using a t-test.**"
      ],
      "metadata": {
        "id": "yfRS38ER3M6H"
      }
    },
    {
      "cell_type": "markdown",
      "source": [
        "- To conduct a hypothesis test to determine if the drug is significantly effective at a 95% confidence level using a t-test, we need to follow these steps:\n",
        "\n",
        "- State the null hypothesis and alternative hypothesis.\n",
        "- Determine the level of significance (alpha).\n",
        "- Calculate the test statistic.\n",
        "- Determine the critical value.\n",
        "- Compare the test statistic with the critical value.\n",
        "\n",
        "Make a decision and interpret the results.\n",
        "The null hypothesis is that the drug is not significantly effective, while the alternative hypothesis is that it is significantly effective. The level of significance (alpha) is 0.05."
      ],
      "metadata": {
        "id": "potCduPmp5b5"
      }
    },
    {
      "cell_type": "markdown",
      "source": [
        "- The test statistic is calculated as follows:\n",
        "\n",
        "t = (x̄ - μ) / (s / √n)\n",
        "\n",
        "where x̄ is the sample mean, μ is the population mean (which we assume to be 0),\n",
        "\n",
        "s is the sample standard deviation, and n is the sample size."
      ],
      "metadata": {
        "id": "viMOFyNVqMaK"
      }
    },
    {
      "cell_type": "code",
      "source": [],
      "metadata": {
        "id": "omB5Nx1Q3RHV"
      },
      "execution_count": null,
      "outputs": []
    },
    {
      "cell_type": "markdown",
      "source": [
        "**Q11. In a survey of 500 people, 65% reported being satisfied with their current job. Calculate the 95%\n",
        "confidence interval for the true proportion of people who are satisfied with their job.**"
      ],
      "metadata": {
        "id": "cv24C3OX3RSc"
      }
    },
    {
      "cell_type": "markdown",
      "source": [
        "- To calculate the 95% confidence interval for the true proportion of people who are satisfied with their job, we can use the formula:\n",
        "\n",
        "Confidence interval = p +/- z* (√ p (1-p)/n)\n",
        "\n",
        "where: p: sample proportion z: the z-critical value based on the confidence,\n",
        " n: sample size\n",
        "\n",
        "In this case, we have a sample size of 500 and a sample proportion of 0.65. The z-critical value for a 95% confidence level is approximately 1.96 ."
      ],
      "metadata": {
        "id": "SgDCAY58qf70"
      }
    },
    {
      "cell_type": "code",
      "source": [
        "import math\n",
        "\n",
        "n = 500\n",
        "p = 0.65\n",
        "z = 1.96\n",
        "\n",
        "lower_bound = p - z * math.sqrt((p * (1 - p)) / n)\n",
        "upper_bound = p + z * math.sqrt((p * (1 - p)) / n)\n",
        "\n",
        "print(f\"The 95% confidence interval is ({lower_bound:.4f}, {upper_bound:.4f})\")\n"
      ],
      "metadata": {
        "id": "glMQ2Q6y3UtD",
        "colab": {
          "base_uri": "https://localhost:8080/"
        },
        "outputId": "9b00f49b-d239-4563-b349-70f3063994e8"
      },
      "execution_count": 6,
      "outputs": [
        {
          "output_type": "stream",
          "name": "stdout",
          "text": [
            "The 95% confidence interval is (0.6082, 0.6918)\n"
          ]
        }
      ]
    },
    {
      "cell_type": "code",
      "source": [],
      "metadata": {
        "id": "H2rpMj9prDm0"
      },
      "execution_count": null,
      "outputs": []
    },
    {
      "cell_type": "markdown",
      "source": [
        "**Q12. A researcher is testing the effectiveness of two different teaching methods on student performance.\n",
        "Sample A has a mean score of 85 with a standard deviation of 6, while sample B has a mean score of 82\n",
        "with a standard deviation of 5. Conduct a hypothesis test to determine if the two teaching methods have a\n",
        "significant difference in student performance using a t-test with a significance level of 0.01.**"
      ],
      "metadata": {
        "id": "QdWtBBhm3VXt"
      }
    },
    {
      "cell_type": "code",
      "source": [
        "import numpy as np\n",
        "from scipy.stats import ttest_ind\n",
        "\n",
        "sample_A = np.array([85])\n",
        "sample_B = np.array([82])\n",
        "\n",
        "mean_A = np.mean(sample_A)\n",
        "std_A = np.std(sample_A)\n",
        "\n",
        "mean_B = np.mean(sample_B)\n",
        "std_B = np.std(sample_B)\n",
        "\n",
        "t_statistic, p_value = ttest_ind(sample_A, sample_B)\n",
        "\n",
        "print(\"Mean of sample A:\", mean_A)\n",
        "print(\"Standard deviation of sample A:\", std_A)\n",
        "print(\"Mean of sample B:\", mean_B)\n",
        "print(\"Standard deviation of sample B:\", std_B)\n",
        "print(\"T-statistic:\", t_statistic)\n",
        "print(\"P-value:\", p_value)\n",
        "\n",
        "if p_value < 0.01:\n",
        "    print(\"Reject null hypothesis\")\n",
        "else:\n",
        "    print(\"Fail to reject null hypothesis\")\n"
      ],
      "metadata": {
        "id": "qz3Cflcu3YPa",
        "colab": {
          "base_uri": "https://localhost:8080/"
        },
        "outputId": "2e6b2ea1-69f4-44cf-e4d4-031f47c64187"
      },
      "execution_count": 10,
      "outputs": [
        {
          "output_type": "stream",
          "name": "stdout",
          "text": [
            "Mean of sample A: 85.0\n",
            "Standard deviation of sample A: 0.0\n",
            "Mean of sample B: 82.0\n",
            "Standard deviation of sample B: 0.0\n",
            "T-statistic: nan\n",
            "P-value: nan\n",
            "Fail to reject null hypothesis\n"
          ]
        },
        {
          "output_type": "stream",
          "name": "stderr",
          "text": [
            "<ipython-input-10-95dd5a681177>:13: RuntimeWarning: Precision loss occurred in moment calculation due to catastrophic cancellation. This occurs when the data are nearly identical. Results may be unreliable.\n",
            "  t_statistic, p_value = ttest_ind(sample_A, sample_B)\n",
            "/usr/local/lib/python3.10/dist-packages/scipy/stats/_stats_py.py:1214: RuntimeWarning: divide by zero encountered in true_divide\n",
            "  var *= np.divide(n, n-ddof)  # to avoid error on division by zero\n",
            "/usr/local/lib/python3.10/dist-packages/scipy/stats/_stats_py.py:1214: RuntimeWarning: invalid value encountered in double_scalars\n",
            "  var *= np.divide(n, n-ddof)  # to avoid error on division by zero\n"
          ]
        }
      ]
    },
    {
      "cell_type": "code",
      "source": [],
      "metadata": {
        "id": "eBxG_YJZ3Y7R"
      },
      "execution_count": null,
      "outputs": []
    },
    {
      "cell_type": "markdown",
      "source": [
        "**Q13. A population has a mean of 60 and a standard deviation of 8. A sample of 50 observations has a mean\n",
        "of 65. Calculate the 90% confidence interval for the true population mean.**"
      ],
      "metadata": {
        "id": "vcKGgKyU3ZF8"
      }
    },
    {
      "cell_type": "code",
      "source": [
        "import math\n",
        "import scipy.stats as stats\n",
        "\n",
        "x_bar = 65\n",
        "s = 8\n",
        "n = 50\n",
        "alpha = 0.1\n",
        "\n",
        "t_critical = stats.t.ppf(1 - alpha / 2, n - 1)\n",
        "margin_of_error = t_critical * s / math.sqrt(n)\n",
        "\n",
        "confidence_interval = (x_bar - margin_of_error, x_bar + margin_of_error)\n",
        "\n",
        "print(\"The 90% confidence interval for the true population mean is:\", confidence_interval)\n"
      ],
      "metadata": {
        "id": "1vGta97O3dHk",
        "colab": {
          "base_uri": "https://localhost:8080/"
        },
        "outputId": "f4bdf21a-fa82-40ca-e293-b8c8a787008f"
      },
      "execution_count": 11,
      "outputs": [
        {
          "output_type": "stream",
          "name": "stdout",
          "text": [
            "The 90% confidence interval for the true population mean is: (63.10319919251691, 66.89680080748309)\n"
          ]
        }
      ]
    },
    {
      "cell_type": "code",
      "source": [],
      "metadata": {
        "id": "CGdPMZPd3dka"
      },
      "execution_count": null,
      "outputs": []
    }
  ]
}