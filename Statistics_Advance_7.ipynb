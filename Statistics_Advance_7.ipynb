{
  "nbformat": 4,
  "nbformat_minor": 0,
  "metadata": {
    "colab": {
      "provenance": [],
      "authorship_tag": "ABX9TyP8W+BPyNQGxqr6F+25918i",
      "include_colab_link": true
    },
    "kernelspec": {
      "name": "python3",
      "display_name": "Python 3"
    },
    "language_info": {
      "name": "python"
    }
  },
  "cells": [
    {
      "cell_type": "markdown",
      "metadata": {
        "id": "view-in-github",
        "colab_type": "text"
      },
      "source": [
        "<a href=\"https://colab.research.google.com/github/Riturajkumari/statistics./blob/main/Statistics_Advance_7.ipynb\" target=\"_parent\"><img src=\"https://colab.research.google.com/assets/colab-badge.svg\" alt=\"Open In Colab\"/></a>"
      ]
    },
    {
      "cell_type": "markdown",
      "source": [
        "**Q1. Write a Python function that takes in two arrays of data and calculates the F-value for a variance ratio\n",
        "test. The function should return the F-value and the corresponding p-value for the test.**"
      ],
      "metadata": {
        "id": "U8CVNXSO9CQV"
      }
    },
    {
      "cell_type": "markdown",
      "source": [
        "- calculates the F-value for a variance ratio test. The function returns the F-value and the corresponding p-value for the test:"
      ],
      "metadata": {
        "id": "vRBJ4vk-99jn"
      }
    },
    {
      "cell_type": "code",
      "source": [
        "import numpy as np\n",
        "from scipy.stats import f\n",
        "\n",
        "def variance_ratio_test(arr1, arr2):\n",
        "    var1 = np.var(arr1, ddof=1)\n",
        "    var2 = np.var(arr2, ddof=1)\n",
        "    f_value = var1/var2\n",
        "    dfn = len(arr1) - 1\n",
        "    dfd = len(arr2) - 1\n",
        "    p_value = 1 - f.cdf(f_value, dfn, dfd)\n",
        "    return f_value, p_value\n",
        "\n"
      ],
      "metadata": {
        "id": "ZExm3J4k9DdD"
      },
      "execution_count": 1,
      "outputs": []
    },
    {
      "cell_type": "code",
      "source": [
        "arr1 = [1, 2, 3, 4]\n",
        "arr2 = [5, 6, 7, 8]\n",
        "f_value, p_value = variance_ratio_test(arr1, arr2)\n",
        "print(\"F-value:\", f_value)\n",
        "print(\"p-value:\", p_value)\n",
        "\n"
      ],
      "metadata": {
        "colab": {
          "base_uri": "https://localhost:8080/"
        },
        "id": "RvJyYkVT9Ezp",
        "outputId": "965ea5b0-2c15-458d-97e6-9ed9b0447ea6"
      },
      "execution_count": 2,
      "outputs": [
        {
          "output_type": "stream",
          "name": "stdout",
          "text": [
            "F-value: 1.0\n",
            "p-value: 0.4999999999999999\n"
          ]
        }
      ]
    },
    {
      "cell_type": "code",
      "source": [],
      "metadata": {
        "id": "T8L8G8u0-N9g"
      },
      "execution_count": null,
      "outputs": []
    },
    {
      "cell_type": "markdown",
      "source": [
        "**Q2. Given a significance level of 0.05 and the degrees of freedom for the numerator and denominator of an\n",
        "F-distribution, write a Python function that returns the critical F-value for a two-tailed test.**"
      ],
      "metadata": {
        "id": "fgOulDqk9FGH"
      }
    },
    {
      "cell_type": "markdown",
      "source": [
        "scipy.stats.f.ppf() function to find the F critical value in Python. The function uses the following syntax: scipy.stats.f.ppf(q, dfn, dfd), where:\n",
        "\n",
        "- q: The significance level to use\n",
        "- dfn: The numerator degrees of freedom\n",
        "- dfd: The denominator degrees of freedom"
      ],
      "metadata": {
        "id": "Duzam96N-hWr"
      }
    },
    {
      "cell_type": "markdown",
      "source": [
        "- example code snippet that shows how to find the F critical value for a significance level of 0.05, numerator degrees of freedom = 6, and denominator degrees of freedom = 8:"
      ],
      "metadata": {
        "id": "kcevfTxI-32j"
      }
    },
    {
      "cell_type": "code",
      "source": [
        "import scipy.stats\n",
        "\n",
        "# Find F critical value\n",
        "scipy.stats.f.ppf(q=1-.05, dfn=6, dfd=8)\n"
      ],
      "metadata": {
        "colab": {
          "base_uri": "https://localhost:8080/"
        },
        "id": "RTrtylzn9IUJ",
        "outputId": "f89c7297-326d-4cf6-9681-6e738d4f0765"
      },
      "execution_count": 3,
      "outputs": [
        {
          "output_type": "execute_result",
          "data": {
            "text/plain": [
              "3.5805803197614603"
            ]
          },
          "metadata": {},
          "execution_count": 3
        }
      ]
    },
    {
      "cell_type": "code",
      "source": [],
      "metadata": {
        "id": "flCYFscT9I_-"
      },
      "execution_count": null,
      "outputs": []
    },
    {
      "cell_type": "markdown",
      "source": [
        "**Q3. Write a Python program that generates random samples from two normal distributions with known\n",
        "\n",
        "variances and uses an F-test to determine if the variances are equal. The program should output the F-\n",
        "value, degrees of freedom, and p-value for the test.**"
      ],
      "metadata": {
        "id": "H5Eolvrg9QZQ"
      }
    },
    {
      "cell_type": "markdown",
      "source": [
        "-  random samples from two normal distributions with known variances and uses an F-test to determine if the variances are equal. The program outputs the F-value, degrees of freedom, and p-value for the test."
      ],
      "metadata": {
        "id": "00bnjNV0_owM"
      }
    },
    {
      "cell_type": "code",
      "source": [
        "import numpy as np\n",
        "from scipy.stats import f\n",
        "\n",
        "def f_test(var1, var2):\n",
        "    f_value = np.var(var1) / np.var(var2)\n",
        "    df1 = len(var1) - 1\n",
        "    df2 = len(var2) - 1\n",
        "    p_value = 1 - f.cdf(f_value, df1, df2)\n",
        "    return f_value, df1, df2, p_value\n",
        "\n",
        "variance_1 = 5\n",
        "variance_2 = 10\n",
        "\n",
        "sample_1 = np.random.normal(0, np.sqrt(variance_1), 1000)\n",
        "sample_2 = np.random.normal(0, np.sqrt(variance_2), 1000)\n",
        "\n",
        "f_value, df1, df2, p_value = f_test(sample_1, sample_2)\n",
        "\n",
        "print(f\"F-value: {f_value:.4f}\")\n",
        "print(f\"Degrees of freedom: {df1}, {df2}\")\n",
        "print(f\"P-value: {p_value:.4f}\")\n"
      ],
      "metadata": {
        "colab": {
          "base_uri": "https://localhost:8080/"
        },
        "id": "ULRZT_2o9Nkq",
        "outputId": "ac8b4cd8-739a-48ad-a230-b22bdfe5322e"
      },
      "execution_count": 4,
      "outputs": [
        {
          "output_type": "stream",
          "name": "stdout",
          "text": [
            "F-value: 0.5175\n",
            "Degrees of freedom: 999, 999\n",
            "P-value: 1.0000\n"
          ]
        }
      ]
    },
    {
      "cell_type": "code",
      "source": [],
      "metadata": {
        "id": "7LC9-GXZ9Tye"
      },
      "execution_count": null,
      "outputs": []
    },
    {
      "cell_type": "markdown",
      "source": [
        "**Q4.The variances of two populations are known to be 10 and 15. A sample of 12 observations is taken from\n",
        "each population. Conduct an F-test at the 5% significance level to determine if the variances are\n",
        "significantly different.**"
      ],
      "metadata": {
        "id": "kuRQy-XJ9T-v"
      }
    },
    {
      "cell_type": "code",
      "source": [
        "import numpy as np\n",
        "import scipy.stats as stats\n",
        "\n",
        "def f_test(x, y):\n",
        "    x = np.array(x)\n",
        "    y = np.array(y)\n",
        "    f = np.var(x, ddof=1) / np.var(y, ddof=1)\n",
        "    dfn = x.size - 1\n",
        "    dfd = y.size - 1\n",
        "    p = 1 - stats.f.cdf(f, dfn, dfd)\n",
        "    return f, p\n",
        "\n",
        "x = [12] * 12\n",
        "y = [15] * 12\n",
        "\n",
        "f_statistic, p_value = f_test(x, y)\n",
        "\n",
        "if p_value < 0.05:\n",
        "    print(\"The variances are significantly different.\")\n",
        "else:\n",
        "    print(\"The variances are not significantly different.\")\n"
      ],
      "metadata": {
        "colab": {
          "base_uri": "https://localhost:8080/"
        },
        "id": "5YdlOK789XUW",
        "outputId": "699dba2f-4eb5-43c3-f1e1-b0195eb8f59a"
      },
      "execution_count": 5,
      "outputs": [
        {
          "output_type": "stream",
          "name": "stdout",
          "text": [
            "The variances are not significantly different.\n"
          ]
        },
        {
          "output_type": "stream",
          "name": "stderr",
          "text": [
            "<ipython-input-5-78e359f6ab13>:7: RuntimeWarning: invalid value encountered in double_scalars\n",
            "  f = np.var(x, ddof=1) / np.var(y, ddof=1)\n"
          ]
        }
      ]
    },
    {
      "cell_type": "code",
      "source": [],
      "metadata": {
        "id": "af5pbmpL9YD3"
      },
      "execution_count": null,
      "outputs": []
    },
    {
      "cell_type": "markdown",
      "source": [
        "**Q5. A manufacturer claims that the variance of the diameter of a certain product is 0.005. A sample of 25\n",
        "products is taken, and the sample variance is found to be 0.006. Conduct an F-test at the 1% significance\n",
        "level to determine if the claim is justified.**"
      ],
      "metadata": {
        "id": "sLHsyang9YPQ"
      }
    },
    {
      "cell_type": "code",
      "source": [
        "# scipy.stats.f.cdf() function in Python.\n",
        "import scipy.stats as stats\n",
        "\n",
        "# Claimed variance\n",
        "variance_claimed = 0.005\n",
        "\n",
        "# Sample size\n",
        "n = 25\n",
        "\n",
        "# Sample variance\n",
        "variance_sample = 0.006\n",
        "\n",
        "# Degrees of freedom for numerator and denominator\n",
        "dfn = n - 1\n",
        "dfd = n - 1\n",
        "\n",
        "# F-statistic\n",
        "f_statistic = variance_sample / variance_claimed\n",
        "\n",
        "# p-value\n",
        "p_value = 1 - stats.f.cdf(f_statistic, dfn, dfd)\n",
        "\n",
        "if p_value < 0.01:\n",
        "    print(\"The claim is not justified.\")\n",
        "else:\n",
        "    print(\"The claim is justified.\")\n"
      ],
      "metadata": {
        "colab": {
          "base_uri": "https://localhost:8080/"
        },
        "id": "tDJGnB2z9bNw",
        "outputId": "e482f975-3fad-4c39-9b4e-121058e7ee87"
      },
      "execution_count": 6,
      "outputs": [
        {
          "output_type": "stream",
          "name": "stdout",
          "text": [
            "The claim is justified.\n"
          ]
        }
      ]
    },
    {
      "cell_type": "code",
      "source": [],
      "metadata": {
        "id": "5Iie3z4K9bta"
      },
      "execution_count": null,
      "outputs": []
    },
    {
      "cell_type": "markdown",
      "source": [
        "**Q6. Write a Python function that takes in the degrees of freedom for the numerator and denominator of an\n",
        "F-distribution and calculates the mean and variance of the distribution. The function should return the\n",
        "mean and variance as a tuple.**"
      ],
      "metadata": {
        "id": "GWpLBFvm9b3j"
      }
    },
    {
      "cell_type": "markdown",
      "source": [
        "- Python function that takes in the degrees of freedom for the numerator and denominator of an F-distribution and calculates the mean and variance of the distribution. The function returns the mean and variance as a tuple.\n",
        "\n"
      ],
      "metadata": {
        "id": "qa9AXR9UBFPG"
      }
    },
    {
      "cell_type": "code",
      "source": [
        "import numpy as np\n",
        "from scipy.stats import f\n",
        "\n",
        "def f_distribution_mean_variance(dfn, dfd):\n",
        "    mean = dfd / (dfd - 2)\n",
        "    var = (2 * (dfd ** 2) * (dfn + dfd - 2)) / ((dfn * (dfd - 2) ** 2 * (dfd - 4)))\n",
        "    return mean, var\n",
        "\n",
        "print(f_distribution_mean_variance(3, 5))\n"
      ],
      "metadata": {
        "colab": {
          "base_uri": "https://localhost:8080/"
        },
        "id": "13J7Fxve9e5t",
        "outputId": "9955b658-65cb-47db-d7c8-232c444bedfd"
      },
      "execution_count": 7,
      "outputs": [
        {
          "output_type": "stream",
          "name": "stdout",
          "text": [
            "(1.6666666666666667, 11.11111111111111)\n"
          ]
        }
      ]
    },
    {
      "cell_type": "code",
      "source": [],
      "metadata": {
        "id": "SNNufgO89fcq"
      },
      "execution_count": null,
      "outputs": []
    },
    {
      "cell_type": "markdown",
      "source": [
        "**Q7. A random sample of 10 measurements is taken from a normal population with unknown variance. The\n",
        "sample variance is found to be 25. Another random sample of 15 measurements is taken from another\n",
        "normal population with unknown variance, and the sample variance is found to be 20. Conduct an F-test\n",
        "at the 10% significance level to determine if the variances are significantly different.**"
      ],
      "metadata": {
        "id": "Ifiwid2W9fmS"
      }
    },
    {
      "cell_type": "code",
      "source": [
        "import numpy as np\n",
        "import scipy.stats as stats\n",
        "\n",
        "# Sample variances\n",
        "s1 = 25\n",
        "s2 = 20\n",
        "\n",
        "# Sample sizes\n",
        "n1 = 10\n",
        "n2 = 15\n",
        "\n",
        "# Calculate F-statistic\n",
        "F = s1 / s2\n",
        "\n",
        "# Calculate degrees of freedom for numerator and denominator\n",
        "dfn = n1 - 1\n",
        "dfd = n2 - 1\n",
        "\n",
        "# Calculate p-value for F-statistic\n",
        "p_value = stats.f.cdf(F, dfn, dfd)\n",
        "\n",
        "# Compare p-value with significance level (10%)\n",
        "if p_value < 0.1:\n",
        "    print(\"The variances are significantly different.\")\n",
        "else:\n",
        "    print(\"The variances are not significantly different.\")\n"
      ],
      "metadata": {
        "colab": {
          "base_uri": "https://localhost:8080/"
        },
        "id": "0Vkg-4NV9i16",
        "outputId": "bd98341a-9052-4f92-b6aa-471344001a3b"
      },
      "execution_count": 8,
      "outputs": [
        {
          "output_type": "stream",
          "name": "stdout",
          "text": [
            "The variances are not significantly different.\n"
          ]
        }
      ]
    },
    {
      "cell_type": "code",
      "source": [],
      "metadata": {
        "id": "_tpjijDh9jc_"
      },
      "execution_count": null,
      "outputs": []
    },
    {
      "cell_type": "markdown",
      "source": [
        "**Q8. The following data represent the waiting times in minutes at two different restaurants on a Saturday\n",
        "night: Restaurant A: 24, 25, 28, 23, 22, 20, 27; Restaurant B: 31, 33, 35, 30, 32, 36. Conduct an F-test at the 5%\n",
        "significance level to determine if the variances are significantly different.**"
      ],
      "metadata": {
        "id": "tCgKLlkm9joE"
      }
    },
    {
      "cell_type": "code",
      "source": [
        "import numpy as np\n",
        "from scipy import stats\n",
        "\n",
        "# Data for Restaurant A\n",
        "a = np.array([24, 25, 28, 23, 22, 20, 27])\n",
        "\n",
        "# Data for Restaurant B\n",
        "b = np.array([31, 33, 35, 30, 32, 36])\n",
        "\n",
        "# Calculate the variances of the two samples\n",
        "var_a = np.var(a)\n",
        "var_b = np.var(b)\n",
        "\n",
        "# Calculate the F-statistic and p-value\n",
        "f_statistic = var_a / var_b\n",
        "p_value = stats.f.cdf(f_statistic, len(a)-1, len(b)-1)\n",
        "\n",
        "# Print the results\n",
        "print(\"F-statistic:\", f_statistic)\n",
        "print(\"p-value:\", p_value)\n"
      ],
      "metadata": {
        "colab": {
          "base_uri": "https://localhost:8080/"
        },
        "id": "pVtdDnV99ooQ",
        "outputId": "daf7b067-52e7-4b79-991e-7f95e2e67927"
      },
      "execution_count": 9,
      "outputs": [
        {
          "output_type": "stream",
          "name": "stdout",
          "text": [
            "F-statistic: 1.496767651159843\n",
            "p-value: 0.6625866430359175\n"
          ]
        }
      ]
    },
    {
      "cell_type": "code",
      "source": [],
      "metadata": {
        "id": "dgkXQI849pJD"
      },
      "execution_count": null,
      "outputs": []
    },
    {
      "cell_type": "markdown",
      "source": [
        "**Q9. The following data represent the test scores of two groups of students: Group A: 80, 85, 90, 92, 87, 83;\n",
        "Group B: 75, 78, 82, 79, 81, 84. Conduct an F-test at the 1% significance level to determine if the variances\n",
        "are significantly different.**"
      ],
      "metadata": {
        "id": "BBlBRmgG9pTf"
      }
    },
    {
      "cell_type": "code",
      "source": [
        "import numpy as np\n",
        "import scipy.stats as stats\n",
        "\n",
        "group_a = [80, 85, 90, 92, 87, 83]\n",
        "group_b = [75, 78, 82, 79, 81, 84]\n",
        "\n",
        "f_statistic = np.var(group_a) / np.var(group_b)\n",
        "dfn = len(group_a) - 1\n",
        "dfd = len(group_b) - 1\n",
        "p_value = stats.f.cdf(f_statistic, dfn, dfd)\n",
        "\n",
        "if p_value < 0.01:\n",
        "    print(\"The variances are significantly different.\")\n",
        "else:\n",
        "    print(\"The variances are not significantly different.\")\n"
      ],
      "metadata": {
        "colab": {
          "base_uri": "https://localhost:8080/"
        },
        "id": "NN8_krPR9sUX",
        "outputId": "4fdeeb40-0344-46dd-aefa-fba14de7ebd2"
      },
      "execution_count": 10,
      "outputs": [
        {
          "output_type": "stream",
          "name": "stdout",
          "text": [
            "The variances are not significantly different.\n"
          ]
        }
      ]
    }
  ]
}