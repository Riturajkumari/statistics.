{
  "cells": [
    {
      "cell_type": "markdown",
      "metadata": {
        "id": "view-in-github",
        "colab_type": "text"
      },
      "source": [
        "<a href=\"https://colab.research.google.com/github/Riturajkumari/statistics./blob/main/Statistics_Assignment.ipynb\" target=\"_parent\"><img src=\"https://colab.research.google.com/assets/colab-badge.svg\" alt=\"Open In Colab\"/></a>"
      ]
    },
    {
      "cell_type": "markdown",
      "metadata": {
        "id": "nBSsmClMBcSS"
      },
      "source": [
        "**Q1: What are the Probability Mass Function (PMF) and Probability Density Function (PDF)? Explain with\n",
        "an example.**"
      ]
    },
    {
      "cell_type": "markdown",
      "metadata": {
        "id": "lm_aQx8mBcSV"
      },
      "source": [
        "- PDF is relevant for continuous random variables .\n",
        "- **Probability Density Function**\n",
        "- PDF is used when there is a need to find a solution in a range of continuous random variables\n",
        "- formula F(x)= P(a < x\n",
        "- The solution falls in the radius range of continuous random variables\n",
        "- It is also known as a probability distribution function or a probability function. It is denoted by f(x).\n",
        "- The PDF is essentially a variable density over a given range. It is positive/non-negative at any given point in the graph and the whole of PDF is always equal to one.\n",
        "\n",
        "- In a case where the probability of X on some given value x (continuous random variable) is always 0. In such a case P(X = x) does not work.\n",
        "- probability of X resting in an interval (a, b) along with for P(a< X< b) which can take place using a PDF.\n",
        "\n",
        "- The Probability distribution function formula is defined as, F(x)= P(a < x < b)= ∫ba f(x)dx>0\n",
        "- Probability distribution function can work are:\n",
        "    - Temperature, rainfall and overall weather\n",
        "    - Time computer takes to process input and give output"
      ]
    },
    {
      "cell_type": "markdown",
      "metadata": {
        "id": "xyhuF9iiBcSW"
      },
      "source": [
        "- PMF **Probability Mass function** depends on the values of any real number. It does not go to the value of X which equals to zero and in case of x, the value of PMF is positive.\n",
        "- PMF is used when there is a need to find a solution in a range of discrete random variables.\n",
        "- PMF uses discrete random variables.\n",
        "- formula : p(x)= P(X=x)\n",
        "- The Solutions falls in the radius between numbers of discrete random variables.\n",
        "- The PMF plays an important role in defining a discrete probability distribution and produces distinct outcomes. The formula of PMF is p(x)= P(X=x) i.e the probability of (x)= the probability (X=one specific x)\n",
        "-  Probability mass function can work are:\n",
        "     - Number of students in a class\n",
        "     - Numbers on a dice\n",
        "     - Sides of a coin\n"
      ]
    },
    {
      "cell_type": "code",
      "execution_count": null,
      "metadata": {
        "id": "3F5mSPOhBcSX"
      },
      "outputs": [],
      "source": []
    },
    {
      "cell_type": "code",
      "execution_count": null,
      "metadata": {
        "id": "E-EmuJnbBcSX"
      },
      "outputs": [],
      "source": []
    },
    {
      "cell_type": "markdown",
      "metadata": {
        "id": "P1Eyf1cdBcSY"
      },
      "source": [
        "**Q2: What is Cumulative Density Function (CDF)? Explain with an example. Why CDF is used?**"
      ]
    },
    {
      "cell_type": "markdown",
      "metadata": {
        "id": "hEJhdkr8BcSY"
      },
      "source": [
        "- A cumulative distribution function (CDF) describes the probabilities of a random variable having values less than or equal to x. It is a cumulative function because it sums the total likelihood up to that point. Its output always ranges between 0 and 1.\n",
        "\n",
        "- CDFs have the following definition:\n",
        "\n",
        "   - CDF(x) = P(X ≤ x)\n",
        " - Where X is the random variable, and x is a specific value. The CDF gives us the probability that the random variable X is less than or equal to x."
      ]
    },
    {
      "cell_type": "code",
      "execution_count": null,
      "metadata": {
        "id": "qSlu1gJpBcSY",
        "outputId": "77b4c93e-1c42-41bf-9a45-24ec3ae392c3"
      },
      "outputs": [
        {
          "data": {
            "text/plain": [
              "Text(0.5, 0, 'x')"
            ]
          },
          "execution_count": 3,
          "metadata": {},
          "output_type": "execute_result"
        },
        {
          "data": {
            "image/png": "[encoded data removed]",
            "text/plain": [
              "<Figure size 432x288 with 1 Axes>"
            ]
          },
          "metadata": {
            "needs_background": "light"
          },
          "output_type": "display_data"
        }
      ],
      "source": [
        "# Example 1: CDF of Random Distribution\n",
        "import numpy as np\n",
        "import matplotlib.pyplot as plt\n",
        "\n",
        "#define random sample of data\n",
        "data = np.random.randn(10000)\n",
        "\n",
        "#sort data\n",
        "x = np.sort(data)\n",
        "\n",
        "#calculate CDF values\n",
        "y = 1. * np.arange(len(data)) / (len(data) - 1)\n",
        "\n",
        "#plot CDF\n",
        "plt.plot(x, y)\n",
        "plt.xlabel('x')"
      ]
    },
    {
      "cell_type": "code",
      "execution_count": null,
      "metadata": {
        "id": "0UI03D3GBcSZ"
      },
      "outputs": [],
      "source": []
    },
    {
      "cell_type": "markdown",
      "metadata": {
        "id": "4w4mP35WBcSa"
      },
      "source": [
        "**Q3: What are some examples of situations where the normal distribution might be used as a model?\n",
        "Explain how the parameters of the normal distribution relate to the shape of the distribution.**"
      ]
    },
    {
      "cell_type": "markdown",
      "metadata": {
        "id": "PdOOTPj8BcSa"
      },
      "source": [
        "- In a normal distribution, data is symmetrically distributed with no skew. When plotted on a graph, the data follows a bell shape, with most values clustering around a central region and tapering off as they go further away from the center.\n",
        "- Normal distributions are also called Gaussian distributions or bell curves because of their shape.\n",
        "- properties of normal distributions\n",
        "   Normal distributions have key characteristics that are easy to spot in graphs:\n",
        "\n",
        "   - The mean, median and mode are exactly the same.\n",
        "   - The distribution is symmetric about the mean—half the values fall below the mean and half above the mean.\n",
        "   - The distribution can be described by two values: the mean and the standard deviation."
      ]
    },
    {
      "cell_type": "markdown",
      "metadata": {
        "id": "jvXdXEFsBcSb"
      },
      "source": [
        "The empirical rule, or the 68-95-99.7 rule, tells you where most of your values lie in a normal distribution:\n",
        "\n",
        "- Around 68% of values are within 1 standard deviation from the mean.\n",
        "- Around 95% of values are within 2 standard deviations from the mean.\n",
        "- Around 99.7% of values are within 3 standard deviations from the mean."
      ]
    },
    {
      "cell_type": "markdown",
      "metadata": {
        "id": "4zhBY1TCBcSb"
      },
      "source": [
        "Normal probability density formula:\n",
        "\n",
        "    f(x)=\\dfrac{1}{\\sigma\\sqrt{2\\pi}}e^{-\\dfrac{(x-\\mu)^2}{2\\sigma^2}}"
      ]
    },
    {
      "cell_type": "code",
      "execution_count": null,
      "metadata": {
        "id": "hkmd8S1PBcSb"
      },
      "outputs": [],
      "source": []
    },
    {
      "cell_type": "code",
      "execution_count": null,
      "metadata": {
        "id": "KZ-XLl8WBcSc"
      },
      "outputs": [],
      "source": []
    },
    {
      "cell_type": "markdown",
      "metadata": {
        "id": "_VvcnRiXBcSc"
      },
      "source": [
        "**Q4: Explain the importance of Normal Distribution. Give a few real-life examples of Normal\n",
        "Distribution.**"
      ]
    },
    {
      "cell_type": "markdown",
      "source": [
        "-   **Normal Distribution**, also called the Gaussian Distribution, is the most significant continuous probability distribution. Sometimes it is also called a bell curve. A large number of random variables are either nearly or exactly represented by the normal distribution.\n",
        "- The Normal Distribution is defined by the probability density function for a continuous random variable in a system. Let us say, f(x) is the probability density function and X is the random variable. Hence, it defines a function which is integrated between the range or interval (x to x + dx), giving the probability of random variable X, by considering the values between x and x+dx.\n",
        "- f(x) ≥ 0 ∀ x ϵ (−∞,+∞)\n",
        "\n",
        "And -∞∫+∞ f(x) = 1\n",
        "\n",
        "\n",
        "- Using 1 standard deviation, the Empirical Rule states that,\n",
        "\n",
        "  - Approximately 68% of the data falls within one standard deviation of the mean. (i.e., Between Mean- one Standard Deviation and Mean + one standard deviation)\n",
        "   - Approximately 95% of the data falls within two standard deviations of the mean. (i.e., Between Mean- two Standard Deviation and Mean + two standard deviations)\n",
        "  - Approximately 99.7% of the data fall within three standard deviations of the mean. (i.e., Between Mean- three Standard Deviation and Mean + three standard deviations)\n"
      ],
      "metadata": {
        "id": "HDHvgPlwCvaA"
      }
    },
    {
      "cell_type": "markdown",
      "source": [
        "**properties of the normal distribution**\n",
        "- In a normal distribution, the mean, median and mode are equal.(i.e., Mean = Median= Mode).\n",
        "- The total area under the curve should be equal to 1.\n",
        "- The normally distributed curve should be symmetric at the centre.\n",
        "- There should be exactly half of the values are to the right of the centre and - exactly half of the values are to the left of the centre.\n",
        "- The normal distribution should be defined by the mean and standard deviation.\n",
        "- The normal distribution curve must have only one peak. (i.e., Unimodal)\n",
        "- The curve approaches the x-axis, but it never touches, and it extends farther away from the mean."
      ],
      "metadata": {
        "id": "4XKwF4XQDnOH"
      }
    },
    {
      "cell_type": "markdown",
      "source": [
        "**real-life examples of Normal Distribution.**\n",
        "- The height of people is an example of normal distribution.\n",
        "- Rolling A Dice\n",
        "- Tossing A Coin"
      ],
      "metadata": {
        "id": "ByOJJgfYEJN6"
      }
    },
    {
      "cell_type": "code",
      "source": [
        "# importing packages\n",
        "import seaborn as sns\n",
        "import matplotlib.pyplot as plt\n",
        "df= sns.load_dataset(\"iris\")\n",
        "df.head()"
      ],
      "metadata": {
        "colab": {
          "base_uri": "https://localhost:8080/",
          "height": 206
        },
        "id": "hBJxPBhNI6tU",
        "outputId": "338cbb03-661a-400f-9f71-31eb23c19755"
      },
      "execution_count": null,
      "outputs": [
        {
          "output_type": "execute_result",
          "data": {
            "text/plain": [
              "   sepal_length  sepal_width  petal_length  petal_width species\n",
              "0           5.1          3.5           1.4          0.2  setosa\n",
              "1           4.9          3.0           1.4          0.2  setosa\n",
              "2           4.7          3.2           1.3          0.2  setosa\n",
              "3           4.6          3.1           1.5          0.2  setosa\n",
              "4           5.0          3.6           1.4          0.2  setosa"
            ],
            "text/html": [
              "\n",
              "  <div id=\"df-74457cb9-1a0e-4208-aa39-3e7742308a70\">\n",
              "    <div class=\"colab-df-container\">\n",
              "      <div>\n",
              "<style scoped>\n",
              "    .dataframe tbody tr th:only-of-type {\n",
              "        vertical-align: middle;\n",
              "    }\n",
              "\n",
              "    .dataframe tbody tr th {\n",
              "        vertical-align: top;\n",
              "    }\n",
              "\n",
              "    .dataframe thead th {\n",
              "        text-align: right;\n",
              "    }\n",
              "</style>\n",
              "<table border=\"1\" class=\"dataframe\">\n",
              "  <thead>\n",
              "    <tr style=\"text-align: right;\">\n",
              "      <th></th>\n",
              "      <th>sepal_length</th>\n",
              "      <th>sepal_width</th>\n",
              "      <th>petal_length</th>\n",
              "      <th>petal_width</th>\n",
              "      <th>species</th>\n",
              "    </tr>\n",
              "  </thead>\n",
              "  <tbody>\n",
              "    <tr>\n",
              "      <th>0</th>\n",
              "      <td>5.1</td>\n",
              "      <td>3.5</td>\n",
              "      <td>1.4</td>\n",
              "      <td>0.2</td>\n",
              "      <td>setosa</td>\n",
              "    </tr>\n",
              "    <tr>\n",
              "      <th>1</th>\n",
              "      <td>4.9</td>\n",
              "      <td>3.0</td>\n",
              "      <td>1.4</td>\n",
              "      <td>0.2</td>\n",
              "      <td>setosa</td>\n",
              "    </tr>\n",
              "    <tr>\n",
              "      <th>2</th>\n",
              "      <td>4.7</td>\n",
              "      <td>3.2</td>\n",
              "      <td>1.3</td>\n",
              "      <td>0.2</td>\n",
              "      <td>setosa</td>\n",
              "    </tr>\n",
              "    <tr>\n",
              "      <th>3</th>\n",
              "      <td>4.6</td>\n",
              "      <td>3.1</td>\n",
              "      <td>1.5</td>\n",
              "      <td>0.2</td>\n",
              "      <td>setosa</td>\n",
              "    </tr>\n",
              "    <tr>\n",
              "      <th>4</th>\n",
              "      <td>5.0</td>\n",
              "      <td>3.6</td>\n",
              "      <td>1.4</td>\n",
              "      <td>0.2</td>\n",
              "      <td>setosa</td>\n",
              "    </tr>\n",
              "  </tbody>\n",
              "</table>\n",
              "</div>\n",
              "      <button class=\"colab-df-convert\" onclick=\"convertToInteractive('df-74457cb9-1a0e-4208-aa39-3e7742308a70')\"\n",
              "              title=\"Convert this dataframe to an interactive table.\"\n",
              "              style=\"display:none;\">\n",
              "        \n",
              "  <svg xmlns=\"http://www.w3.org/2000/svg\" height=\"24px\"viewBox=\"0 0 24 24\"\n",
              "       width=\"24px\">\n",
              "    <path d=\"M0 0h24v24H0V0z\" fill=\"none\"/>\n",
              "    <path d=\"M18.56 5.44l.94 2.06.94-2.06 2.06-.94-2.06-.94-.94-2.06-.94 2.06-2.06.94zm-11 1L8.5 8.5l.94-2.06 2.06-.94-2.06-.94L8.5 2.5l-.94 2.06-2.06.94zm10 10l.94 2.06.94-2.06 2.06-.94-2.06-.94-.94-2.06-.94 2.06-2.06.94z\"/><path d=\"M17.41 7.96l-1.37-1.37c-.4-.4-.92-.59-1.43-.59-.52 0-1.04.2-1.43.59L10.3 9.45l-7.72 7.72c-.78.78-.78 2.05 0 2.83L4 21.41c.39.39.9.59 1.41.59.51 0 1.02-.2 1.41-.59l7.78-7.78 2.81-2.81c.8-.78.8-2.07 0-2.86zM5.41 20L4 18.59l7.72-7.72 1.47 1.35L5.41 20z\"/>\n",
              "  </svg>\n",
              "      </button>\n",
              "      \n",
              "  <style>\n",
              "    .colab-df-container {\n",
              "      display:flex;\n",
              "      flex-wrap:wrap;\n",
              "      gap: 12px;\n",
              "    }\n",
              "\n",
              "    .colab-df-convert {\n",
              "      background-color: #E8F0FE;\n",
              "      border: none;\n",
              "      border-radius: 50%;\n",
              "      cursor: pointer;\n",
              "      display: none;\n",
              "      fill: #1967D2;\n",
              "      height: 32px;\n",
              "      padding: 0 0 0 0;\n",
              "      width: 32px;\n",
              "    }\n",
              "\n",
              "    .colab-df-convert:hover {\n",
              "      background-color: #E2EBFA;\n",
              "      box-shadow: 0px 1px 2px rgba(60, 64, 67, 0.3), 0px 1px 3px 1px rgba(60, 64, 67, 0.15);\n",
              "      fill: #174EA6;\n",
              "    }\n",
              "\n",
              "    [theme=dark] .colab-df-convert {\n",
              "      background-color: #3B4455;\n",
              "      fill: #D2E3FC;\n",
              "    }\n",
              "\n",
              "    [theme=dark] .colab-df-convert:hover {\n",
              "      background-color: #434B5C;\n",
              "      box-shadow: 0px 1px 3px 1px rgba(0, 0, 0, 0.15);\n",
              "      filter: drop-shadow(0px 1px 2px rgba(0, 0, 0, 0.3));\n",
              "      fill: #FFFFFF;\n",
              "    }\n",
              "  </style>\n",
              "\n",
              "      <script>\n",
              "        const buttonEl =\n",
              "          document.querySelector('#df-74457cb9-1a0e-4208-aa39-3e7742308a70 button.colab-df-convert');\n",
              "        buttonEl.style.display =\n",
              "          google.colab.kernel.accessAllowed ? 'block' : 'none';\n",
              "\n",
              "        async function convertToInteractive(key) {\n",
              "          const element = document.querySelector('#df-74457cb9-1a0e-4208-aa39-3e7742308a70');\n",
              "          const dataTable =\n",
              "            await google.colab.kernel.invokeFunction('convertToInteractive',\n",
              "                                                     [key], {});\n",
              "          if (!dataTable) return;\n",
              "\n",
              "          const docLinkHtml = 'Like what you see? Visit the ' +\n",
              "            '<a target=\"_blank\" href=https://colab.research.google.com/notebooks/data_table.ipynb>data table notebook</a>'\n",
              "            + ' to learn more about interactive tables.';\n",
              "          element.innerHTML = '';\n",
              "          dataTable['output_type'] = 'display_data';\n",
              "          await google.colab.output.renderOutput(dataTable, element);\n",
              "          const docLink = document.createElement('div');\n",
              "          docLink.innerHTML = docLinkHtml;\n",
              "          element.appendChild(docLink);\n",
              "        }\n",
              "      </script>\n",
              "    </div>\n",
              "  </div>\n",
              "  "
            ]
          },
          "metadata": {},
          "execution_count": 4
        }
      ]
    },
    {
      "cell_type": "code",
      "execution_count": null,
      "metadata": {
        "colab": {
          "base_uri": "https://localhost:8080/",
          "height": 1000
        },
        "id": "5HyfaoeCBcSc",
        "outputId": "bb5d559d-5e8f-41b8-b2a1-c06ea2805ba3"
      },
      "outputs": [
        {
          "output_type": "stream",
          "name": "stderr",
          "text": [
            "/usr/local/lib/python3.9/dist-packages/seaborn/axisgrid.py:848: UserWarning: \n",
            "\n",
            "`distplot` is a deprecated function and will be removed in seaborn v0.14.0.\n",
            "\n",
            "Please adapt your code to use either `displot` (a figure-level function with\n",
            "similar flexibility) or `histplot` (an axes-level function for histograms).\n",
            "\n",
            "For a guide to updating your code to use the new functions, please see\n",
            "https://gist.github.com/mwaskom/de44147ed2974457ad6372750bbe5751\n",
            "\n",
            "  func(*plot_args, **plot_kwargs)\n",
            "/usr/local/lib/python3.9/dist-packages/seaborn/axisgrid.py:848: UserWarning: \n",
            "\n",
            "`distplot` is a deprecated function and will be removed in seaborn v0.14.0.\n",
            "\n",
            "Please adapt your code to use either `displot` (a figure-level function with\n",
            "similar flexibility) or `histplot` (an axes-level function for histograms).\n",
            "\n",
            "For a guide to updating your code to use the new functions, please see\n",
            "https://gist.github.com/mwaskom/de44147ed2974457ad6372750bbe5751\n",
            "\n",
            "  func(*plot_args, **plot_kwargs)\n",
            "/usr/local/lib/python3.9/dist-packages/seaborn/axisgrid.py:848: UserWarning: \n",
            "\n",
            "`distplot` is a deprecated function and will be removed in seaborn v0.14.0.\n",
            "\n",
            "Please adapt your code to use either `displot` (a figure-level function with\n",
            "similar flexibility) or `histplot` (an axes-level function for histograms).\n",
            "\n",
            "For a guide to updating your code to use the new functions, please see\n",
            "https://gist.github.com/mwaskom/de44147ed2974457ad6372750bbe5751\n",
            "\n",
            "  func(*plot_args, **plot_kwargs)\n",
            "/usr/local/lib/python3.9/dist-packages/seaborn/axisgrid.py:848: UserWarning: \n",
            "\n",
            "`distplot` is a deprecated function and will be removed in seaborn v0.14.0.\n",
            "\n",
            "Please adapt your code to use either `displot` (a figure-level function with\n",
            "similar flexibility) or `histplot` (an axes-level function for histograms).\n",
            "\n",
            "For a guide to updating your code to use the new functions, please see\n",
            "https://gist.github.com/mwaskom/de44147ed2974457ad6372750bbe5751\n",
            "\n",
            "  func(*plot_args, **plot_kwargs)\n",
            "/usr/local/lib/python3.9/dist-packages/seaborn/axisgrid.py:848: UserWarning: \n",
            "\n",
            "`distplot` is a deprecated function and will be removed in seaborn v0.14.0.\n",
            "\n",
            "Please adapt your code to use either `displot` (a figure-level function with\n",
            "similar flexibility) or `histplot` (an axes-level function for histograms).\n",
            "\n",
            "For a guide to updating your code to use the new functions, please see\n",
            "https://gist.github.com/mwaskom/de44147ed2974457ad6372750bbe5751\n",
            "\n",
            "  func(*plot_args, **plot_kwargs)\n",
            "/usr/local/lib/python3.9/dist-packages/seaborn/axisgrid.py:848: UserWarning: \n",
            "\n",
            "`distplot` is a deprecated function and will be removed in seaborn v0.14.0.\n",
            "\n",
            "Please adapt your code to use either `displot` (a figure-level function with\n",
            "similar flexibility) or `histplot` (an axes-level function for histograms).\n",
            "\n",
            "For a guide to updating your code to use the new functions, please see\n",
            "https://gist.github.com/mwaskom/de44147ed2974457ad6372750bbe5751\n",
            "\n",
            "  func(*plot_args, **plot_kwargs)\n",
            "/usr/local/lib/python3.9/dist-packages/seaborn/axisgrid.py:848: UserWarning: \n",
            "\n",
            "`distplot` is a deprecated function and will be removed in seaborn v0.14.0.\n",
            "\n",
            "Please adapt your code to use either `displot` (a figure-level function with\n",
            "similar flexibility) or `histplot` (an axes-level function for histograms).\n",
            "\n",
            "For a guide to updating your code to use the new functions, please see\n",
            "https://gist.github.com/mwaskom/de44147ed2974457ad6372750bbe5751\n",
            "\n",
            "  func(*plot_args, **plot_kwargs)\n",
            "/usr/local/lib/python3.9/dist-packages/seaborn/axisgrid.py:848: UserWarning: \n",
            "\n",
            "`distplot` is a deprecated function and will be removed in seaborn v0.14.0.\n",
            "\n",
            "Please adapt your code to use either `displot` (a figure-level function with\n",
            "similar flexibility) or `histplot` (an axes-level function for histograms).\n",
            "\n",
            "For a guide to updating your code to use the new functions, please see\n",
            "https://gist.github.com/mwaskom/de44147ed2974457ad6372750bbe5751\n",
            "\n",
            "  func(*plot_args, **plot_kwargs)\n",
            "/usr/local/lib/python3.9/dist-packages/seaborn/axisgrid.py:848: UserWarning: \n",
            "\n",
            "`distplot` is a deprecated function and will be removed in seaborn v0.14.0.\n",
            "\n",
            "Please adapt your code to use either `displot` (a figure-level function with\n",
            "similar flexibility) or `histplot` (an axes-level function for histograms).\n",
            "\n",
            "For a guide to updating your code to use the new functions, please see\n",
            "https://gist.github.com/mwaskom/de44147ed2974457ad6372750bbe5751\n",
            "\n",
            "  func(*plot_args, **plot_kwargs)\n",
            "/usr/local/lib/python3.9/dist-packages/seaborn/axisgrid.py:848: UserWarning: \n",
            "\n",
            "`distplot` is a deprecated function and will be removed in seaborn v0.14.0.\n",
            "\n",
            "Please adapt your code to use either `displot` (a figure-level function with\n",
            "similar flexibility) or `histplot` (an axes-level function for histograms).\n",
            "\n",
            "For a guide to updating your code to use the new functions, please see\n",
            "https://gist.github.com/mwaskom/de44147ed2974457ad6372750bbe5751\n",
            "\n",
            "  func(*plot_args, **plot_kwargs)\n",
            "/usr/local/lib/python3.9/dist-packages/seaborn/axisgrid.py:848: UserWarning: \n",
            "\n",
            "`distplot` is a deprecated function and will be removed in seaborn v0.14.0.\n",
            "\n",
            "Please adapt your code to use either `displot` (a figure-level function with\n",
            "similar flexibility) or `histplot` (an axes-level function for histograms).\n",
            "\n",
            "For a guide to updating your code to use the new functions, please see\n",
            "https://gist.github.com/mwaskom/de44147ed2974457ad6372750bbe5751\n",
            "\n",
            "  func(*plot_args, **plot_kwargs)\n",
            "/usr/local/lib/python3.9/dist-packages/seaborn/axisgrid.py:848: UserWarning: \n",
            "\n",
            "`distplot` is a deprecated function and will be removed in seaborn v0.14.0.\n",
            "\n",
            "Please adapt your code to use either `displot` (a figure-level function with\n",
            "similar flexibility) or `histplot` (an axes-level function for histograms).\n",
            "\n",
            "For a guide to updating your code to use the new functions, please see\n",
            "https://gist.github.com/mwaskom/de44147ed2974457ad6372750bbe5751\n",
            "\n",
            "  func(*plot_args, **plot_kwargs)\n"
          ]
        },
        {
          "output_type": "display_data",
          "data": {
            "text/plain": [
              "<Figure size 300.75x216 with 1 Axes>"
            ],
            "image/png": "[encoded data removed]"
          },
          "metadata": {
            "needs_background": "light"
          }
        },
        {
          "output_type": "display_data",
          "data": {
            "text/plain": [
              "<Figure size 300.75x216 with 1 Axes>"
            ],
            "image/png": "[encoded data removed]"
          },
          "metadata": {
            "needs_background": "light"
          }
        },
        {
          "output_type": "display_data",
          "data": {
            "text/plain": [
              "<Figure size 300.75x216 with 1 Axes>"
            ],
            "image/png": "[encoded data removed]"
          },
          "metadata": {
            "needs_background": "light"
          }
        },
        {
          "output_type": "display_data",
          "data": {
            "text/plain": [
              "<Figure size 300.75x216 with 1 Axes>"
            ],
            "image/png": "[encoded data removed]"
          },
          "metadata": {
            "needs_background": "light"
          }
        }
      ],
      "source": [
        "# iris dataset also normal distribution\n",
        "# importing packages\n",
        "import seaborn as sns\n",
        "import matplotlib.pyplot as plt\n",
        "\n",
        "plot = sns.FacetGrid(df, hue=\"species\")\n",
        "plot.map(sns.distplot, \"sepal_length\").add_legend()\n",
        "\n",
        "plot = sns.FacetGrid(df, hue=\"species\")\n",
        "plot.map(sns.distplot, \"sepal_width\").add_legend()\n",
        "\n",
        "plot = sns.FacetGrid(df, hue=\"species\")\n",
        "plot.map(sns.distplot, \"petal_length\").add_legend()\n",
        "\n",
        "plot = sns.FacetGrid(df, hue=\"species\")\n",
        "plot.map(sns.distplot, \"petal_width\").add_legend()\n",
        "\n",
        "plt.show()\n"
      ]
    },
    {
      "cell_type": "code",
      "execution_count": null,
      "metadata": {
        "id": "ogUiyhr9BcSc"
      },
      "outputs": [],
      "source": []
    },
    {
      "cell_type": "markdown",
      "metadata": {
        "id": "bKVvNQY6BcSc"
      },
      "source": [
        "**Q5: What is Bernaulli Distribution? Give an Example. What is the difference between Bernoulli\n",
        "Distribution and Binomial Distribution?**"
      ]
    },
    {
      "cell_type": "code",
      "execution_count": null,
      "metadata": {
        "id": "mouHB_CUBcSc"
      },
      "outputs": [],
      "source": []
    },
    {
      "cell_type": "markdown",
      "source": [
        "A random variable follows a Bernoulli distribution if it only has two possible outcomes: 0 or 1.\n",
        "\n",
        "For example, suppose we flip a coin one time. Let the probability that it lands on heads be p. This means the probability that it lands on tails is 1-p.\n",
        "Thus, we could write:\n",
        "\n",
        "x = { 1   with probability p  , 0  with probability  1-p.}\n",
        "\n",
        " random variable X follows a Bernoulli distribution. It can only take on two possible values.\n",
        " suppose we flip a coin 5 times and we want to know the probability of obtaining heads k times. We would say that the random variable X follows a Binomial distribution.\n",
        "\n",
        "If a random variable X follows a Binomial distribution, then the probability that X = k successes can be found by the following formula:\n",
        "\n",
        "P(X=k) = nCk * pk * (1-p)n-k\n",
        "where,\n",
        "\n",
        "- n: number of trials\n",
        "- k: number of successes\n",
        "- p: probability of success on a given trial\n",
        "- nCk: the number of ways to obtain k successes in n trials"
      ],
      "metadata": {
        "id": "hG04zEf_sVNh"
      }
    },
    {
      "cell_type": "code",
      "execution_count": null,
      "metadata": {
        "id": "pjNig7r4BcSd"
      },
      "outputs": [],
      "source": []
    },
    {
      "cell_type": "markdown",
      "metadata": {
        "id": "GHlvNUGYBcSd"
      },
      "source": [
        "**Q6. Consider a dataset with a mean of 50 and a standard deviation of 10. If we assume that the dataset\n",
        "is normally distributed, what is the probability that a randomly selected observation will be greater\n",
        "than 60? Use the appropriate formula and show your calculations.**"
      ]
    },
    {
      "cell_type": "markdown",
      "source": [
        "Raw score/observed value = X = 60\n",
        "\n",
        "Mean score = μ = 50\n",
        "\n",
        "Standard deviation = σ = 10\n",
        "\n",
        "formula of z-score,  \n",
        "\n",
        "z = (X – μ) / σ\n",
        "z= 60-50/ 10\n",
        "z= 1\n",
        "\n",
        " Since the Z-Score is positive 1, we will make use of the positive Z-Table.\n",
        "\n",
        " find the probability from the table.\n",
        "\n",
        "Here,  z-score = 0.85314\n"
      ],
      "metadata": {
        "id": "7ro_Tixu34u6"
      }
    },
    {
      "cell_type": "code",
      "execution_count": null,
      "metadata": {
        "id": "TNrkVHHSBcSd"
      },
      "outputs": [],
      "source": []
    },
    {
      "cell_type": "code",
      "source": [],
      "metadata": {
        "id": "8Yv0iBquxZuz"
      },
      "execution_count": null,
      "outputs": []
    },
    {
      "cell_type": "markdown",
      "metadata": {
        "id": "sYRiIukTBcSd"
      },
      "source": [
        "**Q7: Explain uniform Distribution with an example.**\n",
        "\n",
        "\n"
      ]
    },
    {
      "cell_type": "markdown",
      "source": [
        "\n",
        "\n",
        "**Uniform distribution** is a form of probability distribution in which an event is equally likely to occur within a certain interval. The random variable used in uniform distribution is a continuous random variable, which is plotted along the x-axis.\n",
        "-  A continuous random variable is said to follow a uniform distribution if the amplitude of the uniform distribution function remains constant between a certain range, say a and b, and is zero otherwise. The area under the curve of a probability distribution function is always equal to one; therefore, the value of the amplitude is equal to the reciprocal of the length of the range of the continuous random variable in consideration."
      ],
      "metadata": {
        "id": "3oXvfMKbvw0Q"
      }
    },
    {
      "cell_type": "markdown",
      "source": [
        "- A continuous probability distribution is a Uniform distribution and is related to the events which are equally likely to occur. It is defined by two parameters, x and y, where x = minimum value and y = maximum value. It is generally denoted by u(x, y).\n",
        "- Example 2: Rolling a Die\n",
        "If you roll a die one time, the probability that it falls on a number between 1 and 6 follows a uniform distribution because each number is equally likely to occur.\n",
        "\n",
        "For example, there are 6 possible numbers the die can land on so the probability that you roll a 1 is 1/6.\n",
        "\n",
        "Similarly, the probability that you roll a 2 is 1/6.\n",
        "\n",
        "Similarly, the probability that you roll a 3 is 1/6."
      ],
      "metadata": {
        "id": "0L-cU8V-wS26"
      }
    },
    {
      "cell_type": "code",
      "execution_count": null,
      "metadata": {
        "id": "nng8zw1YBcSd"
      },
      "outputs": [],
      "source": []
    },
    {
      "cell_type": "markdown",
      "metadata": {
        "id": "x5chrj3GBcSd"
      },
      "source": [
        "**Q8: What is the z score? State the importance of the z score.**"
      ]
    },
    {
      "cell_type": "code",
      "execution_count": null,
      "metadata": {
        "id": "wHrISoIIBcSd"
      },
      "outputs": [],
      "source": []
    },
    {
      "cell_type": "markdown",
      "source": [
        "- A z-score measures the distance between a data point and the mean using standard deviations. Z-scores can be positive or negative. The sign tells you whether the observation is above or below the mean. For example, a z-score of +2 indicates that the data point falls two standard deviations above the mean, while a -2 signifies it is two standard deviations below the mean. A z-score of zero equals the mean.\n",
        "A measure of how many standard deviations below or above the population mean a raw score is called z score.\n",
        "\n",
        "- Understand where a data point fits into a distribution.\n",
        "- Compare observations between dissimilar variables.\n",
        "- Identify outliers\n",
        "- Calculate probabilities and percentiles using the standard normal distribution.\n",
        "\n",
        "- Formula\n",
        "The equation is given by z = (x – μ)/ σ.\n",
        "\n",
        "- μ = mean\n",
        "\n",
        "- σ = standard deviation\n",
        "\n",
        "- x = test value\n",
        "\n",
        "When we have multiple samples and want to describe the standard deviation of those sample means, we use the following formula:\n",
        "\n",
        "z = (x – μ)/ (σ/√n)"
      ],
      "metadata": {
        "id": "FTf8n1GRyL1r"
      }
    },
    {
      "cell_type": "markdown",
      "source": [
        "**Interpretation**\n",
        "1. If a z-score is equal to -1, then it denotes an element, which is 1 standard deviation less than the mean.\n",
        "\n",
        "2. If a z score is less than 0, then it denotes an element less than the mean.\n",
        "\n",
        "3. If a z score is greater than 0, then it denotes an element greater than the mean.\n",
        "\n",
        "4. If the z score is equal to 0, then it denotes an element equal to the mean.\n",
        "\n",
        "5. If the z score is equal to 1, it denotes an element, which is 1 standard deviation greater than the mean; a z score equal to 2 signifies 2 standard deviations greater than the mean; etc."
      ],
      "metadata": {
        "id": "SCR3ztHUzDcC"
      }
    },
    {
      "cell_type": "code",
      "execution_count": null,
      "metadata": {
        "id": "Avm_lq_fBcSe"
      },
      "outputs": [],
      "source": []
    },
    {
      "cell_type": "markdown",
      "metadata": {
        "id": "aNmQNCJqBcSe"
      },
      "source": [
        "**Q9: What is Central Limit Theorem? State the significance of the Central Limit Theorem.**"
      ]
    },
    {
      "cell_type": "markdown",
      "source": [
        "- The central limit theorem states that if you take sufficiently large samples from a population, the samples’ means will be normally distributed, even if the population isn’t normally distributed.\n",
        "    - A population follows a Poisson distribution (left image). If we take 10,000 samples from the population, each with a sample size of 50, the sample means follow a normal distribution, as predicted by the central limit theorem.\n",
        "    - Parametric tests, such as t tests, ANOVAs, and linear regression, have more statistical power than most non-parametric tests. Their statistical power comes from assumptions about populations’ distributions that are based on the central limit theorem.\n",
        "    "
      ],
      "metadata": {
        "id": "MfNdEjyTzSuO"
      }
    },
    {
      "cell_type": "markdown",
      "source": [
        "The **Central Limit Theorem** has several applications. Look at the places where you can use it.\n",
        "\n",
        "Political/election polling is a great example of how you can use CLT. These polls are used to estimate the number of people who support a specific candidate. You may have seen these results with confidence intervals on news channels. The Central Limit Theorem aids in this calculation.\n",
        "You use the Central Limit Theorem in various census fields to calculate various population details, such as family income, electricity consumption, individual salaries, and so on."
      ],
      "metadata": {
        "id": "_AHptqFc2vRy"
      }
    },
    {
      "cell_type": "code",
      "execution_count": null,
      "metadata": {
        "id": "7qu99HtsBcSe"
      },
      "outputs": [],
      "source": []
    },
    {
      "cell_type": "code",
      "execution_count": null,
      "metadata": {
        "id": "JdI8bS49BcSe"
      },
      "outputs": [],
      "source": []
    },
    {
      "cell_type": "markdown",
      "metadata": {
        "id": "aRFYMFjCBcSe"
      },
      "source": [
        "**Q10: State the assumptions of the Central Limit Theorem.**"
      ]
    },
    {
      "cell_type": "markdown",
      "source": [
        "**Assumptions Behind the Central Limit Theorem**\n",
        " it is important to understand the assumptions behind CLT:\n",
        "\n",
        "The data must adhere to the randomization rule. It needs to be sampled at random.\n",
        "The samples should be unrelated to one another. One sample should not impact the others.\n",
        "When taking samples without replacement, the sample size should not exceed 10% of the population.\n",
        "When the population is symmetric, a sample size of 30 is generally considered reasonable."
      ],
      "metadata": {
        "id": "X8RSEeg53KGX"
      }
    },
    {
      "cell_type": "code",
      "execution_count": null,
      "metadata": {
        "id": "8niWKFA9BcSe"
      },
      "outputs": [],
      "source": []
    },
    {
      "cell_type": "code",
      "execution_count": null,
      "metadata": {
        "id": "7L_OCBoaBcSe"
      },
      "outputs": [],
      "source": []
    }
  ],
  "metadata": {
    "kernelspec": {
      "display_name": "Python 3",
      "language": "python",
      "name": "python3"
    },
    "language_info": {
      "codemirror_mode": {
        "name": "ipython",
        "version": 3
      },
      "file_extension": ".py",
      "mimetype": "text/x-python",
      "name": "python",
      "nbconvert_exporter": "python",
      "pygments_lexer": "ipython3",
      "version": "3.7.3"
    },
    "colab": {
      "provenance": [],
      "include_colab_link": true
    }
  },
  "nbformat": 4,
  "nbformat_minor": 0
}